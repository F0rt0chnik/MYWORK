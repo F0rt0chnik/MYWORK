{
 "cells": [
  {
   "cell_type": "markdown",
   "metadata": {},
   "source": [
    "## Линейная классификация"
   ]
  },
  {
   "cell_type": "code",
   "execution_count": 1,
   "metadata": {},
   "outputs": [],
   "source": [
    "import numpy as np\n",
    "import pandas as pd\n",
    "import matplotlib.pyplot as plt\n",
    "%matplotlib inline\n",
    "\n",
    "pd.set_option('display.max_rows', 100)\n",
    "pd.set_option('display.max_columns', 100)"
   ]
  },
  {
   "cell_type": "code",
   "execution_count": 2,
   "metadata": {},
   "outputs": [],
   "source": [
    "import warnings\n",
    "import time\n",
    "import matplotlib.pyplot as plt\n",
    "from sklearn.svm import LinearSVC, SVC\n",
    "from sklearn.model_selection import train_test_split\n",
    "from sklearn.metrics import roc_auc_score, roc_curve, auc, precision_recall_curve, average_precision_score\n",
    "from sklearn.linear_model import LogisticRegression\n",
    "from sklearn.calibration import CalibratedClassifierCV\n",
    "from sklearn.preprocessing import StandardScaler, OneHotEncoder, OrdinalEncoder\n",
    "from sklearn.exceptions import ConvergenceWarning\n",
    "from sklearn.metrics import PrecisionRecallDisplay\n",
    "\n",
    "from sklearn.datasets import make_classification\n",
    "from sklearn.model_selection import train_test_split\n"
   ]
  },
  {
   "cell_type": "code",
   "execution_count": 5,
   "metadata": {},
   "outputs": [],
   "source": [
    "warnings.filterwarnings(\"ignore\", category=ConvergenceWarning)\n",
    "warnings.filterwarnings(\"ignore\", category=FutureWarning)"
   ]
  },
  {
   "cell_type": "markdown",
   "metadata": {},
   "source": [
    "# Смотрим на SVM, LR "
   ]
  },
  {
   "cell_type": "code",
   "execution_count": 7,
   "metadata": {},
   "outputs": [],
   "source": [
    "# Сгенерируем синтетические данные.\n",
    "X, y = make_classification(\n",
    "    n_samples=10000, n_features=10, n_informative=5, n_redundant=5,\n",
    "    random_state=42)"
   ]
  },
  {
   "cell_type": "code",
   "execution_count": 9,
   "metadata": {},
   "outputs": [
    {
     "data": {
      "text/plain": [
       "(10000, 10)"
      ]
     },
     "execution_count": 9,
     "metadata": {},
     "output_type": "execute_result"
    }
   ],
   "source": [
    "X.shape"
   ]
  },
  {
   "cell_type": "markdown",
   "metadata": {},
   "source": [
    "✅\n",
    "- Обучите метод опорных векторов. \n",
    "- Подберите параметр регуляризации `C`, подбирайте оптимальные гиперпараметры с точки зрения AUC-PR"
   ]
  },
  {
   "cell_type": "code",
   "execution_count": 11,
   "metadata": {},
   "outputs": [],
   "source": [
    "def auc_pr(y_test, y_pred):\n",
    "    precision, recall, th = precision_recall_curve(y_test, y_pred)\n",
    "    return auc(recall, precision)"
   ]
  },
  {
   "cell_type": "code",
   "execution_count": 13,
   "metadata": {},
   "outputs": [],
   "source": [
    "scl = StandardScaler()\n",
    "X = scl.fit_transform(X)"
   ]
  },
  {
   "cell_type": "code",
   "execution_count": 15,
   "metadata": {},
   "outputs": [],
   "source": [
    "X_train, X_test, y_train, y_test = train_test_split(X, y, test_size = 0.3, random_state = 42)\n",
    "\n",
    "X_train1, X_val, y_train1, y_val = train_test_split(X_train, y_train, test_size = 0.25, random_state = 42)"
   ]
  },
  {
   "cell_type": "code",
   "execution_count": 17,
   "metadata": {},
   "outputs": [],
   "source": [
    "def c_best_selection(C_set, clf, X_t, y_t, X_val, y_val):\n",
    "    auc_p_r = 0\n",
    "    C = 1.0\n",
    "    \n",
    "    for C_i in C_set:\n",
    "        clf.C = C_i\n",
    "        \n",
    "        clf.fit(X_t, y_t)\n",
    "        a_x = clf.predict(X_val)\n",
    "        \n",
    "        precision, recall, th = precision_recall_curve(y_val, a_x)\n",
    "        \n",
    "        auc_precision_recall = auc(recall, precision)\n",
    "        \n",
    "        if auc_precision_recall > auc_p_r:\n",
    "            auc_p_r = auc_precision_recall\n",
    "            C = C_i\n",
    "            \n",
    "    print(\"Подобранный параметр С:\", C)\n",
    "    return C\n",
    "    "
   ]
  },
  {
   "cell_type": "code",
   "execution_count": 19,
   "metadata": {},
   "outputs": [
    {
     "name": "stdout",
     "output_type": "stream",
     "text": [
      "Подобранный параметр С: 95.00099999999999\n"
     ]
    }
   ],
   "source": [
    "best_c_linearSVC = c_best_selection(np.arange(0.001, 100, 1), LinearSVC(), X_train1, y_train1, X_val,  y_val)"
   ]
  },
  {
   "cell_type": "markdown",
   "metadata": {},
   "source": [
    "✅ На тестовой части постройте ROC и PR кривые, а также посчитайте AUC-ROC, AUC-PR с точностью до 5 знаков. Сравните AUC-ROC и AUC-PR для вашей модели с этими же метриками для случайного классификатора (который на каждом объекте выдаёт один из двух классов с равными вероятностями)."
   ]
  },
  {
   "cell_type": "markdown",
   "metadata": {},
   "source": [
    "### Считаем"
   ]
  },
  {
   "cell_type": "code",
   "execution_count": 21,
   "metadata": {},
   "outputs": [],
   "source": [
    "clf = LinearSVC()\n",
    "clf.C = best_c_linearSVC\n",
    "clf.fit(X_train, y_train)\n",
    "a_x = clf.predict(X_test)"
   ]
  },
  {
   "cell_type": "code",
   "execution_count": 23,
   "metadata": {},
   "outputs": [],
   "source": [
    "precision, recall, th_pr = precision_recall_curve(y_test, a_x)\n",
    "fpr, tpr, th_roc = roc_curve(y_test, a_x)"
   ]
  },
  {
   "cell_type": "code",
   "execution_count": 25,
   "metadata": {},
   "outputs": [
    {
     "name": "stdout",
     "output_type": "stream",
     "text": [
      "AUC_ROC: 0.70742\n",
      "AUC_PR: 0.78344\n"
     ]
    }
   ],
   "source": [
    "print(\"AUC_ROC: %0.5f\" % auc(fpr, tpr))\n",
    "print(\"AUC_PR: %0.5f\"% auc(recall, precision))"
   ]
  },
  {
   "cell_type": "code",
   "execution_count": 27,
   "metadata": {},
   "outputs": [
    {
     "data": {
      "text/plain": [
       "array([0.        , 0.28523264, 1.        ])"
      ]
     },
     "execution_count": 27,
     "metadata": {},
     "output_type": "execute_result"
    }
   ],
   "source": [
    "fpr"
   ]
  },
  {
   "cell_type": "markdown",
   "metadata": {},
   "source": [
    "### Строим"
   ]
  },
  {
   "cell_type": "code",
   "execution_count": 29,
   "metadata": {},
   "outputs": [
    {
     "data": {
      "image/png": "[encoded data removed]",
      "text/plain": [
       "<Figure size 900x500 with 1 Axes>"
      ]
     },
     "metadata": {},
     "output_type": "display_data"
    }
   ],
   "source": [
    "plt.figure(figsize=(9,5))\n",
    "\n",
    "plt.plot(fpr, tpr, label=\"ROC\")\n",
    "plt.plot([0,1],[0,1], linestyle='--')\n",
    "\n",
    "\n",
    "plt.grid(True)\n",
    "plt.title('AUC-ROC')\n",
    "plt.xlabel(\"FPR\")\n",
    "plt.ylabel(\"TPR\")\n",
    "plt.show()"
   ]
  },
  {
   "cell_type": "code",
   "execution_count": 31,
   "metadata": {},
   "outputs": [
    {
     "data": {
      "text/plain": [
       "array([1.        , 0.70006592, 0.        ])"
      ]
     },
     "execution_count": 31,
     "metadata": {},
     "output_type": "execute_result"
    }
   ],
   "source": [
    "recall"
   ]
  },
  {
   "cell_type": "code",
   "execution_count": 33,
   "metadata": {},
   "outputs": [
    {
     "data": {
      "text/plain": [
       "array([0.50566667, 0.71515152, 1.        ])"
      ]
     },
     "execution_count": 33,
     "metadata": {},
     "output_type": "execute_result"
    }
   ],
   "source": [
    "precision"
   ]
  },
  {
   "cell_type": "code",
   "execution_count": 35,
   "metadata": {},
   "outputs": [
    {
     "data": {
      "image/png": "[encoded data removed]",
      "text/plain": [
       "<Figure size 900x500 with 1 Axes>"
      ]
     },
     "metadata": {},
     "output_type": "display_data"
    }
   ],
   "source": [
    "plt.figure(figsize=(9,5))\n",
    "\n",
    "plt.plot(recall, precision, label=\"PR\")\n",
    "plt.plot([1, 0], [precision[0], 1], linestyle='--')\n",
    "\n",
    "plt.grid(True)\n",
    "plt.title('AUC-PR')\n",
    "plt.xlabel(\"recall\")\n",
    "plt.ylabel(\"precision\")\n",
    "plt.show()"
   ]
  },
  {
   "cell_type": "markdown",
   "metadata": {},
   "source": [
    "✅ \n",
    "- Проделайте все то же самое для логистической регрессии (LR) — обучение, подбор параметра регуляризации (используйте L2-регуляризацию), вычисление всех метрик и построение кривых. \n",
    "- Сравните результаты LR и SVM с точки зрения всех вычисленных критериев качества."
   ]
  },
  {
   "cell_type": "code",
   "execution_count": 37,
   "metadata": {},
   "outputs": [
    {
     "name": "stdout",
     "output_type": "stream",
     "text": [
      "Подобранный параметр С: 1.001\n"
     ]
    }
   ],
   "source": [
    "best_c_LR = c_best_selection(np.arange(0.001, 100, 1), LogisticRegression(), X_train1, y_train1, X_val,  y_val)"
   ]
  },
  {
   "cell_type": "code",
   "execution_count": 39,
   "metadata": {},
   "outputs": [
    {
     "name": "stdout",
     "output_type": "stream",
     "text": [
      "AUC_ROC: 0.77134\n",
      "AUC_PR: 0.83116\n"
     ]
    }
   ],
   "source": [
    "clf = LogisticRegression()\n",
    "clf.C = best_c_LR\n",
    "clf.fit(X_train, y_train)\n",
    "a_x = clf.predict(X_test)\n",
    "\n",
    "precision, recall, th_pr = precision_recall_curve(y_test, a_x)\n",
    "fpr, tpr, th_roc = roc_curve(y_test, a_x)\n",
    "\n",
    "print(\"AUC_ROC: %0.5f\" % auc(fpr, tpr))\n",
    "print(\"AUC_PR: %0.5f\"% auc(recall, precision))"
   ]
  },
  {
   "cell_type": "markdown",
   "metadata": {},
   "source": [
    "### Строим"
   ]
  },
  {
   "cell_type": "code",
   "execution_count": 41,
   "metadata": {},
   "outputs": [
    {
     "data": {
      "image/png": "[encoded data removed]",
      "text/plain": [
       "<Figure size 900x500 with 1 Axes>"
      ]
     },
     "metadata": {},
     "output_type": "display_data"
    }
   ],
   "source": [
    "plt.figure(figsize=(9,5))\n",
    "\n",
    "plt.plot(fpr, tpr, label=\"ROC\")\n",
    "plt.plot([0,1],[0,1], linestyle='--')\n",
    "\n",
    "\n",
    "plt.grid(True)\n",
    "plt.title('AUC-ROC')\n",
    "plt.xlabel(\"FPR\")\n",
    "plt.ylabel(\"TPR\")\n",
    "plt.show()"
   ]
  },
  {
   "cell_type": "code",
   "execution_count": 43,
   "metadata": {},
   "outputs": [
    {
     "data": {
      "text/plain": [
       "array([0.50566667, 0.77571334, 1.        ])"
      ]
     },
     "execution_count": 43,
     "metadata": {},
     "output_type": "execute_result"
    }
   ],
   "source": [
    "precision"
   ]
  },
  {
   "cell_type": "code",
   "execution_count": 45,
   "metadata": {},
   "outputs": [
    {
     "data": {
      "image/png": "[encoded data removed]",
      "text/plain": [
       "<Figure size 900x500 with 1 Axes>"
      ]
     },
     "metadata": {},
     "output_type": "display_data"
    }
   ],
   "source": [
    "plt.figure(figsize=(9,5))\n",
    "\n",
    "plt.plot(recall, precision, label=\"PR\")\n",
    "plt.plot([1, 0], [precision[0], 1], linestyle='--')\n",
    "\n",
    "plt.grid(True)\n",
    "plt.title('AUC-PR')\n",
    "plt.xlabel(\"recall\")\n",
    "plt.ylabel(\"precision\")\n",
    "plt.show()"
   ]
  },
  {
   "cell_type": "markdown",
   "metadata": {},
   "source": [
    "# 📌 Работаем с признаками"
   ]
  },
  {
   "cell_type": "markdown",
   "metadata": {},
   "source": [
    "\n",
    "Начнём с one-hot-кодирования. Допустим наш категориальный признак $f_j(x)$ принимает значения из множества $C=\\{c_1, \\dots, c_m\\}$. Заменим его на $m$ бинарных признаков $b_1(x), \\dots, b_m(x)$, каждый из которых является индикатором одного из возможных категориальных значений:\n",
    "$$\n",
    "b_i(x) = [f_j(x) = c_i]\n",
    "$$"
   ]
  },
  {
   "cell_type": "markdown",
   "metadata": {},
   "source": [
    "✅ Загрузим данные [UCI Bank Marketing Dataset](https://archive.ics.uci.edu/ml/datasets/bank+marketing)"
   ]
  },
  {
   "cell_type": "code",
   "execution_count": 140,
   "metadata": {},
   "outputs": [],
   "source": [
    "df = pd.read_csv('bank-additional-full.csv', sep=';')"
   ]
  },
  {
   "cell_type": "code",
   "execution_count": 52,
   "metadata": {},
   "outputs": [
    {
     "data": {
      "text/html": [
       "<div>\n",
       "<style scoped>\n",
       "    .dataframe tbody tr th:only-of-type {\n",
       "        vertical-align: middle;\n",
       "    }\n",
       "\n",
       "    .dataframe tbody tr th {\n",
       "        vertical-align: top;\n",
       "    }\n",
       "\n",
       "    .dataframe thead th {\n",
       "        text-align: right;\n",
       "    }\n",
       "</style>\n",
       "<table border=\"1\" class=\"dataframe\">\n",
       "  <thead>\n",
       "    <tr style=\"text-align: right;\">\n",
       "      <th></th>\n",
       "      <th>age</th>\n",
       "      <th>job</th>\n",
       "      <th>marital</th>\n",
       "      <th>education</th>\n",
       "      <th>default</th>\n",
       "      <th>housing</th>\n",
       "      <th>loan</th>\n",
       "      <th>contact</th>\n",
       "      <th>month</th>\n",
       "      <th>day_of_week</th>\n",
       "      <th>duration</th>\n",
       "      <th>campaign</th>\n",
       "      <th>pdays</th>\n",
       "      <th>previous</th>\n",
       "      <th>poutcome</th>\n",
       "      <th>emp.var.rate</th>\n",
       "      <th>cons.price.idx</th>\n",
       "      <th>cons.conf.idx</th>\n",
       "      <th>euribor3m</th>\n",
       "      <th>nr.employed</th>\n",
       "      <th>y</th>\n",
       "    </tr>\n",
       "  </thead>\n",
       "  <tbody>\n",
       "    <tr>\n",
       "      <th>0</th>\n",
       "      <td>56</td>\n",
       "      <td>housemaid</td>\n",
       "      <td>married</td>\n",
       "      <td>basic.4y</td>\n",
       "      <td>no</td>\n",
       "      <td>no</td>\n",
       "      <td>no</td>\n",
       "      <td>telephone</td>\n",
       "      <td>may</td>\n",
       "      <td>mon</td>\n",
       "      <td>261</td>\n",
       "      <td>1</td>\n",
       "      <td>999</td>\n",
       "      <td>0</td>\n",
       "      <td>nonexistent</td>\n",
       "      <td>1.1</td>\n",
       "      <td>93.994</td>\n",
       "      <td>-36.4</td>\n",
       "      <td>4.857</td>\n",
       "      <td>5191.0</td>\n",
       "      <td>no</td>\n",
       "    </tr>\n",
       "    <tr>\n",
       "      <th>1</th>\n",
       "      <td>57</td>\n",
       "      <td>services</td>\n",
       "      <td>married</td>\n",
       "      <td>high.school</td>\n",
       "      <td>unknown</td>\n",
       "      <td>no</td>\n",
       "      <td>no</td>\n",
       "      <td>telephone</td>\n",
       "      <td>may</td>\n",
       "      <td>mon</td>\n",
       "      <td>149</td>\n",
       "      <td>1</td>\n",
       "      <td>999</td>\n",
       "      <td>0</td>\n",
       "      <td>nonexistent</td>\n",
       "      <td>1.1</td>\n",
       "      <td>93.994</td>\n",
       "      <td>-36.4</td>\n",
       "      <td>4.857</td>\n",
       "      <td>5191.0</td>\n",
       "      <td>no</td>\n",
       "    </tr>\n",
       "    <tr>\n",
       "      <th>2</th>\n",
       "      <td>37</td>\n",
       "      <td>services</td>\n",
       "      <td>married</td>\n",
       "      <td>high.school</td>\n",
       "      <td>no</td>\n",
       "      <td>yes</td>\n",
       "      <td>no</td>\n",
       "      <td>telephone</td>\n",
       "      <td>may</td>\n",
       "      <td>mon</td>\n",
       "      <td>226</td>\n",
       "      <td>1</td>\n",
       "      <td>999</td>\n",
       "      <td>0</td>\n",
       "      <td>nonexistent</td>\n",
       "      <td>1.1</td>\n",
       "      <td>93.994</td>\n",
       "      <td>-36.4</td>\n",
       "      <td>4.857</td>\n",
       "      <td>5191.0</td>\n",
       "      <td>no</td>\n",
       "    </tr>\n",
       "    <tr>\n",
       "      <th>3</th>\n",
       "      <td>40</td>\n",
       "      <td>admin.</td>\n",
       "      <td>married</td>\n",
       "      <td>basic.6y</td>\n",
       "      <td>no</td>\n",
       "      <td>no</td>\n",
       "      <td>no</td>\n",
       "      <td>telephone</td>\n",
       "      <td>may</td>\n",
       "      <td>mon</td>\n",
       "      <td>151</td>\n",
       "      <td>1</td>\n",
       "      <td>999</td>\n",
       "      <td>0</td>\n",
       "      <td>nonexistent</td>\n",
       "      <td>1.1</td>\n",
       "      <td>93.994</td>\n",
       "      <td>-36.4</td>\n",
       "      <td>4.857</td>\n",
       "      <td>5191.0</td>\n",
       "      <td>no</td>\n",
       "    </tr>\n",
       "    <tr>\n",
       "      <th>4</th>\n",
       "      <td>56</td>\n",
       "      <td>services</td>\n",
       "      <td>married</td>\n",
       "      <td>high.school</td>\n",
       "      <td>no</td>\n",
       "      <td>no</td>\n",
       "      <td>yes</td>\n",
       "      <td>telephone</td>\n",
       "      <td>may</td>\n",
       "      <td>mon</td>\n",
       "      <td>307</td>\n",
       "      <td>1</td>\n",
       "      <td>999</td>\n",
       "      <td>0</td>\n",
       "      <td>nonexistent</td>\n",
       "      <td>1.1</td>\n",
       "      <td>93.994</td>\n",
       "      <td>-36.4</td>\n",
       "      <td>4.857</td>\n",
       "      <td>5191.0</td>\n",
       "      <td>no</td>\n",
       "    </tr>\n",
       "  </tbody>\n",
       "</table>\n",
       "</div>"
      ],
      "text/plain": [
       "   age        job  marital    education  default housing loan    contact  \\\n",
       "0   56  housemaid  married     basic.4y       no      no   no  telephone   \n",
       "1   57   services  married  high.school  unknown      no   no  telephone   \n",
       "2   37   services  married  high.school       no     yes   no  telephone   \n",
       "3   40     admin.  married     basic.6y       no      no   no  telephone   \n",
       "4   56   services  married  high.school       no      no  yes  telephone   \n",
       "\n",
       "  month day_of_week  duration  campaign  pdays  previous     poutcome  \\\n",
       "0   may         mon       261         1    999         0  nonexistent   \n",
       "1   may         mon       149         1    999         0  nonexistent   \n",
       "2   may         mon       226         1    999         0  nonexistent   \n",
       "3   may         mon       151         1    999         0  nonexistent   \n",
       "4   may         mon       307         1    999         0  nonexistent   \n",
       "\n",
       "   emp.var.rate  cons.price.idx  cons.conf.idx  euribor3m  nr.employed   y  \n",
       "0           1.1          93.994          -36.4      4.857       5191.0  no  \n",
       "1           1.1          93.994          -36.4      4.857       5191.0  no  \n",
       "2           1.1          93.994          -36.4      4.857       5191.0  no  \n",
       "3           1.1          93.994          -36.4      4.857       5191.0  no  \n",
       "4           1.1          93.994          -36.4      4.857       5191.0  no  "
      ]
     },
     "execution_count": 52,
     "metadata": {},
     "output_type": "execute_result"
    }
   ],
   "source": [
    "df.head()"
   ]
  },
  {
   "cell_type": "code",
   "execution_count": 54,
   "metadata": {},
   "outputs": [
    {
     "data": {
      "text/plain": [
       "(41188, 21)"
      ]
     },
     "execution_count": 54,
     "metadata": {},
     "output_type": "execute_result"
    }
   ],
   "source": [
    "df.shape"
   ]
  },
  {
   "cell_type": "markdown",
   "metadata": {},
   "source": [
    "✅ \n",
    " - Разделите выборку на обучающую и тестовую в соотношении 3:1. \n",
    " - Зафиксируйте `random_state=777`, используйте `stratify`.\n",
    " - Удалите столбец, который не несет информации для решения задачи. \n",
    "\n"
   ]
  },
  {
   "cell_type": "code",
   "execution_count": 56,
   "metadata": {},
   "outputs": [
    {
     "data": {
      "text/plain": [
       "array(['no', 'yes'], dtype=object)"
      ]
     },
     "execution_count": 56,
     "metadata": {},
     "output_type": "execute_result"
    }
   ],
   "source": [
    "df[\"y\"].unique()"
   ]
  },
  {
   "cell_type": "code",
   "execution_count": 58,
   "metadata": {},
   "outputs": [],
   "source": [
    "df.loc[df['y'] == 'yes', 'y'] = 0\n",
    "df.loc[df['y'] == 'no', 'y'] = 1"
   ]
  },
  {
   "cell_type": "code",
   "execution_count": 60,
   "metadata": {},
   "outputs": [
    {
     "data": {
      "text/plain": [
       "(41188, 21)"
      ]
     },
     "execution_count": 60,
     "metadata": {},
     "output_type": "execute_result"
    }
   ],
   "source": [
    "df.shape"
   ]
  },
  {
   "cell_type": "markdown",
   "metadata": {},
   "source": [
    "✅ \n",
    "- Закодируйте категориальные признаки с помощью `OrdinalEncoder`. Посчитайте качество (в этом задании будем работать c `AUC-PR`) при применении логистической регрессии. Замерьте время, потребовавшееся на обучение модели (с учетом кодирования признаков).\n",
    "\n",
    "- Почему в данном задании мы выбрали метрикой именно `AUC-PR`, а не, к примеру, `AUC-ROC`?"
   ]
  },
  {
   "cell_type": "markdown",
   "metadata": {},
   "source": [
    "**Разделим признаки на категориальные и вещественные**"
   ]
  },
  {
   "cell_type": "code",
   "execution_count": 62,
   "metadata": {},
   "outputs": [],
   "source": [
    "cat = ['job', 'marital', 'education', 'default', 'housing',\n",
    "            'loan', 'contact', 'month', 'day_of_week', 'poutcome']\n",
    "\n",
    "num = ['duration', 'age', 'campaign', 'pdays', 'previous', 'emp.var.rate',\n",
    "          'cons.conf.idx', 'cons.price.idx', 'euribor3m', 'nr.employed']"
   ]
  },
  {
   "cell_type": "markdown",
   "metadata": {},
   "source": [
    "### Подготовка к обучению модели"
   ]
  },
  {
   "cell_type": "code",
   "execution_count": 64,
   "metadata": {},
   "outputs": [],
   "source": [
    "from sklearn.compose import ColumnTransformer\n",
    "from sklearn.pipeline import Pipeline"
   ]
  },
  {
   "cell_type": "code",
   "execution_count": 66,
   "metadata": {},
   "outputs": [],
   "source": [
    "#для кодирования категориальных признаков используем OrdinalEncoder\n",
    "enc = OrdinalEncoder()"
   ]
  },
  {
   "cell_type": "code",
   "execution_count": 68,
   "metadata": {},
   "outputs": [],
   "source": [
    "#вещественные признаки также отмасштабируем\n",
    "data = ColumnTransformer([\n",
    "                     ('cat', enc, cat),\n",
    "                     ('num', StandardScaler(), num)\n",
    "                     ])\n",
    "\n",
    "\n",
    "#создадим пайплайн с LogisticRegression регрессией и кодировщиком данных \n",
    "clf = Pipeline(steps=[\n",
    "                   ('enc_and_st_scaler', data),\n",
    "                   ('classifier', LogisticRegression())\n",
    "                   ])"
   ]
  },
  {
   "cell_type": "markdown",
   "metadata": {},
   "source": [
    "### Переходим к обучению "
   ]
  },
  {
   "cell_type": "code",
   "execution_count": 70,
   "metadata": {},
   "outputs": [],
   "source": [
    "df_ = pd.DataFrame({'name': ['n', 'n', 'v', 'm', 'v', 'n']})"
   ]
  },
  {
   "cell_type": "code",
   "execution_count": 72,
   "metadata": {},
   "outputs": [
    {
     "data": {
      "text/html": [
       "<div>\n",
       "<style scoped>\n",
       "    .dataframe tbody tr th:only-of-type {\n",
       "        vertical-align: middle;\n",
       "    }\n",
       "\n",
       "    .dataframe tbody tr th {\n",
       "        vertical-align: top;\n",
       "    }\n",
       "\n",
       "    .dataframe thead th {\n",
       "        text-align: right;\n",
       "    }\n",
       "</style>\n",
       "<table border=\"1\" class=\"dataframe\">\n",
       "  <thead>\n",
       "    <tr style=\"text-align: right;\">\n",
       "      <th></th>\n",
       "      <th>name</th>\n",
       "    </tr>\n",
       "  </thead>\n",
       "  <tbody>\n",
       "    <tr>\n",
       "      <th>0</th>\n",
       "      <td>n</td>\n",
       "    </tr>\n",
       "    <tr>\n",
       "      <th>1</th>\n",
       "      <td>n</td>\n",
       "    </tr>\n",
       "    <tr>\n",
       "      <th>2</th>\n",
       "      <td>v</td>\n",
       "    </tr>\n",
       "    <tr>\n",
       "      <th>3</th>\n",
       "      <td>m</td>\n",
       "    </tr>\n",
       "    <tr>\n",
       "      <th>4</th>\n",
       "      <td>v</td>\n",
       "    </tr>\n",
       "    <tr>\n",
       "      <th>5</th>\n",
       "      <td>n</td>\n",
       "    </tr>\n",
       "  </tbody>\n",
       "</table>\n",
       "</div>"
      ],
      "text/plain": [
       "  name\n",
       "0    n\n",
       "1    n\n",
       "2    v\n",
       "3    m\n",
       "4    v\n",
       "5    n"
      ]
     },
     "execution_count": 72,
     "metadata": {},
     "output_type": "execute_result"
    }
   ],
   "source": [
    "df_"
   ]
  },
  {
   "cell_type": "code",
   "execution_count": 74,
   "metadata": {},
   "outputs": [
    {
     "data": {
      "text/plain": [
       "array([[1.],\n",
       "       [1.],\n",
       "       [2.],\n",
       "       [0.],\n",
       "       [2.],\n",
       "       [1.]])"
      ]
     },
     "execution_count": 74,
     "metadata": {},
     "output_type": "execute_result"
    }
   ],
   "source": [
    "enc.fit_transform(df_)"
   ]
  },
  {
   "cell_type": "code",
   "execution_count": 76,
   "metadata": {},
   "outputs": [],
   "source": [
    "X_train, X_test, y_train, y_test = train_test_split(df.drop(columns='y'),\n",
    "                                    df['y'], test_size = 0.3,\n",
    "                                    random_state=777, stratify=df['y'])\n",
    "\n",
    "y_train = y_train.astype('int')\n",
    "y_test = y_test.astype('int')"
   ]
  },
  {
   "cell_type": "code",
   "execution_count": 78,
   "metadata": {},
   "outputs": [
    {
     "name": "stdout",
     "output_type": "stream",
     "text": [
      "Время на обучение OrdinalEncoder: 0.21066617965698242\n",
      "AUC-PR на OrdinalEncoder = 0.96217\n",
      "Кол-во столбцов 20\n"
     ]
    }
   ],
   "source": [
    "start_time = time.time()\n",
    "model = clf.fit(X_train, y_train)\n",
    "y_pred = model.predict(X_test)\n",
    "\n",
    "print('Время на обучение OrdinalEncoder:', time.time()-start_time)\n",
    "print('AUC-PR на OrdinalEncoder = %.5f' % auc_pr(y_test,y_pred))\n",
    "print('Кол-во столбцов', data.fit_transform(X_train).shape[1])"
   ]
  },
  {
   "cell_type": "code",
   "execution_count": 80,
   "metadata": {},
   "outputs": [
    {
     "data": {
      "text/html": [
       "<style>#sk-container-id-1 {color: black;background-color: white;}#sk-container-id-1 pre{padding: 0;}#sk-container-id-1 div.sk-toggleable {background-color: white;}#sk-container-id-1 label.sk-toggleable__label {cursor: pointer;display: block;width: 100%;margin-bottom: 0;padding: 0.3em;box-sizing: border-box;text-align: center;}#sk-container-id-1 label.sk-toggleable__label-arrow:before {content: \"▸\";float: left;margin-right: 0.25em;color: #696969;}#sk-container-id-1 label.sk-toggleable__label-arrow:hover:before {color: black;}#sk-container-id-1 div.sk-estimator:hover label.sk-toggleable__label-arrow:before {color: black;}#sk-container-id-1 div.sk-toggleable__content {max-height: 0;max-width: 0;overflow: hidden;text-align: left;background-color: #f0f8ff;}#sk-container-id-1 div.sk-toggleable__content pre {margin: 0.2em;color: black;border-radius: 0.25em;background-color: #f0f8ff;}#sk-container-id-1 input.sk-toggleable__control:checked~div.sk-toggleable__content {max-height: 200px;max-width: 100%;overflow: auto;}#sk-container-id-1 input.sk-toggleable__control:checked~label.sk-toggleable__label-arrow:before {content: \"▾\";}#sk-container-id-1 div.sk-estimator input.sk-toggleable__control:checked~label.sk-toggleable__label {background-color: #d4ebff;}#sk-container-id-1 div.sk-label input.sk-toggleable__control:checked~label.sk-toggleable__label {background-color: #d4ebff;}#sk-container-id-1 input.sk-hidden--visually {border: 0;clip: rect(1px 1px 1px 1px);clip: rect(1px, 1px, 1px, 1px);height: 1px;margin: -1px;overflow: hidden;padding: 0;position: absolute;width: 1px;}#sk-container-id-1 div.sk-estimator {font-family: monospace;background-color: #f0f8ff;border: 1px dotted black;border-radius: 0.25em;box-sizing: border-box;margin-bottom: 0.5em;}#sk-container-id-1 div.sk-estimator:hover {background-color: #d4ebff;}#sk-container-id-1 div.sk-parallel-item::after {content: \"\";width: 100%;border-bottom: 1px solid gray;flex-grow: 1;}#sk-container-id-1 div.sk-label:hover label.sk-toggleable__label {background-color: #d4ebff;}#sk-container-id-1 div.sk-serial::before {content: \"\";position: absolute;border-left: 1px solid gray;box-sizing: border-box;top: 0;bottom: 0;left: 50%;z-index: 0;}#sk-container-id-1 div.sk-serial {display: flex;flex-direction: column;align-items: center;background-color: white;padding-right: 0.2em;padding-left: 0.2em;position: relative;}#sk-container-id-1 div.sk-item {position: relative;z-index: 1;}#sk-container-id-1 div.sk-parallel {display: flex;align-items: stretch;justify-content: center;background-color: white;position: relative;}#sk-container-id-1 div.sk-item::before, #sk-container-id-1 div.sk-parallel-item::before {content: \"\";position: absolute;border-left: 1px solid gray;box-sizing: border-box;top: 0;bottom: 0;left: 50%;z-index: -1;}#sk-container-id-1 div.sk-parallel-item {display: flex;flex-direction: column;z-index: 1;position: relative;background-color: white;}#sk-container-id-1 div.sk-parallel-item:first-child::after {align-self: flex-end;width: 50%;}#sk-container-id-1 div.sk-parallel-item:last-child::after {align-self: flex-start;width: 50%;}#sk-container-id-1 div.sk-parallel-item:only-child::after {width: 0;}#sk-container-id-1 div.sk-dashed-wrapped {border: 1px dashed gray;margin: 0 0.4em 0.5em 0.4em;box-sizing: border-box;padding-bottom: 0.4em;background-color: white;}#sk-container-id-1 div.sk-label label {font-family: monospace;font-weight: bold;display: inline-block;line-height: 1.2em;}#sk-container-id-1 div.sk-label-container {text-align: center;}#sk-container-id-1 div.sk-container {/* jupyter's `normalize.less` sets `[hidden] { display: none; }` but bootstrap.min.css set `[hidden] { display: none !important; }` so we also need the `!important` here to be able to override the default hidden behavior on the sphinx rendered scikit-learn.org. See: https://github.com/scikit-learn/scikit-learn/issues/21755 */display: inline-block !important;position: relative;}#sk-container-id-1 div.sk-text-repr-fallback {display: none;}</style><div id=\"sk-container-id-1\" class=\"sk-top-container\"><div class=\"sk-text-repr-fallback\"><pre>Pipeline(steps=[(&#x27;enc_and_st_scaler&#x27;,\n",
       "                 ColumnTransformer(transformers=[(&#x27;cat&#x27;, OrdinalEncoder(),\n",
       "                                                  [&#x27;job&#x27;, &#x27;marital&#x27;,\n",
       "                                                   &#x27;education&#x27;, &#x27;default&#x27;,\n",
       "                                                   &#x27;housing&#x27;, &#x27;loan&#x27;, &#x27;contact&#x27;,\n",
       "                                                   &#x27;month&#x27;, &#x27;day_of_week&#x27;,\n",
       "                                                   &#x27;poutcome&#x27;]),\n",
       "                                                 (&#x27;num&#x27;, StandardScaler(),\n",
       "                                                  [&#x27;duration&#x27;, &#x27;age&#x27;,\n",
       "                                                   &#x27;campaign&#x27;, &#x27;pdays&#x27;,\n",
       "                                                   &#x27;previous&#x27;, &#x27;emp.var.rate&#x27;,\n",
       "                                                   &#x27;cons.conf.idx&#x27;,\n",
       "                                                   &#x27;cons.price.idx&#x27;,\n",
       "                                                   &#x27;euribor3m&#x27;,\n",
       "                                                   &#x27;nr.employed&#x27;])])),\n",
       "                (&#x27;classifier&#x27;, LogisticRegression())])</pre><b>In a Jupyter environment, please rerun this cell to show the HTML representation or trust the notebook. <br />On GitHub, the HTML representation is unable to render, please try loading this page with nbviewer.org.</b></div><div class=\"sk-container\" hidden><div class=\"sk-item sk-dashed-wrapped\"><div class=\"sk-label-container\"><div class=\"sk-label sk-toggleable\"><input class=\"sk-toggleable__control sk-hidden--visually\" id=\"sk-estimator-id-1\" type=\"checkbox\" ><label for=\"sk-estimator-id-1\" class=\"sk-toggleable__label sk-toggleable__label-arrow\">Pipeline</label><div class=\"sk-toggleable__content\"><pre>Pipeline(steps=[(&#x27;enc_and_st_scaler&#x27;,\n",
       "                 ColumnTransformer(transformers=[(&#x27;cat&#x27;, OrdinalEncoder(),\n",
       "                                                  [&#x27;job&#x27;, &#x27;marital&#x27;,\n",
       "                                                   &#x27;education&#x27;, &#x27;default&#x27;,\n",
       "                                                   &#x27;housing&#x27;, &#x27;loan&#x27;, &#x27;contact&#x27;,\n",
       "                                                   &#x27;month&#x27;, &#x27;day_of_week&#x27;,\n",
       "                                                   &#x27;poutcome&#x27;]),\n",
       "                                                 (&#x27;num&#x27;, StandardScaler(),\n",
       "                                                  [&#x27;duration&#x27;, &#x27;age&#x27;,\n",
       "                                                   &#x27;campaign&#x27;, &#x27;pdays&#x27;,\n",
       "                                                   &#x27;previous&#x27;, &#x27;emp.var.rate&#x27;,\n",
       "                                                   &#x27;cons.conf.idx&#x27;,\n",
       "                                                   &#x27;cons.price.idx&#x27;,\n",
       "                                                   &#x27;euribor3m&#x27;,\n",
       "                                                   &#x27;nr.employed&#x27;])])),\n",
       "                (&#x27;classifier&#x27;, LogisticRegression())])</pre></div></div></div><div class=\"sk-serial\"><div class=\"sk-item sk-dashed-wrapped\"><div class=\"sk-label-container\"><div class=\"sk-label sk-toggleable\"><input class=\"sk-toggleable__control sk-hidden--visually\" id=\"sk-estimator-id-2\" type=\"checkbox\" ><label for=\"sk-estimator-id-2\" class=\"sk-toggleable__label sk-toggleable__label-arrow\">enc_and_st_scaler: ColumnTransformer</label><div class=\"sk-toggleable__content\"><pre>ColumnTransformer(transformers=[(&#x27;cat&#x27;, OrdinalEncoder(),\n",
       "                                 [&#x27;job&#x27;, &#x27;marital&#x27;, &#x27;education&#x27;, &#x27;default&#x27;,\n",
       "                                  &#x27;housing&#x27;, &#x27;loan&#x27;, &#x27;contact&#x27;, &#x27;month&#x27;,\n",
       "                                  &#x27;day_of_week&#x27;, &#x27;poutcome&#x27;]),\n",
       "                                (&#x27;num&#x27;, StandardScaler(),\n",
       "                                 [&#x27;duration&#x27;, &#x27;age&#x27;, &#x27;campaign&#x27;, &#x27;pdays&#x27;,\n",
       "                                  &#x27;previous&#x27;, &#x27;emp.var.rate&#x27;, &#x27;cons.conf.idx&#x27;,\n",
       "                                  &#x27;cons.price.idx&#x27;, &#x27;euribor3m&#x27;,\n",
       "                                  &#x27;nr.employed&#x27;])])</pre></div></div></div><div class=\"sk-parallel\"><div class=\"sk-parallel-item\"><div class=\"sk-item\"><div class=\"sk-label-container\"><div class=\"sk-label sk-toggleable\"><input class=\"sk-toggleable__control sk-hidden--visually\" id=\"sk-estimator-id-3\" type=\"checkbox\" ><label for=\"sk-estimator-id-3\" class=\"sk-toggleable__label sk-toggleable__label-arrow\">cat</label><div class=\"sk-toggleable__content\"><pre>[&#x27;job&#x27;, &#x27;marital&#x27;, &#x27;education&#x27;, &#x27;default&#x27;, &#x27;housing&#x27;, &#x27;loan&#x27;, &#x27;contact&#x27;, &#x27;month&#x27;, &#x27;day_of_week&#x27;, &#x27;poutcome&#x27;]</pre></div></div></div><div class=\"sk-serial\"><div class=\"sk-item\"><div class=\"sk-estimator sk-toggleable\"><input class=\"sk-toggleable__control sk-hidden--visually\" id=\"sk-estimator-id-4\" type=\"checkbox\" ><label for=\"sk-estimator-id-4\" class=\"sk-toggleable__label sk-toggleable__label-arrow\">OrdinalEncoder</label><div class=\"sk-toggleable__content\"><pre>OrdinalEncoder()</pre></div></div></div></div></div></div><div class=\"sk-parallel-item\"><div class=\"sk-item\"><div class=\"sk-label-container\"><div class=\"sk-label sk-toggleable\"><input class=\"sk-toggleable__control sk-hidden--visually\" id=\"sk-estimator-id-5\" type=\"checkbox\" ><label for=\"sk-estimator-id-5\" class=\"sk-toggleable__label sk-toggleable__label-arrow\">num</label><div class=\"sk-toggleable__content\"><pre>[&#x27;duration&#x27;, &#x27;age&#x27;, &#x27;campaign&#x27;, &#x27;pdays&#x27;, &#x27;previous&#x27;, &#x27;emp.var.rate&#x27;, &#x27;cons.conf.idx&#x27;, &#x27;cons.price.idx&#x27;, &#x27;euribor3m&#x27;, &#x27;nr.employed&#x27;]</pre></div></div></div><div class=\"sk-serial\"><div class=\"sk-item\"><div class=\"sk-estimator sk-toggleable\"><input class=\"sk-toggleable__control sk-hidden--visually\" id=\"sk-estimator-id-6\" type=\"checkbox\" ><label for=\"sk-estimator-id-6\" class=\"sk-toggleable__label sk-toggleable__label-arrow\">StandardScaler</label><div class=\"sk-toggleable__content\"><pre>StandardScaler()</pre></div></div></div></div></div></div></div></div><div class=\"sk-item\"><div class=\"sk-estimator sk-toggleable\"><input class=\"sk-toggleable__control sk-hidden--visually\" id=\"sk-estimator-id-7\" type=\"checkbox\" ><label for=\"sk-estimator-id-7\" class=\"sk-toggleable__label sk-toggleable__label-arrow\">LogisticRegression</label><div class=\"sk-toggleable__content\"><pre>LogisticRegression()</pre></div></div></div></div></div></div></div>"
      ],
      "text/plain": [
       "Pipeline(steps=[('enc_and_st_scaler',\n",
       "                 ColumnTransformer(transformers=[('cat', OrdinalEncoder(),\n",
       "                                                  ['job', 'marital',\n",
       "                                                   'education', 'default',\n",
       "                                                   'housing', 'loan', 'contact',\n",
       "                                                   'month', 'day_of_week',\n",
       "                                                   'poutcome']),\n",
       "                                                 ('num', StandardScaler(),\n",
       "                                                  ['duration', 'age',\n",
       "                                                   'campaign', 'pdays',\n",
       "                                                   'previous', 'emp.var.rate',\n",
       "                                                   'cons.conf.idx',\n",
       "                                                   'cons.price.idx',\n",
       "                                                   'euribor3m',\n",
       "                                                   'nr.employed'])])),\n",
       "                ('classifier', LogisticRegression())])"
      ]
     },
     "execution_count": 80,
     "metadata": {},
     "output_type": "execute_result"
    }
   ],
   "source": [
    "model"
   ]
  },
  {
   "cell_type": "code",
   "execution_count": null,
   "metadata": {},
   "outputs": [],
   "source": []
  },
  {
   "cell_type": "markdown",
   "metadata": {},
   "source": [
    "✅\n",
    "- Закодируйте все категориальные признаки с помощью one-hot-кодирования. \n",
    "- Обучите логистическую регрессию и посмотрите, как изменилось качество модели (с тем, что было до кодирования). \n",
    "- Измерьте время, потребовавшееся на кодирование категориальных признаков и обучение модели.\n",
    "\n"
   ]
  },
  {
   "cell_type": "code",
   "execution_count": 82,
   "metadata": {},
   "outputs": [],
   "source": [
    "#для кодирования категориальных признаков используем OneHotEncoder\n",
    "enc = OneHotEncoder(handle_unknown=\"ignore\")\n",
    "\n",
    "#вещественные признаки также отмасштабируем\n",
    "data = ColumnTransformer([\n",
    "                     ('cat', enc, cat),\n",
    "                     ('num', StandardScaler(), num)\n",
    "                     ])\n",
    "\n",
    "\n",
    "#создадим пайплайн с LogisticRegression регрессией и кодировщиком данных \n",
    "clf = Pipeline(steps=[\n",
    "                   ('enc_and_st_scaler', data),\n",
    "                   ('classifier', LogisticRegression())\n",
    "                   ])"
   ]
  },
  {
   "cell_type": "code",
   "execution_count": 84,
   "metadata": {},
   "outputs": [],
   "source": [
    "X_train, X_test, y_train, y_test = train_test_split(df.drop(columns='y'),\n",
    "                                    df['y'], test_size = 0.3,\n",
    "                                    random_state=777, stratify=df['y'])\n",
    "\n",
    "y_train = y_train.astype('int')\n",
    "y_test = y_test.astype('int')"
   ]
  },
  {
   "cell_type": "code",
   "execution_count": 86,
   "metadata": {},
   "outputs": [
    {
     "name": "stdout",
     "output_type": "stream",
     "text": [
      "Время на обучение OHE: 0.31166696548461914\n",
      "AUC-PR на OHE = 0.96288\n",
      "Кол-во столбцов 63\n"
     ]
    }
   ],
   "source": [
    "start_time = time.time()\n",
    "model = clf.fit(X_train, y_train)\n",
    "y_pred = model.predict(X_test)\n",
    "\n",
    "print('Время на обучение OHE:', time.time()-start_time)\n",
    "print('AUC-PR на OHE = %.5f' % auc_pr(y_test,y_pred))\n",
    "print('Кол-во столбцов', data.fit_transform(X_train).shape[1])"
   ]
  },
  {
   "cell_type": "markdown",
   "metadata": {},
   "source": [
    "Как можно было заменить, one-hot-кодирование может сильно увеличивать количество признаков, что сказывается на памяти, особенно, если некоторый признак имеет большое количество значений. Эту проблему решает другой способ кодирования категориальных признаков — mean-target encoding (для простоты будем называть это счётчиками). Основная идея в том, что нам важны не сами категории, а значения целевой переменной, которые имеют объекты этой категории. Каждый категориальный признак мы заменим средним значением целевой переменной по всем объектам этой же категории. Метод предполагает кодирование категорий средним арифметическим от суммы целевых меток\n",
    "$$\n",
    "g_j(x, X) = \\frac{\\sum_{i=1}^{l} [f_j(x) = f_j(x_i)][y_i = +1]}{\\sum_{i=1}^{l} [f_j(x) = f_j(x_i)]}\n",
    "$$\n",
    "\n"
   ]
  },
  {
   "cell_type": "markdown",
   "metadata": {},
   "source": [
    "✅ \n",
    "- Закодируйте категориальные переменные с помощью счётчиков:\n",
    "\n",
    "$$\n",
    "g_j(x, X) = \\frac{\\sum_{i=1}^{l} [f_j(x) = f_j(x_i)][y_i = +1]}{\\sum_{i=1}^{l} [f_j(x) = f_j(x_i)]}\n",
    "$$\n",
    "\n",
    "- Обучите логистическую регрессию и посмотрите на качество модели на тестовой выборке. \n",
    "- Сравните с предыдущими экспериментами"
   ]
  },
  {
   "cell_type": "code",
   "execution_count": 88,
   "metadata": {},
   "outputs": [],
   "source": [
    "#вещественные признаки также отмасштабируем, категориальные отмасштабируем отдельно\n",
    "data = ColumnTransformer([\n",
    "                     ('cat', 'passthrough', cat),\n",
    "                     ('num', StandardScaler(), num)\n",
    "                     ])\n",
    "\n",
    "\n",
    "#создадим пайплайн с LogisticRegression регрессией и кодировщиком данных \n",
    "clf = Pipeline(steps=[\n",
    "                   ('enc_and_st_scaler', data),\n",
    "                   ('classifier', LogisticRegression())\n",
    "                   ])"
   ]
  },
  {
   "cell_type": "markdown",
   "metadata": {},
   "source": [
    "### Кодирование категориальных, обучение модели и тестирование"
   ]
  },
  {
   "cell_type": "code",
   "execution_count": 90,
   "metadata": {},
   "outputs": [
    {
     "name": "stdout",
     "output_type": "stream",
     "text": [
      "Время на обучение модели: 0.5512347221374512\n",
      "AUC-PR при mean-target encoding = 0.96173\n",
      "Кол-во столбцов  20\n"
     ]
    }
   ],
   "source": [
    "start_time = time.time()\n",
    "\n",
    "for col in cat:\n",
    "    for categ in list(pd.unique(X_train[col])):\n",
    "        g_train = X_train[(X_train[col] == categ) & (y_train == 1)].shape[0] / X_train[X_train[col] == categ].shape[0]\n",
    "        X_train.loc[X_train[col] == categ, col] = g_train\n",
    "        \n",
    "        \n",
    "        g_test = X_test[(X_test[col] == categ) & (y_test == 1)].shape[0] / X_test[X_test[col] == categ].shape[0]\n",
    "        X_test.loc[X_test[col] == categ, col] = g_test \n",
    "\n",
    "#обучение, тестировние        \n",
    "model = clf.fit(X_train, y_train)\n",
    "y_pred = model.predict(X_test)\n",
    "\n",
    "print('Время на обучение модели:', time.time() - start_time)\n",
    "print(\"AUC-PR при mean-target encoding = %.5f\" %  auc_pr(y_test, y_pred))\n",
    "print('Кол-во столбцов ', X_train.shape[1])"
   ]
  },
  {
   "cell_type": "markdown",
   "metadata": {},
   "source": [
    "✅\n",
    "- Реализуйте корректное вычисление счётчиков самым простым способом — добавление шума к значениям . \n",
    "- Снова обучите логистическую регрессию, оцените качество. \n",
    "- Сделайте выводы.\n"
   ]
  },
  {
   "cell_type": "code",
   "execution_count": 92,
   "metadata": {},
   "outputs": [
    {
     "name": "stdout",
     "output_type": "stream",
     "text": [
      "Время на обучение модели: 0.20413804054260254\n",
      "AUC-PR при mean-target encoding и шуме= 0.96174\n",
      "Кол-во столбцов  20\n"
     ]
    }
   ],
   "source": [
    "start_time = time.time()\n",
    "for col in cat:\n",
    "    #добавим шума к категориальным признакам\n",
    "    X_train[col] += np.random.rand(X_train.shape[0]) * np.sign(np.random.rand(X_train.shape[0]) - 0.5) / 10\n",
    "    X_test[col] += np.random.rand(X_test.shape[0]) * np.sign(np.random.rand(X_test.shape[0]) - 0.5) / 10\n",
    "\n",
    "clf = LogisticRegression()\n",
    "model = clf.fit(X_train, y_train)\n",
    "y_pred = model.predict(X_test)\n",
    "\n",
    "print('Время на обучение модели:', time.time() - start_time)\n",
    "print(\"AUC-PR при mean-target encoding и шуме= %.5f\" %  auc_pr(y_test, y_pred))\n",
    "print('Кол-во столбцов ', X_train.shape[1])"
   ]
  },
  {
   "cell_type": "markdown",
   "metadata": {},
   "source": [
    "✅ Добавьте сглаживание, а затем повторите эксперименты.\n",
    "\n",
    "$$\n",
    "g_j(x, X) = \\frac{\\sum_{i=1}^{\\ell} [f_j(x) = f_j(x_i)][y_i = +1] + C \\times global\\_mean}{\\sum_{i=1}^{\\ell} [f_j(x) = f_j(x_i)] + C}\n",
    "$$"
   ]
  },
  {
   "cell_type": "code",
   "execution_count": 94,
   "metadata": {},
   "outputs": [],
   "source": [
    "#разделим выборку\n",
    "X_train, X_test, y_train, y_test = train_test_split(df.drop(columns = 'y'), \n",
    "                                                    df['y'], test_size=0.3, random_state=777, stratify = df['y'])\n",
    "\n",
    "y_train = y_train.astype('int')\n",
    "y_test = y_test.astype('int')"
   ]
  },
  {
   "cell_type": "code",
   "execution_count": 96,
   "metadata": {},
   "outputs": [],
   "source": [
    "#вещественные признаки также отмасштабируем, категориальные отмасштабируем отдельно\n",
    "date = ColumnTransformer([\n",
    "                     ('cat', 'passthrough', cat),\n",
    "                     ('num', StandardScaler(), num)\n",
    "                     ])\n",
    "\n",
    "\n",
    "#создадим пайплайн с LogisticRegression регрессией и кодировщиком данных \n",
    "clf = Pipeline(steps=[\n",
    "                   ('enc_and_st_scaler', date),\n",
    "                   ('classifier', LogisticRegression())\n",
    "                   ])"
   ]
  },
  {
   "cell_type": "code",
   "execution_count": 98,
   "metadata": {},
   "outputs": [
    {
     "name": "stdout",
     "output_type": "stream",
     "text": [
      "Время на обучение модели: 0.5515968799591064\n",
      "AUC-PR при global mean = 0.96447\n"
     ]
    }
   ],
   "source": [
    "start_time = time.time()\n",
    "\n",
    "C = 100\n",
    "\n",
    "for col in cat:\n",
    "    for categ in list(pd.unique(X_train[col])):\n",
    "        g_new = X_train[(X_train[col] == categ) & (y_train == 1)].shape[0]\n",
    "        #добавляем долю объектов положительного класса (global_mean)\n",
    "        g_new += C * (y_train[y_train == 1].shape[0] / X_train.shape[0])\n",
    "        g_new /= X_train[X_train[col] == categ].shape[0] + C\n",
    "        X_train.loc[X_train[col] == categ, col] = g_new\n",
    "\n",
    "        g_new_test = X_test[(X_test[col] == categ) & (y_test == 1)].shape[0]\n",
    "        #добавляем долю объектов положительного класса (global_mean)\n",
    "        g_new_test += C * (y_test[y_test == 1].shape[0] / y_train.shape[0])\n",
    "        g_new_test /= C + X_test[X_test[col] == categ].shape[0]\n",
    "        X_test.loc[X_test[col] == categ, col] = g_new_test \n",
    "        \n",
    "model = clf.fit(X_train, y_train)\n",
    "y_pred = model.predict(X_test)\n",
    "\n",
    "print('Время на обучение модели:', time.time() - start_time)\n",
    "print(\"AUC-PR при global mean = %.5f\" %  auc_pr(y_test, y_pred))"
   ]
  },
  {
   "cell_type": "markdown",
   "metadata": {},
   "source": [
    "✅ В данных имеется признак \"возраст клиента\". Сейчас мы интерпретируем его как числовой, что в общем случае для линейной модели может быть неверной гипотезой. Тем не менее, у этого признака есть довольно много уникальных значений (сколько?), поэтому применять к нему one-hot кодирование может оказаться излишним. Попробуйте закодировать возраст с помощью счетчиков. Стало ли лучше?\n",
    "\n"
   ]
  },
  {
   "cell_type": "code",
   "execution_count": 100,
   "metadata": {},
   "outputs": [],
   "source": [
    "#разделим выборку\n",
    "X_train, X_test, y_train, y_test = train_test_split(df.drop(columns = 'y'), \n",
    "                                                    df['y'], test_size=0.3, random_state=777, stratify = df['y'])\n",
    "\n",
    "y_train = y_train.astype('int')\n",
    "y_test = y_test.astype('int')"
   ]
  },
  {
   "cell_type": "code",
   "execution_count": 102,
   "metadata": {},
   "outputs": [
    {
     "name": "stdout",
     "output_type": "stream",
     "text": [
      "Кол-во уникальных возрастов 78\n"
     ]
    }
   ],
   "source": [
    "print('Кол-во уникальных возрастов', df['age'].nunique())"
   ]
  },
  {
   "cell_type": "code",
   "execution_count": 104,
   "metadata": {},
   "outputs": [],
   "source": [
    "#теперь возраст категориальная переменная\n",
    "cat = ['job', 'marital', 'education', 'default', 'housing',\n",
    "            'loan', 'contact', 'month', 'day_of_week', 'poutcome', 'age']\n",
    "\n",
    "num = ['campaign', 'pdays', 'previous', 'emp.var.rate',\n",
    "          'cons.conf.idx', 'cons.price.idx', 'euribor3m', 'nr.employed', 'duration']"
   ]
  },
  {
   "cell_type": "code",
   "execution_count": 106,
   "metadata": {},
   "outputs": [
    {
     "name": "stdout",
     "output_type": "stream",
     "text": [
      "Время на обучение модели: 0.6234219074249268\n",
      "AUC-PR при global mean = 0.97328\n"
     ]
    }
   ],
   "source": [
    "start_time = time.time()\n",
    "\n",
    "C = 100\n",
    "\n",
    "for col in cat:\n",
    "    for categ in list(pd.unique(X_train[col])):\n",
    "        g_new = X_train[(X_train[col] == categ) & (y_train == 1)].shape[0]\n",
    "        #добавляем долю объектов положительного класса\n",
    "        g_new += C * (y_train[y_train == 1].shape[0] / X_train.shape[0])\n",
    "        g_new /= X_train[X_train[col] == categ].shape[0] + C\n",
    "        X_train.loc[X_train[col] == categ, col] = g_new\n",
    "\n",
    "        g_new_test = X_test[(X_test[col] == categ) & (y_test == 1)].shape[0]\n",
    "        #добавляем долю объектов положительного класса\n",
    "        g_new_test += C * (y_test[y_test == 1].shape[0] / y_train.shape[0])\n",
    "        g_new_test /= C + X_test[X_test[col] == categ].shape[0]\n",
    "        X_test.loc[X_test[col] == categ, col] = g_new_test \n",
    "        \n",
    "model = clf.fit(X_train, y_train)\n",
    "y_pred = model.predict(X_test)\n",
    "\n",
    "print('Время на обучение модели:', time.time() - start_time)\n",
    "print(\"AUC-PR при global mean = %.5f\" %  auc_pr(y_test, y_pred))"
   ]
  },
  {
   "cell_type": "markdown",
   "metadata": {},
   "source": [
    "**Заметим, что AUC_PR стала выше**"
   ]
  },
  {
   "cell_type": "markdown",
   "metadata": {},
   "source": [
    "**Домашнее задание**"
   ]
  },
  {
   "cell_type": "markdown",
   "metadata": {},
   "source": [
    "✅ Можно пойти и в обратную сторону. У нас есть признаки \"месяц и день недели\" для звонка. Попробуйте интерпретировать их как числовые (месяц от 0 до 12, дни недели от 0 до 4). Стало ли лучше в этот раз?"
   ]
  },
  {
   "cell_type": "code",
   "execution_count": 116,
   "metadata": {},
   "outputs": [],
   "source": [
    "X = df"
   ]
  },
  {
   "cell_type": "code",
   "execution_count": 114,
   "metadata": {},
   "outputs": [
    {
     "data": {
      "text/plain": [
       "array(['may', 'jun', 'jul', 'aug', 'oct', 'nov', 'dec', 'mar', 'apr',\n",
       "       'sep'], dtype=object)"
      ]
     },
     "execution_count": 114,
     "metadata": {},
     "output_type": "execute_result"
    }
   ],
   "source": [
    "X['month'].unique()"
   ]
  },
  {
   "cell_type": "code",
   "execution_count": 122,
   "metadata": {},
   "outputs": [
    {
     "data": {
      "text/plain": [
       "array(['mon', 'tue', 'wed', 'thu', 'fri'], dtype=object)"
      ]
     },
     "execution_count": 122,
     "metadata": {},
     "output_type": "execute_result"
    }
   ],
   "source": [
    "X['day_of_week'].unique()"
   ]
  },
  {
   "cell_type": "code",
   "execution_count": 126,
   "metadata": {},
   "outputs": [],
   "source": [
    "month_map = {'may' : 5, 'jun' : 6, 'jul' : 7, 'aug' : 8, 'oct' : 10, 'nov' : 11, 'dec' : 12, 'mar' : 3, 'apr' : 4,\n",
    "       'sep' : 9}\n",
    "day_map = {'mon' : 1, 'tue' : 2, 'wed' : 3, 'thu' : 4, 'fri' : 5}"
   ]
  },
  {
   "cell_type": "code",
   "execution_count": 128,
   "metadata": {},
   "outputs": [],
   "source": [
    "X['month'] = X['month'].map(month_map).astype(int)\n",
    "X['day_of_week'] = X['day_of_week'].map(day_map).astype(int)"
   ]
  },
  {
   "cell_type": "code",
   "execution_count": 132,
   "metadata": {},
   "outputs": [
    {
     "name": "stdout",
     "output_type": "stream",
     "text": [
      "<class 'pandas.core.frame.DataFrame'>\n",
      "RangeIndex: 41188 entries, 0 to 41187\n",
      "Data columns (total 21 columns):\n",
      " #   Column          Non-Null Count  Dtype  \n",
      "---  ------          --------------  -----  \n",
      " 0   age             41188 non-null  int64  \n",
      " 1   job             41188 non-null  object \n",
      " 2   marital         41188 non-null  object \n",
      " 3   education       41188 non-null  object \n",
      " 4   default         41188 non-null  object \n",
      " 5   housing         41188 non-null  object \n",
      " 6   loan            41188 non-null  object \n",
      " 7   contact         41188 non-null  object \n",
      " 8   month           41188 non-null  int64  \n",
      " 9   day_of_week     41188 non-null  int64  \n",
      " 10  duration        41188 non-null  int64  \n",
      " 11  campaign        41188 non-null  int64  \n",
      " 12  pdays           41188 non-null  int64  \n",
      " 13  previous        41188 non-null  int64  \n",
      " 14  poutcome        41188 non-null  object \n",
      " 15  emp.var.rate    41188 non-null  float64\n",
      " 16  cons.price.idx  41188 non-null  float64\n",
      " 17  cons.conf.idx   41188 non-null  float64\n",
      " 18  euribor3m       41188 non-null  float64\n",
      " 19  nr.employed     41188 non-null  float64\n",
      " 20  y               41188 non-null  object \n",
      "dtypes: float64(5), int64(7), object(9)\n",
      "memory usage: 6.6+ MB\n"
     ]
    }
   ],
   "source": [
    "X.info()"
   ]
  },
  {
   "cell_type": "code",
   "execution_count": 134,
   "metadata": {},
   "outputs": [],
   "source": [
    "cat = ['job', 'marital', 'education', 'default', 'housing',\n",
    "            'loan', 'contact', 'poutcome', 'age']\n",
    "\n",
    "num = ['campaign', 'pdays', 'previous', 'emp.var.rate', 'month', 'day_of_week',\n",
    "          'cons.conf.idx', 'cons.price.idx', 'euribor3m', 'nr.employed']"
   ]
  },
  {
   "cell_type": "code",
   "execution_count": 142,
   "metadata": {},
   "outputs": [],
   "source": [
    "X_x = X.drop('y', axis = 1)"
   ]
  },
  {
   "cell_type": "code",
   "execution_count": 144,
   "metadata": {},
   "outputs": [],
   "source": [
    "X_y = X['y']"
   ]
  },
  {
   "cell_type": "code",
   "execution_count": 148,
   "metadata": {},
   "outputs": [
    {
     "data": {
      "text/plain": [
       "0        1\n",
       "1        1\n",
       "2        1\n",
       "3        1\n",
       "4        1\n",
       "        ..\n",
       "41183    0\n",
       "41184    1\n",
       "41185    1\n",
       "41186    0\n",
       "41187    1\n",
       "Name: y, Length: 41188, dtype: object"
      ]
     },
     "execution_count": 148,
     "metadata": {},
     "output_type": "execute_result"
    }
   ],
   "source": []
  },
  {
   "cell_type": "code",
   "execution_count": 150,
   "metadata": {},
   "outputs": [],
   "source": [
    "X_train, X_test, y_train, y_test = train_test_split(X_x, \n",
    "                                                    X_y, test_size=0.3, random_state=777, stratify = X['y'])\n",
    "\n",
    "y_train = y_train.astype('int')\n",
    "y_test = y_test.astype('int')"
   ]
  },
  {
   "cell_type": "code",
   "execution_count": 152,
   "metadata": {},
   "outputs": [
    {
     "name": "stdout",
     "output_type": "stream",
     "text": [
      "Время на обучение модели: 0.5534908771514893\n",
      "AUC-PR при global mean = 0.97284\n"
     ]
    }
   ],
   "source": [
    "start_time = time.time()\n",
    "\n",
    "C = 100\n",
    "\n",
    "for col in cat:\n",
    "    for categ in list(pd.unique(X_train[col])):\n",
    "        g_new = X_train[(X_train[col] == categ) & (y_train == 1)].shape[0]\n",
    "        #добавляем долю объектов положительного класса\n",
    "        g_new += C * (y_train[y_train == 1].shape[0] / X_train.shape[0])\n",
    "        g_new /= X_train[X_train[col] == categ].shape[0] + C\n",
    "        X_train.loc[X_train[col] == categ, col] = g_new\n",
    "\n",
    "        g_new_test = X_test[(X_test[col] == categ) & (y_test == 1)].shape[0]\n",
    "        #добавляем долю объектов положительного класса\n",
    "        g_new_test += C * (y_test[y_test == 1].shape[0] / y_train.shape[0])\n",
    "        g_new_test /= C + X_test[X_test[col] == categ].shape[0]\n",
    "        X_test.loc[X_test[col] == categ, col] = g_new_test \n",
    "        \n",
    "model = clf.fit(X_train, y_train)\n",
    "y_pred = model.predict(X_test)\n",
    "\n",
    "print('Время на обучение модели:', time.time() - start_time)\n",
    "print(\"AUC-PR при global mean = %.5f\" %  auc_pr(y_test, y_pred))"
   ]
  },
  {
   "cell_type": "code",
   "execution_count": null,
   "metadata": {},
   "outputs": [],
   "source": []
  },
  {
   "cell_type": "markdown",
   "metadata": {},
   "source": [
    "# 📌 Отбор признаков"
   ]
  },
  {
   "cell_type": "markdown",
   "metadata": {},
   "source": [
    "Важной частью процесса построения модели является отбор признаков. На практике многие признаки оказывают малое влияние на модель (при этом их расчёт занимает время) или даже негативно сказываются на качестве модели. Попробуем несколько подходов отбора признаков, оценим, как они влияют на качество модели и сколько времени занимают.\n",
    "\n",
    "Обратимся к тем же данным про банковский телефонный маркетинг."
   ]
  },
  {
   "cell_type": "code",
   "execution_count": 154,
   "metadata": {},
   "outputs": [],
   "source": [
    "df = pd.read_csv('bank-additional-full.csv', sep=';')\n",
    "\n",
    "#удалили целевой столбец и неинформативный признак\n",
    "X = df.drop(columns=['duration', 'y'])\n",
    "\n",
    "#обработали столбец таргета\n",
    "df.loc[df['y'] == 'yes', 'y'] = 0\n",
    "df.loc[df['y'] == 'no', 'y'] = 1\n",
    "y = df['y']\n",
    "\n",
    "#разделили выборку на обучающую и тестовую\n",
    "X_train, X_test, y_train, y_test = train_test_split(X, y, test_size=0.3, random_state=777, stratify = y)\n",
    "\n",
    "y_train = y_train.astype('int')\n",
    "y_test = y_test.astype('int')"
   ]
  },
  {
   "cell_type": "code",
   "execution_count": 156,
   "metadata": {},
   "outputs": [
    {
     "data": {
      "text/html": [
       "<div>\n",
       "<style scoped>\n",
       "    .dataframe tbody tr th:only-of-type {\n",
       "        vertical-align: middle;\n",
       "    }\n",
       "\n",
       "    .dataframe tbody tr th {\n",
       "        vertical-align: top;\n",
       "    }\n",
       "\n",
       "    .dataframe thead th {\n",
       "        text-align: right;\n",
       "    }\n",
       "</style>\n",
       "<table border=\"1\" class=\"dataframe\">\n",
       "  <thead>\n",
       "    <tr style=\"text-align: right;\">\n",
       "      <th></th>\n",
       "      <th>age</th>\n",
       "      <th>job</th>\n",
       "      <th>marital</th>\n",
       "      <th>education</th>\n",
       "      <th>default</th>\n",
       "      <th>housing</th>\n",
       "      <th>loan</th>\n",
       "      <th>contact</th>\n",
       "      <th>month</th>\n",
       "      <th>day_of_week</th>\n",
       "      <th>duration</th>\n",
       "      <th>campaign</th>\n",
       "      <th>pdays</th>\n",
       "      <th>previous</th>\n",
       "      <th>poutcome</th>\n",
       "      <th>emp.var.rate</th>\n",
       "      <th>cons.price.idx</th>\n",
       "      <th>cons.conf.idx</th>\n",
       "      <th>euribor3m</th>\n",
       "      <th>nr.employed</th>\n",
       "      <th>y</th>\n",
       "    </tr>\n",
       "  </thead>\n",
       "  <tbody>\n",
       "    <tr>\n",
       "      <th>0</th>\n",
       "      <td>56</td>\n",
       "      <td>housemaid</td>\n",
       "      <td>married</td>\n",
       "      <td>basic.4y</td>\n",
       "      <td>no</td>\n",
       "      <td>no</td>\n",
       "      <td>no</td>\n",
       "      <td>telephone</td>\n",
       "      <td>may</td>\n",
       "      <td>mon</td>\n",
       "      <td>261</td>\n",
       "      <td>1</td>\n",
       "      <td>999</td>\n",
       "      <td>0</td>\n",
       "      <td>nonexistent</td>\n",
       "      <td>1.1</td>\n",
       "      <td>93.994</td>\n",
       "      <td>-36.4</td>\n",
       "      <td>4.857</td>\n",
       "      <td>5191.0</td>\n",
       "      <td>1</td>\n",
       "    </tr>\n",
       "    <tr>\n",
       "      <th>1</th>\n",
       "      <td>57</td>\n",
       "      <td>services</td>\n",
       "      <td>married</td>\n",
       "      <td>high.school</td>\n",
       "      <td>unknown</td>\n",
       "      <td>no</td>\n",
       "      <td>no</td>\n",
       "      <td>telephone</td>\n",
       "      <td>may</td>\n",
       "      <td>mon</td>\n",
       "      <td>149</td>\n",
       "      <td>1</td>\n",
       "      <td>999</td>\n",
       "      <td>0</td>\n",
       "      <td>nonexistent</td>\n",
       "      <td>1.1</td>\n",
       "      <td>93.994</td>\n",
       "      <td>-36.4</td>\n",
       "      <td>4.857</td>\n",
       "      <td>5191.0</td>\n",
       "      <td>1</td>\n",
       "    </tr>\n",
       "    <tr>\n",
       "      <th>2</th>\n",
       "      <td>37</td>\n",
       "      <td>services</td>\n",
       "      <td>married</td>\n",
       "      <td>high.school</td>\n",
       "      <td>no</td>\n",
       "      <td>yes</td>\n",
       "      <td>no</td>\n",
       "      <td>telephone</td>\n",
       "      <td>may</td>\n",
       "      <td>mon</td>\n",
       "      <td>226</td>\n",
       "      <td>1</td>\n",
       "      <td>999</td>\n",
       "      <td>0</td>\n",
       "      <td>nonexistent</td>\n",
       "      <td>1.1</td>\n",
       "      <td>93.994</td>\n",
       "      <td>-36.4</td>\n",
       "      <td>4.857</td>\n",
       "      <td>5191.0</td>\n",
       "      <td>1</td>\n",
       "    </tr>\n",
       "    <tr>\n",
       "      <th>3</th>\n",
       "      <td>40</td>\n",
       "      <td>admin.</td>\n",
       "      <td>married</td>\n",
       "      <td>basic.6y</td>\n",
       "      <td>no</td>\n",
       "      <td>no</td>\n",
       "      <td>no</td>\n",
       "      <td>telephone</td>\n",
       "      <td>may</td>\n",
       "      <td>mon</td>\n",
       "      <td>151</td>\n",
       "      <td>1</td>\n",
       "      <td>999</td>\n",
       "      <td>0</td>\n",
       "      <td>nonexistent</td>\n",
       "      <td>1.1</td>\n",
       "      <td>93.994</td>\n",
       "      <td>-36.4</td>\n",
       "      <td>4.857</td>\n",
       "      <td>5191.0</td>\n",
       "      <td>1</td>\n",
       "    </tr>\n",
       "    <tr>\n",
       "      <th>4</th>\n",
       "      <td>56</td>\n",
       "      <td>services</td>\n",
       "      <td>married</td>\n",
       "      <td>high.school</td>\n",
       "      <td>no</td>\n",
       "      <td>no</td>\n",
       "      <td>yes</td>\n",
       "      <td>telephone</td>\n",
       "      <td>may</td>\n",
       "      <td>mon</td>\n",
       "      <td>307</td>\n",
       "      <td>1</td>\n",
       "      <td>999</td>\n",
       "      <td>0</td>\n",
       "      <td>nonexistent</td>\n",
       "      <td>1.1</td>\n",
       "      <td>93.994</td>\n",
       "      <td>-36.4</td>\n",
       "      <td>4.857</td>\n",
       "      <td>5191.0</td>\n",
       "      <td>1</td>\n",
       "    </tr>\n",
       "  </tbody>\n",
       "</table>\n",
       "</div>"
      ],
      "text/plain": [
       "   age        job  marital    education  default housing loan    contact  \\\n",
       "0   56  housemaid  married     basic.4y       no      no   no  telephone   \n",
       "1   57   services  married  high.school  unknown      no   no  telephone   \n",
       "2   37   services  married  high.school       no     yes   no  telephone   \n",
       "3   40     admin.  married     basic.6y       no      no   no  telephone   \n",
       "4   56   services  married  high.school       no      no  yes  telephone   \n",
       "\n",
       "  month day_of_week  duration  campaign  pdays  previous     poutcome  \\\n",
       "0   may         mon       261         1    999         0  nonexistent   \n",
       "1   may         mon       149         1    999         0  nonexistent   \n",
       "2   may         mon       226         1    999         0  nonexistent   \n",
       "3   may         mon       151         1    999         0  nonexistent   \n",
       "4   may         mon       307         1    999         0  nonexistent   \n",
       "\n",
       "   emp.var.rate  cons.price.idx  cons.conf.idx  euribor3m  nr.employed  y  \n",
       "0           1.1          93.994          -36.4      4.857       5191.0  1  \n",
       "1           1.1          93.994          -36.4      4.857       5191.0  1  \n",
       "2           1.1          93.994          -36.4      4.857       5191.0  1  \n",
       "3           1.1          93.994          -36.4      4.857       5191.0  1  \n",
       "4           1.1          93.994          -36.4      4.857       5191.0  1  "
      ]
     },
     "execution_count": 156,
     "metadata": {},
     "output_type": "execute_result"
    }
   ],
   "source": [
    "df.head()"
   ]
  },
  {
   "cell_type": "markdown",
   "metadata": {},
   "source": [
    "✅ В данных много категориальных признаков (сейчас давайте интерпретировать возраст как числовой). Давайте закодируем их с помощью one-hot кодирования. Исходные колонки с категориальными признаками можно удалить. Сколько признаков мы получили?"
   ]
  },
  {
   "cell_type": "markdown",
   "metadata": {},
   "source": [
    "### Вспомним как были разделены признаки (на вещественные и категориальные)"
   ]
  },
  {
   "cell_type": "code",
   "execution_count": 158,
   "metadata": {},
   "outputs": [],
   "source": [
    "cat = ['job', 'marital', 'education', 'default', 'housing',\n",
    "            'loan', 'contact', 'month', 'day_of_week', 'poutcome']\n",
    "\n",
    "num = ['age', 'campaign', 'pdays', 'previous', 'emp.var.rate',\n",
    "          'cons.conf.idx', 'cons.price.idx', 'euribor3m', 'nr.employed', 'duration']"
   ]
  },
  {
   "cell_type": "markdown",
   "metadata": {},
   "source": [
    "### Закодируем категориальрные признаки с помощью one-hot кодирования\n",
    "\n",
    "**Будем использовать метод get_dummies**"
   ]
  },
  {
   "cell_type": "code",
   "execution_count": 160,
   "metadata": {},
   "outputs": [],
   "source": [
    "#для красивого вывода названий столбцов\n",
    "cat_mask = X_train.select_dtypes(include=['object']).columns\n",
    "cat_mask = X_test.select_dtypes(include=['object']).columns\n",
    "\n",
    "#drop_first = True даст k-1 столбцов для столбца с k категориями -> избежим попадения в дамми-трэп\n",
    "X_train = pd.get_dummies(X_train, columns = cat_mask, drop_first=True)\n",
    "X_test = pd.get_dummies(X_test, columns = cat_mask, drop_first=True)"
   ]
  },
  {
   "cell_type": "code",
   "execution_count": 162,
   "metadata": {},
   "outputs": [
    {
     "data": {
      "text/plain": [
       "(28831, 52)"
      ]
     },
     "execution_count": 162,
     "metadata": {},
     "output_type": "execute_result"
    }
   ],
   "source": [
    "X_train.shape"
   ]
  },
  {
   "cell_type": "markdown",
   "metadata": {},
   "source": [
    "✅ В качестве основной модели будем использовать логистическую регрессию, а целевой метрики — `AUC-PR`. Обучите модель и посчитайте качество на тестовой выборке. "
   ]
  },
  {
   "cell_type": "code",
   "execution_count": 164,
   "metadata": {},
   "outputs": [],
   "source": [
    "clf = LogisticRegression()\n",
    "clf.fit(X_train, y_train)\n",
    "a_x = clf.predict(X_test)\n",
    "\n",
    "auc_pr_lr_ohe = auc_pr(y_test, a_x)"
   ]
  },
  {
   "cell_type": "code",
   "execution_count": 166,
   "metadata": {},
   "outputs": [
    {
     "name": "stdout",
     "output_type": "stream",
     "text": [
      "AUC_PR = 0.95226\n"
     ]
    }
   ],
   "source": [
    "print(\"AUC_PR = %.5f\" % auc_pr_lr_ohe)"
   ]
  },
  {
   "cell_type": "markdown",
   "metadata": {},
   "source": [
    "### Встроенные методы"
   ]
  },
  {
   "cell_type": "markdown",
   "metadata": {},
   "source": [
    "Допустим, мы хотим оставить только 40 лучших признаков. Попробуем сделать это несколькими способами.\n",
    "\n",
    "Начнём с отборам признаков с помощью линейной модели. Как известно, веса линейной модели означают вклад каждого признака в предсказание модели, а значит, модуль этого вклада можно интерпретировать как важность признаков. Такой метод отбора называются встроенным или embedded method, так как он заложен в особенности модели.\n",
    "\n",
    "\n",
    "\n"
   ]
  },
  {
   "cell_type": "markdown",
   "metadata": {},
   "source": [
    "✅ \n",
    " - Оставьте 40 признаков с наибольшим модулем соответствующего параметра линейной модели. Обучите модели заново и оцените её качество. Замерьте скорость такого отбора признаков.\n",
    "\n",
    "Изменилось ли качество? "
   ]
  },
  {
   "cell_type": "code",
   "execution_count": 168,
   "metadata": {},
   "outputs": [
    {
     "name": "stdout",
     "output_type": "stream",
     "text": [
      "Время обучения модели 0.22800087928771973\n",
      "AUC_PR = 0.95208\n"
     ]
    }
   ],
   "source": [
    "start_time = time.time()\n",
    "\n",
    "indices = pd.DataFrame(clf.coef_[0], [*range(52)]).sort_values(by=0).tail(40).index\n",
    "\n",
    "x_train = X_train.iloc[:, indices.values]\n",
    "x_test = X_test.iloc[:, indices.values]\n",
    "\n",
    "clf1 = LogisticRegression()\n",
    "clf1.fit(x_train, y_train)\n",
    "a_x = clf1.predict(x_test)\n",
    "\n",
    "auc_pr_lr_fourty = auc_pr(y_test, a_x)\n",
    "\n",
    "print('Время обучения модели', time.time()-start_time)\n",
    "print(\"AUC_PR = %.5f\" % auc_pr_lr_fourty)"
   ]
  },
  {
   "cell_type": "code",
   "execution_count": 170,
   "metadata": {},
   "outputs": [
    {
     "data": {
      "text/plain": [
       "Index([ 1, 48, 44, 37, 51, 29, 45, 38, 17, 18,  0, 14, 11, 22, 33, 26, 31, 12,\n",
       "       19,  2, 23, 10, 34, 32,  8, 27, 35, 25, 43, 15, 24, 20, 46,  3, 30,  9,\n",
       "       36,  4,  7, 42],\n",
       "      dtype='int64')"
      ]
     },
     "execution_count": 170,
     "metadata": {},
     "output_type": "execute_result"
    }
   ],
   "source": [
    "indices"
   ]
  },
  {
   "cell_type": "markdown",
   "metadata": {},
   "source": [
    "### Отмасшабируем признаки с помощью StandartScaler и OHE"
   ]
  },
  {
   "cell_type": "markdown",
   "metadata": {},
   "source": [
    "**Снова разделим данные**"
   ]
  },
  {
   "cell_type": "code",
   "execution_count": 172,
   "metadata": {},
   "outputs": [],
   "source": [
    "df = pd.read_csv('bank-additional-full.csv', sep=';')\n",
    "\n",
    "#удалили целевой столбец и неинформативный признак\n",
    "X = df.drop(columns=['y'])\n",
    "\n",
    "#обработали столбец таргета\n",
    "df.loc[df['y'] == 'yes', 'y'] = 0\n",
    "df.loc[df['y'] == 'no', 'y'] = 1\n",
    "y = df['y']\n",
    "\n",
    "#разделили выборку на обучающую и тестовую\n",
    "X_train, X_test, y_train, y_test = train_test_split(X, y, test_size=0.3, random_state=777, stratify=y)\n",
    "\n",
    "y_train = y_train.astype('int')\n",
    "y_test = y_test.astype('int')"
   ]
  },
  {
   "cell_type": "markdown",
   "metadata": {},
   "source": [
    "### Кодирование"
   ]
  },
  {
   "cell_type": "code",
   "execution_count": 174,
   "metadata": {},
   "outputs": [],
   "source": [
    "#вещественные признаки отмасштабируем с помощью StandardScaler, категориальные пока не трогаем\n",
    "date = ColumnTransformer([\n",
    "                     ('cat', 'passthrough', cat),\n",
    "                     ('num', StandardScaler(), num)\n",
    "                     ])\n",
    "\n",
    "X_train = pd.DataFrame(date.fit_transform(X_train))\n",
    "X_test = pd.DataFrame(date.transform(X_test))"
   ]
  },
  {
   "cell_type": "code",
   "execution_count": 176,
   "metadata": {},
   "outputs": [],
   "source": [
    "#кодируем категориальные признаки\n",
    "cat_mask = X_train.select_dtypes(include=['object']).columns\n",
    "cat_mask = X_test.select_dtypes(include=['object']).columns\n",
    "\n",
    "#drop_first = True даст k-1 столбцов для столбца с k категориями -> избежим попадения в дамми-трэп\n",
    "X_train = pd.get_dummies(data=X_train, columns=X_train.iloc[:, 0:10].columns, drop_first=True)\n",
    "X_test = pd.get_dummies(data=X_test, columns=X_test.iloc[:, 0:10].columns, drop_first=True)"
   ]
  },
  {
   "cell_type": "code",
   "execution_count": 178,
   "metadata": {},
   "outputs": [
    {
     "data": {
      "text/html": [
       "<div>\n",
       "<style scoped>\n",
       "    .dataframe tbody tr th:only-of-type {\n",
       "        vertical-align: middle;\n",
       "    }\n",
       "\n",
       "    .dataframe tbody tr th {\n",
       "        vertical-align: top;\n",
       "    }\n",
       "\n",
       "    .dataframe thead th {\n",
       "        text-align: right;\n",
       "    }\n",
       "</style>\n",
       "<table border=\"1\" class=\"dataframe\">\n",
       "  <thead>\n",
       "    <tr style=\"text-align: right;\">\n",
       "      <th></th>\n",
       "      <th>10</th>\n",
       "      <th>11</th>\n",
       "      <th>12</th>\n",
       "      <th>13</th>\n",
       "      <th>14</th>\n",
       "      <th>15</th>\n",
       "      <th>16</th>\n",
       "      <th>17</th>\n",
       "      <th>18</th>\n",
       "      <th>19</th>\n",
       "      <th>0_blue-collar</th>\n",
       "      <th>0_entrepreneur</th>\n",
       "      <th>0_housemaid</th>\n",
       "      <th>0_management</th>\n",
       "      <th>0_retired</th>\n",
       "      <th>0_self-employed</th>\n",
       "      <th>0_services</th>\n",
       "      <th>0_student</th>\n",
       "      <th>0_technician</th>\n",
       "      <th>0_unemployed</th>\n",
       "      <th>0_unknown</th>\n",
       "      <th>1_married</th>\n",
       "      <th>1_single</th>\n",
       "      <th>1_unknown</th>\n",
       "      <th>2_basic.6y</th>\n",
       "      <th>2_basic.9y</th>\n",
       "      <th>2_high.school</th>\n",
       "      <th>2_illiterate</th>\n",
       "      <th>2_professional.course</th>\n",
       "      <th>2_university.degree</th>\n",
       "      <th>2_unknown</th>\n",
       "      <th>3_unknown</th>\n",
       "      <th>3_yes</th>\n",
       "      <th>4_unknown</th>\n",
       "      <th>4_yes</th>\n",
       "      <th>5_unknown</th>\n",
       "      <th>5_yes</th>\n",
       "      <th>6_telephone</th>\n",
       "      <th>7_aug</th>\n",
       "      <th>7_dec</th>\n",
       "      <th>7_jul</th>\n",
       "      <th>7_jun</th>\n",
       "      <th>7_mar</th>\n",
       "      <th>7_may</th>\n",
       "      <th>7_nov</th>\n",
       "      <th>7_oct</th>\n",
       "      <th>7_sep</th>\n",
       "      <th>8_mon</th>\n",
       "      <th>8_thu</th>\n",
       "      <th>8_tue</th>\n",
       "      <th>8_wed</th>\n",
       "      <th>9_nonexistent</th>\n",
       "      <th>9_success</th>\n",
       "    </tr>\n",
       "  </thead>\n",
       "  <tbody>\n",
       "    <tr>\n",
       "      <th>0</th>\n",
       "      <td>-0.289536</td>\n",
       "      <td>-0.567466</td>\n",
       "      <td>0.196418</td>\n",
       "      <td>-0.351015</td>\n",
       "      <td>-2.213588</td>\n",
       "      <td>2.249459</td>\n",
       "      <td>-1.599578</td>\n",
       "      <td>-1.669748</td>\n",
       "      <td>-2.061837</td>\n",
       "      <td>-0.035962</td>\n",
       "      <td>False</td>\n",
       "      <td>False</td>\n",
       "      <td>False</td>\n",
       "      <td>False</td>\n",
       "      <td>False</td>\n",
       "      <td>False</td>\n",
       "      <td>False</td>\n",
       "      <td>False</td>\n",
       "      <td>False</td>\n",
       "      <td>False</td>\n",
       "      <td>False</td>\n",
       "      <td>False</td>\n",
       "      <td>True</td>\n",
       "      <td>False</td>\n",
       "      <td>False</td>\n",
       "      <td>False</td>\n",
       "      <td>True</td>\n",
       "      <td>False</td>\n",
       "      <td>False</td>\n",
       "      <td>False</td>\n",
       "      <td>False</td>\n",
       "      <td>False</td>\n",
       "      <td>False</td>\n",
       "      <td>False</td>\n",
       "      <td>False</td>\n",
       "      <td>False</td>\n",
       "      <td>True</td>\n",
       "      <td>False</td>\n",
       "      <td>False</td>\n",
       "      <td>False</td>\n",
       "      <td>False</td>\n",
       "      <td>False</td>\n",
       "      <td>False</td>\n",
       "      <td>False</td>\n",
       "      <td>True</td>\n",
       "      <td>False</td>\n",
       "      <td>False</td>\n",
       "      <td>False</td>\n",
       "      <td>False</td>\n",
       "      <td>False</td>\n",
       "      <td>True</td>\n",
       "      <td>True</td>\n",
       "      <td>False</td>\n",
       "    </tr>\n",
       "    <tr>\n",
       "      <th>1</th>\n",
       "      <td>-0.958139</td>\n",
       "      <td>-0.567466</td>\n",
       "      <td>0.196418</td>\n",
       "      <td>1.665344</td>\n",
       "      <td>-1.131825</td>\n",
       "      <td>0.477886</td>\n",
       "      <td>0.781528</td>\n",
       "      <td>-1.563255</td>\n",
       "      <td>-2.419431</td>\n",
       "      <td>-0.392675</td>\n",
       "      <td>False</td>\n",
       "      <td>False</td>\n",
       "      <td>False</td>\n",
       "      <td>False</td>\n",
       "      <td>False</td>\n",
       "      <td>False</td>\n",
       "      <td>False</td>\n",
       "      <td>False</td>\n",
       "      <td>False</td>\n",
       "      <td>False</td>\n",
       "      <td>False</td>\n",
       "      <td>False</td>\n",
       "      <td>True</td>\n",
       "      <td>False</td>\n",
       "      <td>False</td>\n",
       "      <td>False</td>\n",
       "      <td>False</td>\n",
       "      <td>False</td>\n",
       "      <td>False</td>\n",
       "      <td>True</td>\n",
       "      <td>False</td>\n",
       "      <td>False</td>\n",
       "      <td>False</td>\n",
       "      <td>False</td>\n",
       "      <td>False</td>\n",
       "      <td>False</td>\n",
       "      <td>False</td>\n",
       "      <td>True</td>\n",
       "      <td>True</td>\n",
       "      <td>False</td>\n",
       "      <td>False</td>\n",
       "      <td>False</td>\n",
       "      <td>False</td>\n",
       "      <td>False</td>\n",
       "      <td>False</td>\n",
       "      <td>False</td>\n",
       "      <td>False</td>\n",
       "      <td>False</td>\n",
       "      <td>False</td>\n",
       "      <td>False</td>\n",
       "      <td>True</td>\n",
       "      <td>False</td>\n",
       "      <td>False</td>\n",
       "    </tr>\n",
       "    <tr>\n",
       "      <th>2</th>\n",
       "      <td>1.62076</td>\n",
       "      <td>-0.203565</td>\n",
       "      <td>0.196418</td>\n",
       "      <td>-0.351015</td>\n",
       "      <td>-0.113695</td>\n",
       "      <td>-0.321482</td>\n",
       "      <td>-0.647481</td>\n",
       "      <td>0.233315</td>\n",
       "      <td>0.399899</td>\n",
       "      <td>-0.477976</td>\n",
       "      <td>True</td>\n",
       "      <td>False</td>\n",
       "      <td>False</td>\n",
       "      <td>False</td>\n",
       "      <td>False</td>\n",
       "      <td>False</td>\n",
       "      <td>False</td>\n",
       "      <td>False</td>\n",
       "      <td>False</td>\n",
       "      <td>False</td>\n",
       "      <td>False</td>\n",
       "      <td>True</td>\n",
       "      <td>False</td>\n",
       "      <td>False</td>\n",
       "      <td>False</td>\n",
       "      <td>True</td>\n",
       "      <td>False</td>\n",
       "      <td>False</td>\n",
       "      <td>False</td>\n",
       "      <td>False</td>\n",
       "      <td>False</td>\n",
       "      <td>True</td>\n",
       "      <td>False</td>\n",
       "      <td>False</td>\n",
       "      <td>True</td>\n",
       "      <td>False</td>\n",
       "      <td>True</td>\n",
       "      <td>False</td>\n",
       "      <td>False</td>\n",
       "      <td>False</td>\n",
       "      <td>False</td>\n",
       "      <td>False</td>\n",
       "      <td>False</td>\n",
       "      <td>False</td>\n",
       "      <td>True</td>\n",
       "      <td>False</td>\n",
       "      <td>False</td>\n",
       "      <td>False</td>\n",
       "      <td>False</td>\n",
       "      <td>False</td>\n",
       "      <td>False</td>\n",
       "      <td>True</td>\n",
       "      <td>False</td>\n",
       "    </tr>\n",
       "    <tr>\n",
       "      <th>3</th>\n",
       "      <td>0.570097</td>\n",
       "      <td>-0.567466</td>\n",
       "      <td>0.196418</td>\n",
       "      <td>1.665344</td>\n",
       "      <td>-1.195458</td>\n",
       "      <td>-1.228873</td>\n",
       "      <td>-1.17796</td>\n",
       "      <td>-1.352571</td>\n",
       "      <td>-0.93521</td>\n",
       "      <td>-0.291865</td>\n",
       "      <td>False</td>\n",
       "      <td>False</td>\n",
       "      <td>False</td>\n",
       "      <td>False</td>\n",
       "      <td>False</td>\n",
       "      <td>False</td>\n",
       "      <td>True</td>\n",
       "      <td>False</td>\n",
       "      <td>False</td>\n",
       "      <td>False</td>\n",
       "      <td>False</td>\n",
       "      <td>True</td>\n",
       "      <td>False</td>\n",
       "      <td>False</td>\n",
       "      <td>False</td>\n",
       "      <td>False</td>\n",
       "      <td>True</td>\n",
       "      <td>False</td>\n",
       "      <td>False</td>\n",
       "      <td>False</td>\n",
       "      <td>False</td>\n",
       "      <td>False</td>\n",
       "      <td>False</td>\n",
       "      <td>False</td>\n",
       "      <td>True</td>\n",
       "      <td>False</td>\n",
       "      <td>False</td>\n",
       "      <td>False</td>\n",
       "      <td>False</td>\n",
       "      <td>False</td>\n",
       "      <td>False</td>\n",
       "      <td>False</td>\n",
       "      <td>False</td>\n",
       "      <td>True</td>\n",
       "      <td>False</td>\n",
       "      <td>False</td>\n",
       "      <td>False</td>\n",
       "      <td>False</td>\n",
       "      <td>True</td>\n",
       "      <td>False</td>\n",
       "      <td>False</td>\n",
       "      <td>False</td>\n",
       "      <td>False</td>\n",
       "    </tr>\n",
       "    <tr>\n",
       "      <th>4</th>\n",
       "      <td>1.42973</td>\n",
       "      <td>-0.203565</td>\n",
       "      <td>0.196418</td>\n",
       "      <td>-0.351015</td>\n",
       "      <td>0.840802</td>\n",
       "      <td>-0.278273</td>\n",
       "      <td>1.538367</td>\n",
       "      <td>0.719154</td>\n",
       "      <td>0.845855</td>\n",
       "      <td>1.247428</td>\n",
       "      <td>False</td>\n",
       "      <td>True</td>\n",
       "      <td>False</td>\n",
       "      <td>False</td>\n",
       "      <td>False</td>\n",
       "      <td>False</td>\n",
       "      <td>False</td>\n",
       "      <td>False</td>\n",
       "      <td>False</td>\n",
       "      <td>False</td>\n",
       "      <td>False</td>\n",
       "      <td>False</td>\n",
       "      <td>False</td>\n",
       "      <td>False</td>\n",
       "      <td>False</td>\n",
       "      <td>False</td>\n",
       "      <td>False</td>\n",
       "      <td>False</td>\n",
       "      <td>False</td>\n",
       "      <td>True</td>\n",
       "      <td>False</td>\n",
       "      <td>False</td>\n",
       "      <td>False</td>\n",
       "      <td>False</td>\n",
       "      <td>True</td>\n",
       "      <td>False</td>\n",
       "      <td>True</td>\n",
       "      <td>True</td>\n",
       "      <td>False</td>\n",
       "      <td>False</td>\n",
       "      <td>False</td>\n",
       "      <td>True</td>\n",
       "      <td>False</td>\n",
       "      <td>False</td>\n",
       "      <td>False</td>\n",
       "      <td>False</td>\n",
       "      <td>False</td>\n",
       "      <td>True</td>\n",
       "      <td>False</td>\n",
       "      <td>False</td>\n",
       "      <td>False</td>\n",
       "      <td>True</td>\n",
       "      <td>False</td>\n",
       "    </tr>\n",
       "    <tr>\n",
       "      <th>...</th>\n",
       "      <td>...</td>\n",
       "      <td>...</td>\n",
       "      <td>...</td>\n",
       "      <td>...</td>\n",
       "      <td>...</td>\n",
       "      <td>...</td>\n",
       "      <td>...</td>\n",
       "      <td>...</td>\n",
       "      <td>...</td>\n",
       "      <td>...</td>\n",
       "      <td>...</td>\n",
       "      <td>...</td>\n",
       "      <td>...</td>\n",
       "      <td>...</td>\n",
       "      <td>...</td>\n",
       "      <td>...</td>\n",
       "      <td>...</td>\n",
       "      <td>...</td>\n",
       "      <td>...</td>\n",
       "      <td>...</td>\n",
       "      <td>...</td>\n",
       "      <td>...</td>\n",
       "      <td>...</td>\n",
       "      <td>...</td>\n",
       "      <td>...</td>\n",
       "      <td>...</td>\n",
       "      <td>...</td>\n",
       "      <td>...</td>\n",
       "      <td>...</td>\n",
       "      <td>...</td>\n",
       "      <td>...</td>\n",
       "      <td>...</td>\n",
       "      <td>...</td>\n",
       "      <td>...</td>\n",
       "      <td>...</td>\n",
       "      <td>...</td>\n",
       "      <td>...</td>\n",
       "      <td>...</td>\n",
       "      <td>...</td>\n",
       "      <td>...</td>\n",
       "      <td>...</td>\n",
       "      <td>...</td>\n",
       "      <td>...</td>\n",
       "      <td>...</td>\n",
       "      <td>...</td>\n",
       "      <td>...</td>\n",
       "      <td>...</td>\n",
       "      <td>...</td>\n",
       "      <td>...</td>\n",
       "      <td>...</td>\n",
       "      <td>...</td>\n",
       "      <td>...</td>\n",
       "      <td>...</td>\n",
       "    </tr>\n",
       "    <tr>\n",
       "      <th>28826</th>\n",
       "      <td>1.42973</td>\n",
       "      <td>-0.203565</td>\n",
       "      <td>0.196418</td>\n",
       "      <td>-0.351015</td>\n",
       "      <td>0.840802</td>\n",
       "      <td>-0.278273</td>\n",
       "      <td>1.538367</td>\n",
       "      <td>0.718579</td>\n",
       "      <td>0.845855</td>\n",
       "      <td>-0.160036</td>\n",
       "      <td>False</td>\n",
       "      <td>False</td>\n",
       "      <td>False</td>\n",
       "      <td>False</td>\n",
       "      <td>False</td>\n",
       "      <td>False</td>\n",
       "      <td>False</td>\n",
       "      <td>False</td>\n",
       "      <td>False</td>\n",
       "      <td>False</td>\n",
       "      <td>True</td>\n",
       "      <td>True</td>\n",
       "      <td>False</td>\n",
       "      <td>False</td>\n",
       "      <td>False</td>\n",
       "      <td>False</td>\n",
       "      <td>False</td>\n",
       "      <td>False</td>\n",
       "      <td>False</td>\n",
       "      <td>False</td>\n",
       "      <td>False</td>\n",
       "      <td>True</td>\n",
       "      <td>False</td>\n",
       "      <td>False</td>\n",
       "      <td>True</td>\n",
       "      <td>False</td>\n",
       "      <td>False</td>\n",
       "      <td>True</td>\n",
       "      <td>False</td>\n",
       "      <td>False</td>\n",
       "      <td>False</td>\n",
       "      <td>True</td>\n",
       "      <td>False</td>\n",
       "      <td>False</td>\n",
       "      <td>False</td>\n",
       "      <td>False</td>\n",
       "      <td>False</td>\n",
       "      <td>False</td>\n",
       "      <td>False</td>\n",
       "      <td>True</td>\n",
       "      <td>False</td>\n",
       "      <td>True</td>\n",
       "      <td>False</td>\n",
       "    </tr>\n",
       "    <tr>\n",
       "      <th>28827</th>\n",
       "      <td>-0.76711</td>\n",
       "      <td>-0.567466</td>\n",
       "      <td>0.196418</td>\n",
       "      <td>-0.351015</td>\n",
       "      <td>0.840802</td>\n",
       "      <td>0.953186</td>\n",
       "      <td>-0.225863</td>\n",
       "      <td>0.778445</td>\n",
       "      <td>0.845855</td>\n",
       "      <td>0.130762</td>\n",
       "      <td>False</td>\n",
       "      <td>False</td>\n",
       "      <td>True</td>\n",
       "      <td>False</td>\n",
       "      <td>False</td>\n",
       "      <td>False</td>\n",
       "      <td>False</td>\n",
       "      <td>False</td>\n",
       "      <td>False</td>\n",
       "      <td>False</td>\n",
       "      <td>False</td>\n",
       "      <td>True</td>\n",
       "      <td>False</td>\n",
       "      <td>False</td>\n",
       "      <td>False</td>\n",
       "      <td>False</td>\n",
       "      <td>False</td>\n",
       "      <td>False</td>\n",
       "      <td>True</td>\n",
       "      <td>False</td>\n",
       "      <td>False</td>\n",
       "      <td>False</td>\n",
       "      <td>False</td>\n",
       "      <td>False</td>\n",
       "      <td>True</td>\n",
       "      <td>False</td>\n",
       "      <td>True</td>\n",
       "      <td>False</td>\n",
       "      <td>True</td>\n",
       "      <td>False</td>\n",
       "      <td>False</td>\n",
       "      <td>False</td>\n",
       "      <td>False</td>\n",
       "      <td>False</td>\n",
       "      <td>False</td>\n",
       "      <td>False</td>\n",
       "      <td>False</td>\n",
       "      <td>False</td>\n",
       "      <td>False</td>\n",
       "      <td>True</td>\n",
       "      <td>False</td>\n",
       "      <td>True</td>\n",
       "      <td>False</td>\n",
       "    </tr>\n",
       "    <tr>\n",
       "      <th>28828</th>\n",
       "      <td>-0.480565</td>\n",
       "      <td>0.160335</td>\n",
       "      <td>0.196418</td>\n",
       "      <td>-0.351015</td>\n",
       "      <td>0.840802</td>\n",
       "      <td>-0.472714</td>\n",
       "      <td>0.593182</td>\n",
       "      <td>0.774991</td>\n",
       "      <td>0.845855</td>\n",
       "      <td>-0.29962</td>\n",
       "      <td>False</td>\n",
       "      <td>True</td>\n",
       "      <td>False</td>\n",
       "      <td>False</td>\n",
       "      <td>False</td>\n",
       "      <td>False</td>\n",
       "      <td>False</td>\n",
       "      <td>False</td>\n",
       "      <td>False</td>\n",
       "      <td>False</td>\n",
       "      <td>False</td>\n",
       "      <td>False</td>\n",
       "      <td>True</td>\n",
       "      <td>False</td>\n",
       "      <td>False</td>\n",
       "      <td>False</td>\n",
       "      <td>False</td>\n",
       "      <td>False</td>\n",
       "      <td>False</td>\n",
       "      <td>True</td>\n",
       "      <td>False</td>\n",
       "      <td>False</td>\n",
       "      <td>False</td>\n",
       "      <td>False</td>\n",
       "      <td>False</td>\n",
       "      <td>False</td>\n",
       "      <td>False</td>\n",
       "      <td>False</td>\n",
       "      <td>False</td>\n",
       "      <td>False</td>\n",
       "      <td>True</td>\n",
       "      <td>False</td>\n",
       "      <td>False</td>\n",
       "      <td>False</td>\n",
       "      <td>False</td>\n",
       "      <td>False</td>\n",
       "      <td>False</td>\n",
       "      <td>True</td>\n",
       "      <td>False</td>\n",
       "      <td>False</td>\n",
       "      <td>False</td>\n",
       "      <td>True</td>\n",
       "      <td>False</td>\n",
       "    </tr>\n",
       "    <tr>\n",
       "      <th>28829</th>\n",
       "      <td>0.761127</td>\n",
       "      <td>-0.567466</td>\n",
       "      <td>0.196418</td>\n",
       "      <td>-0.351015</td>\n",
       "      <td>-1.195458</td>\n",
       "      <td>-1.228873</td>\n",
       "      <td>-1.17796</td>\n",
       "      <td>-1.313427</td>\n",
       "      <td>-0.93521</td>\n",
       "      <td>-0.536136</td>\n",
       "      <td>False</td>\n",
       "      <td>True</td>\n",
       "      <td>False</td>\n",
       "      <td>False</td>\n",
       "      <td>False</td>\n",
       "      <td>False</td>\n",
       "      <td>False</td>\n",
       "      <td>False</td>\n",
       "      <td>False</td>\n",
       "      <td>False</td>\n",
       "      <td>False</td>\n",
       "      <td>True</td>\n",
       "      <td>False</td>\n",
       "      <td>False</td>\n",
       "      <td>True</td>\n",
       "      <td>False</td>\n",
       "      <td>False</td>\n",
       "      <td>False</td>\n",
       "      <td>False</td>\n",
       "      <td>False</td>\n",
       "      <td>False</td>\n",
       "      <td>False</td>\n",
       "      <td>False</td>\n",
       "      <td>False</td>\n",
       "      <td>False</td>\n",
       "      <td>False</td>\n",
       "      <td>False</td>\n",
       "      <td>False</td>\n",
       "      <td>False</td>\n",
       "      <td>False</td>\n",
       "      <td>False</td>\n",
       "      <td>False</td>\n",
       "      <td>False</td>\n",
       "      <td>True</td>\n",
       "      <td>False</td>\n",
       "      <td>False</td>\n",
       "      <td>False</td>\n",
       "      <td>False</td>\n",
       "      <td>False</td>\n",
       "      <td>False</td>\n",
       "      <td>True</td>\n",
       "      <td>True</td>\n",
       "      <td>False</td>\n",
       "    </tr>\n",
       "    <tr>\n",
       "      <th>28830</th>\n",
       "      <td>-0.57608</td>\n",
       "      <td>-0.203565</td>\n",
       "      <td>0.196418</td>\n",
       "      <td>-0.351015</td>\n",
       "      <td>-1.195458</td>\n",
       "      <td>-1.228873</td>\n",
       "      <td>-1.17796</td>\n",
       "      <td>-1.333575</td>\n",
       "      <td>-0.93521</td>\n",
       "      <td>0.933366</td>\n",
       "      <td>True</td>\n",
       "      <td>False</td>\n",
       "      <td>False</td>\n",
       "      <td>False</td>\n",
       "      <td>False</td>\n",
       "      <td>False</td>\n",
       "      <td>False</td>\n",
       "      <td>False</td>\n",
       "      <td>False</td>\n",
       "      <td>False</td>\n",
       "      <td>False</td>\n",
       "      <td>False</td>\n",
       "      <td>True</td>\n",
       "      <td>False</td>\n",
       "      <td>False</td>\n",
       "      <td>False</td>\n",
       "      <td>False</td>\n",
       "      <td>False</td>\n",
       "      <td>False</td>\n",
       "      <td>True</td>\n",
       "      <td>False</td>\n",
       "      <td>True</td>\n",
       "      <td>False</td>\n",
       "      <td>False</td>\n",
       "      <td>True</td>\n",
       "      <td>False</td>\n",
       "      <td>False</td>\n",
       "      <td>False</td>\n",
       "      <td>False</td>\n",
       "      <td>False</td>\n",
       "      <td>False</td>\n",
       "      <td>False</td>\n",
       "      <td>False</td>\n",
       "      <td>True</td>\n",
       "      <td>False</td>\n",
       "      <td>False</td>\n",
       "      <td>False</td>\n",
       "      <td>True</td>\n",
       "      <td>False</td>\n",
       "      <td>False</td>\n",
       "      <td>False</td>\n",
       "      <td>True</td>\n",
       "      <td>False</td>\n",
       "    </tr>\n",
       "  </tbody>\n",
       "</table>\n",
       "<p>28831 rows × 53 columns</p>\n",
       "</div>"
      ],
      "text/plain": [
       "             10        11        12        13        14        15        16  \\\n",
       "0     -0.289536 -0.567466  0.196418 -0.351015 -2.213588  2.249459 -1.599578   \n",
       "1     -0.958139 -0.567466  0.196418  1.665344 -1.131825  0.477886  0.781528   \n",
       "2       1.62076 -0.203565  0.196418 -0.351015 -0.113695 -0.321482 -0.647481   \n",
       "3      0.570097 -0.567466  0.196418  1.665344 -1.195458 -1.228873  -1.17796   \n",
       "4       1.42973 -0.203565  0.196418 -0.351015  0.840802 -0.278273  1.538367   \n",
       "...         ...       ...       ...       ...       ...       ...       ...   \n",
       "28826   1.42973 -0.203565  0.196418 -0.351015  0.840802 -0.278273  1.538367   \n",
       "28827  -0.76711 -0.567466  0.196418 -0.351015  0.840802  0.953186 -0.225863   \n",
       "28828 -0.480565  0.160335  0.196418 -0.351015  0.840802 -0.472714  0.593182   \n",
       "28829  0.761127 -0.567466  0.196418 -0.351015 -1.195458 -1.228873  -1.17796   \n",
       "28830  -0.57608 -0.203565  0.196418 -0.351015 -1.195458 -1.228873  -1.17796   \n",
       "\n",
       "             17        18        19  0_blue-collar  0_entrepreneur  \\\n",
       "0     -1.669748 -2.061837 -0.035962          False           False   \n",
       "1     -1.563255 -2.419431 -0.392675          False           False   \n",
       "2      0.233315  0.399899 -0.477976           True           False   \n",
       "3     -1.352571  -0.93521 -0.291865          False           False   \n",
       "4      0.719154  0.845855  1.247428          False            True   \n",
       "...         ...       ...       ...            ...             ...   \n",
       "28826  0.718579  0.845855 -0.160036          False           False   \n",
       "28827  0.778445  0.845855  0.130762          False           False   \n",
       "28828  0.774991  0.845855  -0.29962          False            True   \n",
       "28829 -1.313427  -0.93521 -0.536136          False            True   \n",
       "28830 -1.333575  -0.93521  0.933366           True           False   \n",
       "\n",
       "       0_housemaid  0_management  0_retired  0_self-employed  0_services  \\\n",
       "0            False         False      False            False       False   \n",
       "1            False         False      False            False       False   \n",
       "2            False         False      False            False       False   \n",
       "3            False         False      False            False        True   \n",
       "4            False         False      False            False       False   \n",
       "...            ...           ...        ...              ...         ...   \n",
       "28826        False         False      False            False       False   \n",
       "28827         True         False      False            False       False   \n",
       "28828        False         False      False            False       False   \n",
       "28829        False         False      False            False       False   \n",
       "28830        False         False      False            False       False   \n",
       "\n",
       "       0_student  0_technician  0_unemployed  0_unknown  1_married  1_single  \\\n",
       "0          False         False         False      False      False      True   \n",
       "1          False         False         False      False      False      True   \n",
       "2          False         False         False      False       True     False   \n",
       "3          False         False         False      False       True     False   \n",
       "4          False         False         False      False      False     False   \n",
       "...          ...           ...           ...        ...        ...       ...   \n",
       "28826      False         False         False       True       True     False   \n",
       "28827      False         False         False      False       True     False   \n",
       "28828      False         False         False      False      False      True   \n",
       "28829      False         False         False      False       True     False   \n",
       "28830      False         False         False      False      False      True   \n",
       "\n",
       "       1_unknown  2_basic.6y  2_basic.9y  2_high.school  2_illiterate  \\\n",
       "0          False       False       False           True         False   \n",
       "1          False       False       False          False         False   \n",
       "2          False       False        True          False         False   \n",
       "3          False       False       False           True         False   \n",
       "4          False       False       False          False         False   \n",
       "...          ...         ...         ...            ...           ...   \n",
       "28826      False       False       False          False         False   \n",
       "28827      False       False       False          False         False   \n",
       "28828      False       False       False          False         False   \n",
       "28829      False        True       False          False         False   \n",
       "28830      False       False       False          False         False   \n",
       "\n",
       "       2_professional.course  2_university.degree  2_unknown  3_unknown  \\\n",
       "0                      False                False      False      False   \n",
       "1                      False                 True      False      False   \n",
       "2                      False                False      False       True   \n",
       "3                      False                False      False      False   \n",
       "4                      False                 True      False      False   \n",
       "...                      ...                  ...        ...        ...   \n",
       "28826                  False                False      False       True   \n",
       "28827                   True                False      False      False   \n",
       "28828                  False                 True      False      False   \n",
       "28829                  False                False      False      False   \n",
       "28830                  False                 True      False       True   \n",
       "\n",
       "       3_yes  4_unknown  4_yes  5_unknown  5_yes  6_telephone  7_aug  7_dec  \\\n",
       "0      False      False  False      False   True        False  False  False   \n",
       "1      False      False  False      False  False         True   True  False   \n",
       "2      False      False   True      False   True        False  False  False   \n",
       "3      False      False   True      False  False        False  False  False   \n",
       "4      False      False   True      False   True         True  False  False   \n",
       "...      ...        ...    ...        ...    ...          ...    ...    ...   \n",
       "28826  False      False   True      False  False         True  False  False   \n",
       "28827  False      False   True      False   True        False   True  False   \n",
       "28828  False      False  False      False  False        False  False  False   \n",
       "28829  False      False  False      False  False        False  False  False   \n",
       "28830  False      False   True      False  False        False  False  False   \n",
       "\n",
       "       7_jul  7_jun  7_mar  7_may  7_nov  7_oct  7_sep  8_mon  8_thu  8_tue  \\\n",
       "0      False  False  False  False   True  False  False  False  False  False   \n",
       "1      False  False  False  False  False  False  False  False  False  False   \n",
       "2      False  False  False  False   True  False  False  False  False  False   \n",
       "3      False  False  False   True  False  False  False  False   True  False   \n",
       "4      False   True  False  False  False  False  False   True  False  False   \n",
       "...      ...    ...    ...    ...    ...    ...    ...    ...    ...    ...   \n",
       "28826  False   True  False  False  False  False  False  False  False   True   \n",
       "28827  False  False  False  False  False  False  False  False  False   True   \n",
       "28828   True  False  False  False  False  False  False   True  False  False   \n",
       "28829  False  False  False   True  False  False  False  False  False  False   \n",
       "28830  False  False  False   True  False  False  False   True  False  False   \n",
       "\n",
       "       8_wed  9_nonexistent  9_success  \n",
       "0       True           True      False  \n",
       "1       True          False      False  \n",
       "2      False           True      False  \n",
       "3      False          False      False  \n",
       "4      False           True      False  \n",
       "...      ...            ...        ...  \n",
       "28826  False           True      False  \n",
       "28827  False           True      False  \n",
       "28828  False           True      False  \n",
       "28829   True           True      False  \n",
       "28830  False           True      False  \n",
       "\n",
       "[28831 rows x 53 columns]"
      ]
     },
     "execution_count": 178,
     "metadata": {},
     "output_type": "execute_result"
    }
   ],
   "source": [
    "X_train"
   ]
  },
  {
   "cell_type": "markdown",
   "metadata": {},
   "source": [
    "**Теперь выберем 40 признаков с наибольшим модулем соответствующего параметра линейной модели. Обучите модель, оценим её качество.**"
   ]
  },
  {
   "cell_type": "code",
   "execution_count": 180,
   "metadata": {},
   "outputs": [],
   "source": [
    "X_train.columns = X_train.columns.astype(str)\n",
    "X_test.columns = X_test.columns.astype(str)"
   ]
  },
  {
   "cell_type": "code",
   "execution_count": 182,
   "metadata": {},
   "outputs": [
    {
     "data": {
      "text/html": [
       "<style>#sk-container-id-2 {color: black;background-color: white;}#sk-container-id-2 pre{padding: 0;}#sk-container-id-2 div.sk-toggleable {background-color: white;}#sk-container-id-2 label.sk-toggleable__label {cursor: pointer;display: block;width: 100%;margin-bottom: 0;padding: 0.3em;box-sizing: border-box;text-align: center;}#sk-container-id-2 label.sk-toggleable__label-arrow:before {content: \"▸\";float: left;margin-right: 0.25em;color: #696969;}#sk-container-id-2 label.sk-toggleable__label-arrow:hover:before {color: black;}#sk-container-id-2 div.sk-estimator:hover label.sk-toggleable__label-arrow:before {color: black;}#sk-container-id-2 div.sk-toggleable__content {max-height: 0;max-width: 0;overflow: hidden;text-align: left;background-color: #f0f8ff;}#sk-container-id-2 div.sk-toggleable__content pre {margin: 0.2em;color: black;border-radius: 0.25em;background-color: #f0f8ff;}#sk-container-id-2 input.sk-toggleable__control:checked~div.sk-toggleable__content {max-height: 200px;max-width: 100%;overflow: auto;}#sk-container-id-2 input.sk-toggleable__control:checked~label.sk-toggleable__label-arrow:before {content: \"▾\";}#sk-container-id-2 div.sk-estimator input.sk-toggleable__control:checked~label.sk-toggleable__label {background-color: #d4ebff;}#sk-container-id-2 div.sk-label input.sk-toggleable__control:checked~label.sk-toggleable__label {background-color: #d4ebff;}#sk-container-id-2 input.sk-hidden--visually {border: 0;clip: rect(1px 1px 1px 1px);clip: rect(1px, 1px, 1px, 1px);height: 1px;margin: -1px;overflow: hidden;padding: 0;position: absolute;width: 1px;}#sk-container-id-2 div.sk-estimator {font-family: monospace;background-color: #f0f8ff;border: 1px dotted black;border-radius: 0.25em;box-sizing: border-box;margin-bottom: 0.5em;}#sk-container-id-2 div.sk-estimator:hover {background-color: #d4ebff;}#sk-container-id-2 div.sk-parallel-item::after {content: \"\";width: 100%;border-bottom: 1px solid gray;flex-grow: 1;}#sk-container-id-2 div.sk-label:hover label.sk-toggleable__label {background-color: #d4ebff;}#sk-container-id-2 div.sk-serial::before {content: \"\";position: absolute;border-left: 1px solid gray;box-sizing: border-box;top: 0;bottom: 0;left: 50%;z-index: 0;}#sk-container-id-2 div.sk-serial {display: flex;flex-direction: column;align-items: center;background-color: white;padding-right: 0.2em;padding-left: 0.2em;position: relative;}#sk-container-id-2 div.sk-item {position: relative;z-index: 1;}#sk-container-id-2 div.sk-parallel {display: flex;align-items: stretch;justify-content: center;background-color: white;position: relative;}#sk-container-id-2 div.sk-item::before, #sk-container-id-2 div.sk-parallel-item::before {content: \"\";position: absolute;border-left: 1px solid gray;box-sizing: border-box;top: 0;bottom: 0;left: 50%;z-index: -1;}#sk-container-id-2 div.sk-parallel-item {display: flex;flex-direction: column;z-index: 1;position: relative;background-color: white;}#sk-container-id-2 div.sk-parallel-item:first-child::after {align-self: flex-end;width: 50%;}#sk-container-id-2 div.sk-parallel-item:last-child::after {align-self: flex-start;width: 50%;}#sk-container-id-2 div.sk-parallel-item:only-child::after {width: 0;}#sk-container-id-2 div.sk-dashed-wrapped {border: 1px dashed gray;margin: 0 0.4em 0.5em 0.4em;box-sizing: border-box;padding-bottom: 0.4em;background-color: white;}#sk-container-id-2 div.sk-label label {font-family: monospace;font-weight: bold;display: inline-block;line-height: 1.2em;}#sk-container-id-2 div.sk-label-container {text-align: center;}#sk-container-id-2 div.sk-container {/* jupyter's `normalize.less` sets `[hidden] { display: none; }` but bootstrap.min.css set `[hidden] { display: none !important; }` so we also need the `!important` here to be able to override the default hidden behavior on the sphinx rendered scikit-learn.org. See: https://github.com/scikit-learn/scikit-learn/issues/21755 */display: inline-block !important;position: relative;}#sk-container-id-2 div.sk-text-repr-fallback {display: none;}</style><div id=\"sk-container-id-2\" class=\"sk-top-container\"><div class=\"sk-text-repr-fallback\"><pre>LogisticRegression()</pre><b>In a Jupyter environment, please rerun this cell to show the HTML representation or trust the notebook. <br />On GitHub, the HTML representation is unable to render, please try loading this page with nbviewer.org.</b></div><div class=\"sk-container\" hidden><div class=\"sk-item\"><div class=\"sk-estimator sk-toggleable\"><input class=\"sk-toggleable__control sk-hidden--visually\" id=\"sk-estimator-id-8\" type=\"checkbox\" checked><label for=\"sk-estimator-id-8\" class=\"sk-toggleable__label sk-toggleable__label-arrow\">LogisticRegression</label><div class=\"sk-toggleable__content\"><pre>LogisticRegression()</pre></div></div></div></div></div>"
      ],
      "text/plain": [
       "LogisticRegression()"
      ]
     },
     "execution_count": 182,
     "metadata": {},
     "output_type": "execute_result"
    }
   ],
   "source": [
    "clf = LogisticRegression()\n",
    "clf.fit(X_train, y_train)"
   ]
  },
  {
   "cell_type": "code",
   "execution_count": 184,
   "metadata": {},
   "outputs": [
    {
     "name": "stdout",
     "output_type": "stream",
     "text": [
      "Время на обучение модели: 0.19983410835266113\n",
      "AUC-PR (40 признаков) = 0.95316\n",
      "indices = Index([17, 49,  8, 22, 23, 29, 12, 30,  5, 48, 19, 40, 21,  0, 18, 45, 34, 25,\n",
      "       13, 26, 32, 28,  3, 20, 36, 11, 33, 35,  1, 15, 16,  2, 47, 10, 31, 41,\n",
      "       44, 43, 37,  4],\n",
      "      dtype='int64')\n"
     ]
    }
   ],
   "source": [
    "start_time = time.time()\n",
    "\n",
    "indices = pd.DataFrame(clf.coef_[0], [*range(53)]).sort_values(by=0).tail(40).index #Выбрали 40 лучших весов\n",
    "\n",
    "x_train = X_train.iloc[:, indices.values] #выбрали признаки, соответствующие лучшим весам\n",
    "x_test = X_test.iloc[:, indices.values]\n",
    "\n",
    "clf1 = LogisticRegression()\n",
    "clf1.fit(x_train, y_train)\n",
    "a_x = clf1.predict(x_test)\n",
    "\n",
    "auc_pr_lr_fourty = auc_pr(y_test,a_x)\n",
    "\n",
    "print('Время на обучение модели:', time.time() - start_time)\n",
    "print(\"AUC-PR (40 признаков) = %.5f\" %  auc_pr_lr_fourty)\n",
    "print('indices =', indices)"
   ]
  },
  {
   "cell_type": "markdown",
   "metadata": {},
   "source": [
    "**Домашнее задание**"
   ]
  },
  {
   "cell_type": "markdown",
   "metadata": {},
   "source": [
    "✅ one-hot кодирование возвращает нам единичные признаки-индикаторы. Попробуйте также отскалировать их, как и обычные числовые, и снова выбрать 40 главных по вкладу признаков. Изменился ли их список? Изменится ли качество?"
   ]
  },
  {
   "cell_type": "code",
   "execution_count": 186,
   "metadata": {},
   "outputs": [],
   "source": [
    "df = pd.read_csv('bank-additional-full.csv', sep=';')\n",
    "\n",
    "#удалили целевой столбец и неинформативный признак\n",
    "X = df.drop(columns=['duration', 'y'])\n",
    "\n",
    "#обработали столбец таргета\n",
    "df.loc[df['y'] == 'yes', 'y'] = 0\n",
    "df.loc[df['y'] == 'no', 'y'] = 1\n",
    "y = df['y']\n",
    "\n",
    "#разделили выборку на обучающую и тестовую\n",
    "X_train, X_test, y_train, y_test = train_test_split(X, y, test_size=0.3, random_state=777, stratify=y)\n",
    "\n",
    "y_train = y_train.astype('int')\n",
    "y_test = y_test.astype('int')"
   ]
  },
  {
   "cell_type": "code",
   "execution_count": 202,
   "metadata": {},
   "outputs": [],
   "source": [
    "X = pd.get_dummies(X, drop_first=True)"
   ]
  },
  {
   "cell_type": "code",
   "execution_count": 206,
   "metadata": {},
   "outputs": [],
   "source": [
    "num = X.columns"
   ]
  },
  {
   "cell_type": "code",
   "execution_count": 218,
   "metadata": {},
   "outputs": [],
   "source": [
    "X_train, X_test, y_train, y_test = train_test_split(X, y, test_size=0.3, random_state=777, stratify=y)\n",
    "\n",
    "y_train = y_train.astype('int')\n",
    "y_test = y_test.astype('int')"
   ]
  },
  {
   "cell_type": "code",
   "execution_count": 222,
   "metadata": {},
   "outputs": [
    {
     "name": "stderr",
     "output_type": "stream",
     "text": [
      "/opt/anaconda3/lib/python3.11/site-packages/sklearn/base.py:432: UserWarning: X has feature names, but StandardScaler was fitted without feature names\n",
      "  warnings.warn(\n"
     ]
    }
   ],
   "source": [
    "scaler = StandardScaler()\n",
    "X_train = pd.DataFrame(scaler.fit_transform(X_train))\n",
    "X_test = pd.DataFrame(scaler.transform(X_test))"
   ]
  },
  {
   "cell_type": "code",
   "execution_count": 226,
   "metadata": {},
   "outputs": [
    {
     "name": "stdout",
     "output_type": "stream",
     "text": [
      "Время на обучение модели: 0.0745999813079834\n",
      "AUC-PR (40 признаков) = 0.94368\n",
      "indices = Index([17, 49,  8, 22, 23, 29, 12, 30,  5, 48, 19, 40, 21,  0, 18, 45, 34, 25,\n",
      "       13, 26, 32, 28,  3, 20, 36, 11, 33, 35,  1, 15, 16,  2, 47, 10, 31, 41,\n",
      "       44, 43, 37,  4],\n",
      "      dtype='int64')\n"
     ]
    }
   ],
   "source": [
    "start_time = time.time()\n",
    "\n",
    "indices = pd.DataFrame(clf.coef_[0], [*range(53)]).sort_values(by=0).tail(40).index #Выбрали 40 лучших весов\n",
    "\n",
    "x_train = X_train.iloc[:, indices.values] #выбрали признаки, соответствующие лучшим весам\n",
    "x_test = X_test.iloc[:, indices.values]\n",
    "\n",
    "clf1 = LogisticRegression()\n",
    "clf1.fit(x_train, y_train)\n",
    "a_x = clf1.predict(x_test)\n",
    "\n",
    "auc_pr_lr_fourty = auc_pr(y_test,a_x)\n",
    "\n",
    "print('Время на обучение модели:', time.time() - start_time)\n",
    "print(\"AUC-PR (40 признаков) = %.5f\" %  auc_pr_lr_fourty)\n",
    "print('indices =', indices)"
   ]
  },
  {
   "cell_type": "code",
   "execution_count": null,
   "metadata": {},
   "outputs": [],
   "source": []
  },
  {
   "cell_type": "markdown",
   "metadata": {},
   "source": [
    "**Домашнее задание**"
   ]
  },
  {
   "cell_type": "markdown",
   "metadata": {},
   "source": [
    "### Методы фильтрации\n",
    "\n",
    "\n",
    "Давайте отбирать признаки умнее, а именно через подсчёт некоторой функции для каждого признака. На основании значений этой функции будем оставлять наиболее важные признаки. Методы этого семейства называют фильтрующими или  filter methods. \n",
    "\n",
    "В качестве такой функции будем считать t-статистику:\n",
    "\n",
    "$$t(j) = \\frac{|\\mu_+ - \\mu_-|}{\\sqrt{\\frac{n_+ \\sigma^2_+ + n_- \\sigma^2_-}{n_+ + n_-}}},$$\n",
    "\n",
    "где $\\mu$, $\\sigma$, $n$ соответственно среднее, стандартное отклонение и количество объектов каждого из классов.\n",
    "\n",
    "\n"
   ]
  },
  {
   "cell_type": "markdown",
   "metadata": {},
   "source": [
    "✅ Оставьте 40 признаков с наибольшим значением $t$ и замерьте качество. Не забудьте замерить скорость отбора признаков в этом случае."
   ]
  },
  {
   "cell_type": "code",
   "execution_count": 232,
   "metadata": {},
   "outputs": [],
   "source": [
    "from math import sqrt"
   ]
  },
  {
   "cell_type": "code",
   "execution_count": 236,
   "metadata": {},
   "outputs": [],
   "source": [
    "def calculate(X, y):\n",
    "    scores = []\n",
    "    y_1 = X[y==1]\n",
    "    y_0 = X[y==0]\n",
    "    for col in X.columns:\n",
    "        u1 = y_1[col].mean()\n",
    "        u0 = y_0[col].mean()\n",
    "        d1 = y_1[col].var()\n",
    "        d0 = y_0[col].var()\n",
    "        n1 = len(y_1)\n",
    "        n0 = len(y_0)\n",
    "        t = (abs(u1-u0))/(sqrt((n1*d1+n0*d0)/n1+n0))\n",
    "        scores.append(t)\n",
    "    t_scores_df = pd.DataFrame({'feature': X.columns, 't_score': scores})\n",
    "    return t_scores_df"
   ]
  },
  {
   "cell_type": "code",
   "execution_count": 238,
   "metadata": {},
   "outputs": [],
   "source": [
    "new_df = calculate(X, y)"
   ]
  },
  {
   "cell_type": "code",
   "execution_count": 242,
   "metadata": {},
   "outputs": [],
   "source": [
    "selected_features = new_df.nlargest(40, 't_score')['feature']"
   ]
  },
  {
   "cell_type": "code",
   "execution_count": 244,
   "metadata": {},
   "outputs": [
    {
     "data": {
      "text/plain": [
       "2                           pdays\n",
       "8                     nr.employed\n",
       "7                       euribor3m\n",
       "4                    emp.var.rate\n",
       "0                             age\n",
       "6                   cons.conf.idx\n",
       "1                        campaign\n",
       "3                        previous\n",
       "5                  cons.price.idx\n",
       "36              contact_telephone\n",
       "50           poutcome_nonexistent\n",
       "51               poutcome_success\n",
       "42                      month_may\n",
       "30                default_unknown\n",
       "9                 job_blue-collar\n",
       "21                 marital_single\n",
       "28    education_university.degree\n",
       "20                marital_married\n",
       "13                    job_retired\n",
       "44                      month_oct\n",
       "41                      month_mar\n",
       "24             education_basic.9y\n",
       "45                      month_sep\n",
       "16                    job_student\n",
       "39                      month_jul\n",
       "15                   job_services\n",
       "46                day_of_week_mon\n",
       "33                    housing_yes\n",
       "47                day_of_week_thu\n",
       "23             education_basic.6y\n",
       "38                      month_dec\n",
       "29              education_unknown\n",
       "43                      month_nov\n",
       "48                day_of_week_tue\n",
       "37                      month_aug\n",
       "25          education_high.school\n",
       "40                      month_jun\n",
       "10               job_entrepreneur\n",
       "49                day_of_week_wed\n",
       "18                 job_unemployed\n",
       "Name: feature, dtype: object"
      ]
     },
     "execution_count": 244,
     "metadata": {},
     "output_type": "execute_result"
    }
   ],
   "source": [
    "selected_features"
   ]
  },
  {
   "cell_type": "markdown",
   "metadata": {},
   "source": [
    "**Домашнее задание**"
   ]
  },
  {
   "cell_type": "markdown",
   "metadata": {},
   "source": [
    "### Методы-обёртки\n",
    "\n",
    "\n",
    "Третий из рассматриваемых нами методов работает следующим образом: мы исключаем по очереди один из признаков и смотрим, как это влияет на качество. Удаляем признаки таким жадным способом, пока не окажется выполненым некоторое условие (количество признаков или ухудшение качества).\n",
    "\n",
    "\n",
    "✅ Снова оставьте только 40 признаков и оцените качество на тестовой выборке. Сколько времени занял такой отбор признаков?"
   ]
  },
  {
   "cell_type": "code",
   "execution_count": 246,
   "metadata": {},
   "outputs": [],
   "source": [
    "#ПОДГРУЗКА ДАННЫХ\n",
    "df = pd.read_csv('bank-additional-full.csv', sep=';')\n",
    "\n",
    "#удалили целевой столбец и неинформативный признак\n",
    "X = df.drop(columns=['duration', 'y'])\n",
    "\n",
    "#обработали столбец таргета\n",
    "df.loc[df['y'] == 'yes', 'y'] = 0\n",
    "df.loc[df['y'] == 'no', 'y'] = 1\n",
    "y = df['y']\n",
    "\n",
    "#обучающая и тестовая\n",
    "X_train, X_test, y_train, y_test = train_test_split(X, y, test_size=0.25, random_state=42)\n",
    "\n",
    "#валидационная\n",
    "X_train1, X_val, y_train1, y_val = train_test_split(X_train, y_train, test_size=0.3, random_state=42)\n",
    "\n",
    "#ПРЕОБРАЗОВАНИЕ ЦЕЛЕВОЙ ПЕРЕМЕННОЙ \n",
    "y_train = y_train.astype('int')\n",
    "y_train1 = y_train1.astype('int')\n",
    "y_test = y_test.astype('int')\n",
    "y_val = y_val.astype('int')\n",
    "\n",
    "#КОДИРОВАНИЕ ДАННЫХ\n",
    "#закодировали категории\n",
    "cat_mask1 = X_train1.select_dtypes(include=['object']).columns\n",
    "cat_mask2 = X_test.select_dtypes(include=['object']).columns\n",
    "cat_mask3 = X_val.select_dtypes(include=['object']).columns\n",
    "\n",
    "#drop_first = True даст k-1 столбцов для столбца с k категориями -> избежим попадения в дамми-трэп\n",
    "X_train1 = pd.get_dummies(X_train1, columns = cat_mask1, drop_first=True)\n",
    "X_test = pd.get_dummies(X_test, columns = cat_mask2, drop_first=True)\n",
    "X_val = pd.get_dummies(X_val, columns = cat_mask3, drop_first=True)\n",
    "columns_ = X_train1.columns\n",
    "\n",
    "#отмасштабируем все!\n",
    "scaler = StandardScaler()\n",
    "\n",
    "X_train1 = pd.DataFrame(scaler.fit_transform(X_train1))\n",
    "X_test = pd.DataFrame(scaler.transform(X_test))\n",
    "X_val = pd.DataFrame(scaler.transform(X_val))\n",
    "\n",
    "X_train1.columns = columns_\n",
    "X_test.columns = columns_\n",
    "X_val.columns = columns_"
   ]
  },
  {
   "cell_type": "markdown",
   "metadata": {},
   "source": [
    "### Начинаем отбор"
   ]
  },
  {
   "cell_type": "code",
   "execution_count": 256,
   "metadata": {},
   "outputs": [],
   "source": [
    "from sklearn.feature_selection import RFE"
   ]
  },
  {
   "cell_type": "code",
   "execution_count": 258,
   "metadata": {},
   "outputs": [],
   "source": [
    "model = LogisticRegression()"
   ]
  },
  {
   "cell_type": "code",
   "execution_count": 268,
   "metadata": {},
   "outputs": [
    {
     "name": "stdout",
     "output_type": "stream",
     "text": [
      "время --- 1.4217889308929443\n",
      "AUC-PR (40 признаков) = 0.95240\n"
     ]
    },
    {
     "ename": "AttributeError",
     "evalue": "'numpy.ndarray' object has no attribute 'columns'",
     "output_type": "error",
     "traceback": [
      "\u001b[0;31m---------------------------------------------------------------------------\u001b[0m",
      "\u001b[0;31mAttributeError\u001b[0m                            Traceback (most recent call last)",
      "Cell \u001b[0;32mIn[268], line 13\u001b[0m\n\u001b[1;32m     10\u001b[0m auc_pr_lr_fourty \u001b[38;5;241m=\u001b[39m auc_pr(y_val,model\u001b[38;5;241m.\u001b[39mpredict(X_test_selected))\n\u001b[1;32m     12\u001b[0m \u001b[38;5;28mprint\u001b[39m(\u001b[38;5;124m\"\u001b[39m\u001b[38;5;124mAUC-PR (40 признаков) = \u001b[39m\u001b[38;5;132;01m%.5f\u001b[39;00m\u001b[38;5;124m\"\u001b[39m \u001b[38;5;241m%\u001b[39m  auc_pr_lr_fourty)\n\u001b[0;32m---> 13\u001b[0m \u001b[38;5;28mprint\u001b[39m(X_test_selected\u001b[38;5;241m.\u001b[39mcolumns)\n",
      "\u001b[0;31mAttributeError\u001b[0m: 'numpy.ndarray' object has no attribute 'columns'"
     ]
    }
   ],
   "source": [
    "rfe = RFE(model, n_features_to_select=40)\n",
    "start_time = time.time()\n",
    "rfe_1 = rfe.fit(X_train1, y_train1)\n",
    "X_train_selected = rfe_1.transform(X_train1)\n",
    "X_test_selected = rfe_1.transform(X_val)\n",
    "model.fit(X_train_selected, y_train1)\n",
    "final_time = time.time()-start_time\n",
    "print('время' , '---', final_time)\n",
    "\n",
    "auc_pr_lr_fourty = auc_pr(y_val,model.predict(X_test_selected))\n",
    "\n",
    "print(\"AUC-PR (40 признаков) = %.5f\" %  auc_pr_lr_fourty)\n",
    "print(X_test_selected.columns)"
   ]
  },
  {
   "cell_type": "code",
   "execution_count": 270,
   "metadata": {},
   "outputs": [
    {
     "data": {
      "text/plain": [
       "array([[-0.38690046,  1.65459847,  0.19189881, ..., -0.49923392,\n",
       "         0.40004023, -0.1833145 ],\n",
       "       [-0.96287598, -0.57746558,  0.19189881, ..., -0.49923392,\n",
       "         0.40004023, -0.1833145 ],\n",
       "       [-1.63484743, -0.20545491, -5.15673261, ..., -0.49923392,\n",
       "        -2.49974856,  5.45510579],\n",
       "       ...,\n",
       "       [-0.5788923 ,  1.2825878 , -5.21114392, ..., -0.49923392,\n",
       "        -2.49974856,  5.45510579],\n",
       "       [ 0.09307915, -0.57746558,  0.19189881, ..., -0.49923392,\n",
       "         0.40004023, -0.1833145 ],\n",
       "       [-0.67488822, -0.57746558,  0.19189881, ...,  2.00306904,\n",
       "         0.40004023, -0.1833145 ]])"
      ]
     },
     "execution_count": 270,
     "metadata": {},
     "output_type": "execute_result"
    }
   ],
   "source": []
  },
  {
   "cell_type": "code",
   "execution_count": null,
   "metadata": {},
   "outputs": [],
   "source": []
  },
  {
   "cell_type": "code",
   "execution_count": null,
   "metadata": {},
   "outputs": [],
   "source": []
  },
  {
   "cell_type": "markdown",
   "metadata": {},
   "source": [
    "✅ Стоит отметить, что с помощью такого метода можно пойти и в обратную сторону. Попробуйте добавлять по одному самому полезному признаку в выборку до тех пор, пока не наберется 40 штук. "
   ]
  },
  {
   "cell_type": "code",
   "execution_count": 272,
   "metadata": {},
   "outputs": [],
   "source": [
    "#ПОДГРУЗКА ДАННЫХ\n",
    "df = pd.read_csv('bank-additional-full.csv', sep=';')\n",
    "\n",
    "#удалили целевой столбец и неинформативный признак\n",
    "X = df.drop(columns=['duration', 'y'])\n",
    "\n",
    "#обработали столбец таргета\n",
    "df.loc[df['y'] == 'yes', 'y'] = 0\n",
    "df.loc[df['y'] == 'no', 'y'] = 1\n",
    "y = df['y']\n",
    "\n",
    "#обучающая и тестовая\n",
    "X_train, X_test, y_train, y_test = train_test_split(X, y, test_size=0.25, random_state=42)\n",
    "\n",
    "#валидационная\n",
    "X_train1, X_val, y_train1, y_val = train_test_split(X_train, y_train, test_size=0.3, random_state=42)\n",
    "\n",
    "#ПРЕОБРАЗОВАНИЕ ЦЕЛЕЛВОЙ ПЕРЕМЕННОЙ \n",
    "y_train = y_train.astype('int')\n",
    "y_train1 = y_train1.astype('int')\n",
    "y_test = y_test.astype('int')\n",
    "y_val = y_val.astype('int')\n",
    "\n",
    "#КОДИРОВАНИЕ ДАННЫХ\n",
    "#закодировали категории\n",
    "cat_mask1 = X_train1.select_dtypes(include=['object']).columns\n",
    "cat_mask2 = X_test.select_dtypes(include=['object']).columns\n",
    "cat_mask3 = X_val.select_dtypes(include=['object']).columns\n",
    "\n",
    "#drop_first = True даст k-1 столбцов для столбца с k категориями -> избежим попадения в дамми-трэп\n",
    "X_train1 = pd.get_dummies(X_train1, columns = cat_mask1, drop_first=True)\n",
    "X_test = pd.get_dummies(X_test, columns = cat_mask2, drop_first=True)\n",
    "X_val = pd.get_dummies(X_val, columns = cat_mask3, drop_first=True)\n",
    "columns_ = X_train1.columns\n",
    "\n",
    "#отмасштабируем все!\n",
    "scaler = StandardScaler()\n",
    "\n",
    "X_train1 = pd.DataFrame(scaler.fit_transform(X_train1))\n",
    "X_test = pd.DataFrame(scaler.transform(X_test))\n",
    "X_val = pd.DataFrame(scaler.transform(X_val))\n",
    "\n",
    "X_train1.columns = columns_\n",
    "X_test.columns = columns_\n",
    "X_val.columns = columns_\n",
    "\n",
    "\n",
    "X_train_3 = pd.DataFrame()\n",
    "X_test_3 = pd.DataFrame()\n",
    "X_valid_3 = pd.DataFrame()"
   ]
  },
  {
   "cell_type": "markdown",
   "metadata": {},
   "source": [
    "### Отбор данных"
   ]
  },
  {
   "cell_type": "code",
   "execution_count": null,
   "metadata": {},
   "outputs": [],
   "source": []
  },
  {
   "cell_type": "code",
   "execution_count": 278,
   "metadata": {},
   "outputs": [
    {
     "name": "stdout",
     "output_type": "stream",
     "text": [
      "Добавлен признак: pdays, Текущая точность: 0.9513\n",
      "Добавлен признак: emp.var.rate, Текущая точность: 0.9514\n",
      "Добавлен признак: job_self-employed, Текущая точность: 0.9514\n",
      "Добавлен признак: education_basic.6y, Текущая точность: 0.9514\n",
      "Добавлен признак: job_housemaid, Текущая точность: 0.9514\n",
      "Добавлен признак: job_management, Текущая точность: 0.9514\n",
      "Добавлен признак: job_retired, Текущая точность: 0.9514\n",
      "Добавлен признак: job_unknown, Текущая точность: 0.9514\n",
      "Добавлен признак: marital_unknown, Текущая точность: 0.9514\n",
      "Добавлен признак: education_illiterate, Текущая точность: 0.9514\n",
      "Добавлен признак: education_professional.course, Текущая точность: 0.9514\n",
      "Добавлен признак: default_yes, Текущая точность: 0.9514\n",
      "Добавлен признак: loan_yes, Текущая точность: 0.9514\n",
      "Добавлен признак: day_of_week_wed, Текущая точность: 0.9514\n",
      "Добавлен признак: euribor3m, Текущая точность: 0.9514\n",
      "Добавлен признак: month_mar, Текущая точность: 0.9517\n",
      "Добавлен признак: job_student, Текущая точность: 0.9519\n",
      "Добавлен признак: poutcome_nonexistent, Текущая точность: 0.9520\n",
      "Добавлен признак: month_oct, Текущая точность: 0.9522\n",
      "Добавлен признак: job_technician, Текущая точность: 0.9522\n",
      "Добавлен признак: education_high.school, Текущая точность: 0.9523\n",
      "Добавлен признак: housing_yes, Текущая точность: 0.9524\n",
      "Добавлен признак: age, Текущая точность: 0.9524\n",
      "Добавлен признак: job_entrepreneur, Текущая точность: 0.9524\n",
      "Добавлен признак: housing_unknown, Текущая точность: 0.9524\n",
      "Добавлен признак: marital_single, Текущая точность: 0.9524\n",
      "Добавлен признак: loan_unknown, Текущая точность: 0.9524\n",
      "Добавлен признак: marital_married, Текущая точность: 0.9524\n",
      "Добавлен признак: day_of_week_tue, Текущая точность: 0.9523\n",
      "Добавлен признак: job_unemployed, Текущая точность: 0.9523\n",
      "Добавлен признак: default_unknown, Текущая точность: 0.9523\n",
      "Добавлен признак: month_aug, Текущая точность: 0.9524\n",
      "Добавлен признак: job_services, Текущая точность: 0.9524\n",
      "Добавлен признак: month_nov, Текущая точность: 0.9524\n",
      "Добавлен признак: previous, Текущая точность: 0.9524\n",
      "Добавлен признак: education_unknown, Текущая точность: 0.9523\n",
      "Добавлен признак: contact_telephone, Текущая точность: 0.9524\n",
      "Добавлен признак: month_dec, Текущая точность: 0.9524\n",
      "Добавлен признак: campaign, Текущая точность: 0.9524\n",
      "Добавлен признак: cons.conf.idx, Текущая точность: 0.9523\n",
      "Время, затраченное на добавление признаков: 20.75 секунд\n",
      "Точность модели с 40 признаками: 0.9523\n"
     ]
    }
   ],
   "source": [
    "\n",
    "# Список всех признаков\n",
    "all_features = list(X_train1.columns)\n",
    "\n",
    "# Массив для хранения выбранных признаков\n",
    "selected_features = []\n",
    "\n",
    "# Модель для оценки качества\n",
    "model = LogisticRegression()\n",
    "\n",
    "# Засекаем время начала\n",
    "start_time = time.time()\n",
    "\n",
    "# Цикл для жадного добавления признаков до тех пор, пока не наберется 40\n",
    "while len(selected_features) < 40:\n",
    "    best_score = 0\n",
    "    best_feature = None\n",
    "    \n",
    "    # Перебираем все невыбранные признаки\n",
    "    for feature in all_features:\n",
    "        if feature not in selected_features:\n",
    "            # Формируем временный набор признаков, включая текущий\n",
    "            temp_features = selected_features + [feature]\n",
    "            X_train_subset = X_train1[temp_features]\n",
    "            X_test_subset = X_val[temp_features]\n",
    "            \n",
    "            # Обучаем модель и оцениваем точность\n",
    "            model.fit(X_train_subset, y_train1)\n",
    "            y_pred = model.predict(X_test_subset)\n",
    "            score = auc_pr(y_val, y_pred)\n",
    "            \n",
    "            # Сохраняем признак, если он дал наилучший результат\n",
    "            if score > best_score:\n",
    "                best_score = score\n",
    "                best_feature = feature\n",
    "    \n",
    "    # Добавляем лучший признак в список выбранных\n",
    "    selected_features.append(best_feature)\n",
    "    print(f\"Добавлен признак: {best_feature}, Текущая точность: {best_score:.4f}\")\n",
    "\n",
    "# Засекаем время окончания\n",
    "end_time = time.time()\n",
    "\n",
    "# Время, потраченное на отбор признаков\n",
    "elapsed_time = end_time - start_time\n",
    "print(f\"Время, затраченное на добавление признаков: {elapsed_time:.2f} секунд\")\n",
    "\n",
    "# Окончательная модель с 40 признаками\n",
    "X_train_selected = X_train1[selected_features]\n",
    "X_test_selected = X_val[selected_features]\n",
    "model.fit(X_train_selected, y_train1)\n",
    "y_pred = model.predict(X_test_selected)\n",
    "final_ = auc_pr(y_val, y_pred)\n",
    "print(f\"Точность модели с 40 признаками: {final_:.4f}\")\n"
   ]
  },
  {
   "cell_type": "code",
   "execution_count": null,
   "metadata": {},
   "outputs": [],
   "source": []
  },
  {
   "cell_type": "code",
   "execution_count": null,
   "metadata": {},
   "outputs": [],
   "source": []
  }
 ],
 "metadata": {
  "kernelspec": {
   "display_name": "Python 3 (ipykernel)",
   "language": "python",
   "name": "python3"
  },
  "language_info": {
   "codemirror_mode": {
    "name": "ipython",
    "version": 3
   },
   "file_extension": ".py",
   "mimetype": "text/x-python",
   "name": "python",
   "nbconvert_exporter": "python",
   "pygments_lexer": "ipython3",
   "version": "3.11.7"
  }
 },
 "nbformat": 4,
 "nbformat_minor": 4
}
