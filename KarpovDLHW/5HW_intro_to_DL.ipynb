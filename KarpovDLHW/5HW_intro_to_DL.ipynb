{
  "cells": [
    {
      "cell_type": "code",
      "execution_count": 1,
      "id": "a288cecc-027e-4924-97af-a5f9a91e9254",
      "metadata": {
        "id": "a288cecc-027e-4924-97af-a5f9a91e9254"
      },
      "outputs": [],
      "source": [
        "import numpy as np\n",
        "import torch\n",
        "import torchvision.transforms as T\n",
        "from torchvision.datasets import CIFAR10\n",
        "import torch.nn as nn\n",
        "from torch.utils.data import DataLoader\n",
        "from torch.optim import Adam\n",
        "from tqdm import tqdm"
      ]
    },
    {
      "cell_type": "code",
      "execution_count": 2,
      "id": "93ca0e31-2e52-4603-8dd6-fa4b0c1dda41",
      "metadata": {
        "id": "93ca0e31-2e52-4603-8dd6-fa4b0c1dda41"
      },
      "outputs": [],
      "source": [
        "from torchvision.models import alexnet\n",
        "from torchvision.models import vgg11\n",
        "from torchvision.models import googlenet\n",
        "from torchvision.models import resnet18"
      ]
    },
    {
      "cell_type": "code",
      "execution_count": null,
      "id": "5ef7c259-e99d-4d5d-bdca-9a88d309658b",
      "metadata": {
        "id": "5ef7c259-e99d-4d5d-bdca-9a88d309658b"
      },
      "outputs": [],
      "source": [
        "model = resnet18()"
      ]
    },
    {
      "cell_type": "code",
      "execution_count": null,
      "id": "2857837f-ff27-4cb7-a8bd-da7cb23420f8",
      "metadata": {
        "id": "2857837f-ff27-4cb7-a8bd-da7cb23420f8",
        "outputId": "76b90650-ced0-4af1-a35b-3ff344631a98"
      },
      "outputs": [
        {
          "data": {
            "text/plain": [
              "ResNet(\n",
              "  (conv1): Conv2d(3, 64, kernel_size=(7, 7), stride=(2, 2), padding=(3, 3), bias=False)\n",
              "  (bn1): BatchNorm2d(64, eps=1e-05, momentum=0.1, affine=True, track_running_stats=True)\n",
              "  (relu): ReLU(inplace=True)\n",
              "  (maxpool): MaxPool2d(kernel_size=3, stride=2, padding=1, dilation=1, ceil_mode=False)\n",
              "  (layer1): Sequential(\n",
              "    (0): BasicBlock(\n",
              "      (conv1): Conv2d(64, 64, kernel_size=(3, 3), stride=(1, 1), padding=(1, 1), bias=False)\n",
              "      (bn1): BatchNorm2d(64, eps=1e-05, momentum=0.1, affine=True, track_running_stats=True)\n",
              "      (relu): ReLU(inplace=True)\n",
              "      (conv2): Conv2d(64, 64, kernel_size=(3, 3), stride=(1, 1), padding=(1, 1), bias=False)\n",
              "      (bn2): BatchNorm2d(64, eps=1e-05, momentum=0.1, affine=True, track_running_stats=True)\n",
              "    )\n",
              "    (1): BasicBlock(\n",
              "      (conv1): Conv2d(64, 64, kernel_size=(3, 3), stride=(1, 1), padding=(1, 1), bias=False)\n",
              "      (bn1): BatchNorm2d(64, eps=1e-05, momentum=0.1, affine=True, track_running_stats=True)\n",
              "      (relu): ReLU(inplace=True)\n",
              "      (conv2): Conv2d(64, 64, kernel_size=(3, 3), stride=(1, 1), padding=(1, 1), bias=False)\n",
              "      (bn2): BatchNorm2d(64, eps=1e-05, momentum=0.1, affine=True, track_running_stats=True)\n",
              "    )\n",
              "  )\n",
              "  (layer2): Sequential(\n",
              "    (0): BasicBlock(\n",
              "      (conv1): Conv2d(64, 128, kernel_size=(3, 3), stride=(2, 2), padding=(1, 1), bias=False)\n",
              "      (bn1): BatchNorm2d(128, eps=1e-05, momentum=0.1, affine=True, track_running_stats=True)\n",
              "      (relu): ReLU(inplace=True)\n",
              "      (conv2): Conv2d(128, 128, kernel_size=(3, 3), stride=(1, 1), padding=(1, 1), bias=False)\n",
              "      (bn2): BatchNorm2d(128, eps=1e-05, momentum=0.1, affine=True, track_running_stats=True)\n",
              "      (downsample): Sequential(\n",
              "        (0): Conv2d(64, 128, kernel_size=(1, 1), stride=(2, 2), bias=False)\n",
              "        (1): BatchNorm2d(128, eps=1e-05, momentum=0.1, affine=True, track_running_stats=True)\n",
              "      )\n",
              "    )\n",
              "    (1): BasicBlock(\n",
              "      (conv1): Conv2d(128, 128, kernel_size=(3, 3), stride=(1, 1), padding=(1, 1), bias=False)\n",
              "      (bn1): BatchNorm2d(128, eps=1e-05, momentum=0.1, affine=True, track_running_stats=True)\n",
              "      (relu): ReLU(inplace=True)\n",
              "      (conv2): Conv2d(128, 128, kernel_size=(3, 3), stride=(1, 1), padding=(1, 1), bias=False)\n",
              "      (bn2): BatchNorm2d(128, eps=1e-05, momentum=0.1, affine=True, track_running_stats=True)\n",
              "    )\n",
              "  )\n",
              "  (layer3): Sequential(\n",
              "    (0): BasicBlock(\n",
              "      (conv1): Conv2d(128, 256, kernel_size=(3, 3), stride=(2, 2), padding=(1, 1), bias=False)\n",
              "      (bn1): BatchNorm2d(256, eps=1e-05, momentum=0.1, affine=True, track_running_stats=True)\n",
              "      (relu): ReLU(inplace=True)\n",
              "      (conv2): Conv2d(256, 256, kernel_size=(3, 3), stride=(1, 1), padding=(1, 1), bias=False)\n",
              "      (bn2): BatchNorm2d(256, eps=1e-05, momentum=0.1, affine=True, track_running_stats=True)\n",
              "      (downsample): Sequential(\n",
              "        (0): Conv2d(128, 256, kernel_size=(1, 1), stride=(2, 2), bias=False)\n",
              "        (1): BatchNorm2d(256, eps=1e-05, momentum=0.1, affine=True, track_running_stats=True)\n",
              "      )\n",
              "    )\n",
              "    (1): BasicBlock(\n",
              "      (conv1): Conv2d(256, 256, kernel_size=(3, 3), stride=(1, 1), padding=(1, 1), bias=False)\n",
              "      (bn1): BatchNorm2d(256, eps=1e-05, momentum=0.1, affine=True, track_running_stats=True)\n",
              "      (relu): ReLU(inplace=True)\n",
              "      (conv2): Conv2d(256, 256, kernel_size=(3, 3), stride=(1, 1), padding=(1, 1), bias=False)\n",
              "      (bn2): BatchNorm2d(256, eps=1e-05, momentum=0.1, affine=True, track_running_stats=True)\n",
              "    )\n",
              "  )\n",
              "  (layer4): Sequential(\n",
              "    (0): BasicBlock(\n",
              "      (conv1): Conv2d(256, 512, kernel_size=(3, 3), stride=(2, 2), padding=(1, 1), bias=False)\n",
              "      (bn1): BatchNorm2d(512, eps=1e-05, momentum=0.1, affine=True, track_running_stats=True)\n",
              "      (relu): ReLU(inplace=True)\n",
              "      (conv2): Conv2d(512, 512, kernel_size=(3, 3), stride=(1, 1), padding=(1, 1), bias=False)\n",
              "      (bn2): BatchNorm2d(512, eps=1e-05, momentum=0.1, affine=True, track_running_stats=True)\n",
              "      (downsample): Sequential(\n",
              "        (0): Conv2d(256, 512, kernel_size=(1, 1), stride=(2, 2), bias=False)\n",
              "        (1): BatchNorm2d(512, eps=1e-05, momentum=0.1, affine=True, track_running_stats=True)\n",
              "      )\n",
              "    )\n",
              "    (1): BasicBlock(\n",
              "      (conv1): Conv2d(512, 512, kernel_size=(3, 3), stride=(1, 1), padding=(1, 1), bias=False)\n",
              "      (bn1): BatchNorm2d(512, eps=1e-05, momentum=0.1, affine=True, track_running_stats=True)\n",
              "      (relu): ReLU(inplace=True)\n",
              "      (conv2): Conv2d(512, 512, kernel_size=(3, 3), stride=(1, 1), padding=(1, 1), bias=False)\n",
              "      (bn2): BatchNorm2d(512, eps=1e-05, momentum=0.1, affine=True, track_running_stats=True)\n",
              "    )\n",
              "  )\n",
              "  (avgpool): AdaptiveAvgPool2d(output_size=(1, 1))\n",
              "  (fc): Linear(in_features=512, out_features=1000, bias=True)\n",
              ")"
            ]
          },
          "execution_count": 29,
          "metadata": {},
          "output_type": "execute_result"
        }
      ],
      "source": [
        "model"
      ]
    },
    {
      "cell_type": "code",
      "execution_count": 3,
      "id": "1f41aae5-aa8e-4c96-8d7e-ea1f523e251f",
      "metadata": {
        "id": "1f41aae5-aa8e-4c96-8d7e-ea1f523e251f"
      },
      "outputs": [],
      "source": [
        "def get_pretrained_model(model_name: str, num_classes: int, pretrained: bool=True):\n",
        "    if model_name == 'alexnet':\n",
        "        model = alexnet(pretrained = pretrained)\n",
        "        model.classifier[6] = nn.Linear(in_features=4096, out_features=num_classes)\n",
        "    elif model_name == 'vgg11':\n",
        "        model = vgg11(pretrained = pretrained)\n",
        "        model.classifier[6] = nn.Linear(in_features=4096, out_features=num_classes)\n",
        "    elif model_name == 'googlenet':\n",
        "        model = googlenet(pretrained = pretrained)\n",
        "        model.fc = nn.Linear(in_features=1024, out_features=num_classes, bias=True)\n",
        "    elif model_name == 'resnet18':\n",
        "        model = resnet18(pretrained = pretrained)\n",
        "        model.fc = nn.Linear(in_features=512, out_features=num_classes, bias=True)\n",
        "    return model\n",
        ""
      ]
    },
    {
      "cell_type": "code",
      "execution_count": 4,
      "id": "1473c117-e52b-4b8b-a2a6-9d8c075453a4",
      "metadata": {
        "colab": {
          "base_uri": "https://localhost:8080/"
        },
        "id": "1473c117-e52b-4b8b-a2a6-9d8c075453a4",
        "outputId": "20ea4176-faf7-4a64-a297-86a6d58ba642"
      },
      "outputs": [
        {
          "output_type": "stream",
          "name": "stdout",
          "text": [
            "Downloading https://www.cs.toronto.edu/~kriz/cifar-10-python.tar.gz to ../datasets/cifar-10-python.tar.gz\n"
          ]
        },
        {
          "output_type": "stream",
          "name": "stderr",
          "text": [
            "100%|██████████| 170M/170M [00:13<00:00, 12.4MB/s]\n"
          ]
        },
        {
          "output_type": "stream",
          "name": "stdout",
          "text": [
            "Extracting ../datasets/cifar-10-python.tar.gz to ../datasets/\n",
            "Files already downloaded and verified\n"
          ]
        }
      ],
      "source": [
        "def get_normalize(features: torch.Tensor):\n",
        "    means = (features.data/255).mean(axis=(0, 1, 2))\n",
        "    stdf = (features.data/255).std(axis=(0, 1, 2))\n",
        "    # x = features.view(n.size(1), -1).mean(1)\n",
        "    # y = features.view(n.size(1), -1).std(1)\n",
        "    return means, stdf\n",
        "train_dataset = CIFAR10(root=\"../datasets/\", train=True, download=True, transform=T.ToTensor())\n",
        "test_dataset = CIFAR10(root=\"../datasets/\", train=False, download=True, transform=T.ToTensor())\n",
        "means, stds = get_normalize(train_dataset)"
      ]
    },
    {
      "cell_type": "code",
      "execution_count": 5,
      "id": "477bdfc1-f7ab-4bcc-81a9-526ab00789ae",
      "metadata": {
        "colab": {
          "base_uri": "https://localhost:8080/"
        },
        "id": "477bdfc1-f7ab-4bcc-81a9-526ab00789ae",
        "outputId": "101ab216-d1e5-4904-fc43-66b7e02e8d81"
      },
      "outputs": [
        {
          "output_type": "stream",
          "name": "stderr",
          "text": [
            "/usr/local/lib/python3.10/dist-packages/torch/utils/data/dataloader.py:617: UserWarning: This DataLoader will create 8 worker processes in total. Our suggested max number of worker in current system is 2, which is smaller than what this DataLoader is going to create. Please be aware that excessive worker creation might get DataLoader running slow or even freeze, lower the worker number to avoid potential slowness/freeze if necessary.\n",
            "  warnings.warn(\n"
          ]
        }
      ],
      "source": [
        "train_transforms = T.Compose(\n",
        "    [\n",
        "        T.Resize((224, 224)),\n",
        "        T.AutoAugment(T.AutoAugmentPolicy.CIFAR10),\n",
        "        T.ToTensor(),\n",
        "        T.Normalize(mean=means, std=stds)\n",
        "    ]\n",
        ")\n",
        "\n",
        "test_transforms = T.Compose(\n",
        "    [\n",
        "        T.Resize((224, 224)),\n",
        "        T.ToTensor(),\n",
        "        T.Normalize(mean=means, std=stds)\n",
        "    ]\n",
        ")\n",
        "train_dataset  = CIFAR10(root=\"../datasets/\", train=True, transform=train_transforms)\n",
        "test_dataset = CIFAR10(root=\"../datasets/\", train=True, transform=test_transforms)\n",
        "\n",
        "train_loader = DataLoader(train_dataset, batch_size=128, shuffle=True, num_workers=8, pin_memory=True)\n",
        "valid_loader = DataLoader(test_dataset, batch_size=128, shuffle=False, num_workers=8, pin_memory=True)"
      ]
    },
    {
      "cell_type": "code",
      "execution_count": 6,
      "id": "aad54f43-55ae-4b9a-af8c-2cb0de2ab442",
      "metadata": {
        "colab": {
          "base_uri": "https://localhost:8080/"
        },
        "id": "aad54f43-55ae-4b9a-af8c-2cb0de2ab442",
        "outputId": "6a46b204-477e-429a-868c-f26a8d999bba"
      },
      "outputs": [
        {
          "output_type": "stream",
          "name": "stderr",
          "text": [
            "/usr/local/lib/python3.10/dist-packages/torchvision/models/_utils.py:208: UserWarning: The parameter 'pretrained' is deprecated since 0.13 and may be removed in the future, please use 'weights' instead.\n",
            "  warnings.warn(\n",
            "/usr/local/lib/python3.10/dist-packages/torchvision/models/_utils.py:223: UserWarning: Arguments other than a weight enum or `None` for 'weights' are deprecated since 0.13 and may be removed in the future. The current behavior is equivalent to passing `weights=ResNet18_Weights.IMAGENET1K_V1`. You can also use `weights=ResNet18_Weights.DEFAULT` to get the most up-to-date weights.\n",
            "  warnings.warn(msg)\n",
            "Downloading: \"https://download.pytorch.org/models/resnet18-f37072fd.pth\" to /root/.cache/torch/hub/checkpoints/resnet18-f37072fd.pth\n",
            "100%|██████████| 44.7M/44.7M [00:00<00:00, 123MB/s]\n"
          ]
        }
      ],
      "source": [
        "model = get_pretrained_model('resnet18', 10)"
      ]
    },
    {
      "cell_type": "code",
      "execution_count": 7,
      "id": "02722cb0-cb00-4821-b6f1-23cd777ab57f",
      "metadata": {
        "id": "02722cb0-cb00-4821-b6f1-23cd777ab57f"
      },
      "outputs": [],
      "source": [
        "#!g1.1\n",
        "from tqdm import tqdm\n",
        "\n",
        "\n",
        "def train(model) -> float:\n",
        "    model.train()\n",
        "\n",
        "    train_loss = 0\n",
        "    total = 0\n",
        "    correct = 0\n",
        "\n",
        "    for x, y in tqdm(train_loader, desc='Train'):\n",
        "        x, y = x.to(device), y.to(device)\n",
        "\n",
        "        optimizer.zero_grad()\n",
        "\n",
        "        output = model(x)\n",
        "\n",
        "        loss = loss_fn(output, y)\n",
        "\n",
        "        train_loss += loss.item()\n",
        "\n",
        "        loss.backward()\n",
        "\n",
        "        optimizer.step()\n",
        "\n",
        "        _, y_pred = torch.max(output, 1)\n",
        "        total += y.size(0)\n",
        "        correct += (y_pred == y).sum().item()\n",
        "\n",
        "    train_loss /= len(train_loader)\n",
        "    accuracy = correct / total\n",
        "\n",
        "    return train_loss, accuracy\n",
        "\n",
        "#!g1.1\n",
        "import torch\n",
        "\n",
        "\n",
        "@torch.inference_mode()\n",
        "def evaluate(model, loader) -> tuple[float, float]:\n",
        "    model.eval()\n",
        "\n",
        "    total_loss = 0\n",
        "    total = 0\n",
        "    correct = 0\n",
        "\n",
        "    for x, y in tqdm(loader, desc='Evaluation'):\n",
        "        x, y = x.to(device), y.to(device)\n",
        "\n",
        "        output = model(x)\n",
        "\n",
        "        loss = loss_fn(output, y)\n",
        "\n",
        "        total_loss += loss.item()\n",
        "\n",
        "        _, y_pred = torch.max(output, 1)\n",
        "        total += y.size(0)\n",
        "        correct += (y_pred == y).sum().item()\n",
        "\n",
        "    total_loss /= len(loader)\n",
        "    accuracy = correct / total\n",
        "\n",
        "    return total_loss, accuracy\n",
        "\n",
        "\n",
        "\n",
        "\n",
        "#!g1.1\n",
        "import matplotlib.pyplot as plt\n",
        "from IPython.display import clear_output\n",
        "\n",
        "\n",
        "def plot_stats(\n",
        "    train_loss: list[float],\n",
        "    valid_loss: list[float],\n",
        "    train_accuracy: list[float],\n",
        "    valid_accuracy: list[float],\n",
        "    title: str\n",
        "):\n",
        "    plt.figure(figsize=(16, 8))\n",
        "\n",
        "    plt.title(title + ' loss')\n",
        "\n",
        "    plt.plot(train_loss, label='Train loss')\n",
        "    plt.plot(valid_loss, label='Valid loss')\n",
        "    plt.legend()\n",
        "    plt.grid()\n",
        "\n",
        "    plt.show()\n",
        "\n",
        "    plt.figure(figsize=(16, 8))\n",
        "\n",
        "    plt.title(title + ' accuracy')\n",
        "\n",
        "    plt.plot(train_accuracy, label='Train accuracy')\n",
        "    plt.plot(valid_accuracy, label='Valid accuracy')\n",
        "    plt.legend()\n",
        "    plt.grid()\n",
        "\n",
        "    plt.show()\n",
        "\n",
        "#!g1.1\n",
        "def whole_train_valid_cycle(model, num_epochs, title):\n",
        "    train_loss_history, valid_loss_history = [], []\n",
        "    train_accuracy_history, valid_accuracy_history = [], []\n",
        "\n",
        "    for epoch in range(num_epochs):\n",
        "        train_loss, train_accuracy = train(model)\n",
        "        valid_loss, valid_accuracy = evaluate(model, valid_loader)\n",
        "\n",
        "        train_loss_history.append(train_loss)\n",
        "        valid_loss_history.append(valid_loss)\n",
        "\n",
        "        train_accuracy_history.append(train_accuracy)\n",
        "        valid_accuracy_history.append(valid_accuracy)\n",
        "\n",
        "        clear_output()\n",
        "\n",
        "        plot_stats(\n",
        "            train_loss_history, valid_loss_history,\n",
        "            train_accuracy_history, valid_accuracy_history,\n",
        "            title\n",
        "        )"
      ]
    },
    {
      "cell_type": "code",
      "execution_count": 9,
      "id": "a4992a61-f254-45a2-9935-4e5060cb3c69",
      "metadata": {
        "colab": {
          "base_uri": "https://localhost:8080/",
          "height": 1000
        },
        "id": "a4992a61-f254-45a2-9935-4e5060cb3c69",
        "outputId": "965153e4-0fa9-4f7e-adc9-eb3a686ad4cf"
      },
      "outputs": [
        {
          "output_type": "display_data",
          "data": {
            "text/plain": [
              "<Figure size 1600x800 with 1 Axes>"
            ],
            "image/png": "[encoded data removed]"
          },
          "metadata": {}
        },
        {
          "output_type": "display_data",
          "data": {
            "text/plain": [
              "<Figure size 1600x800 with 1 Axes>"
            ],
            "image/png": "[encoded data removed]"
          },
          "metadata": {}
        },
        {
          "output_type": "stream",
          "name": "stderr",
          "text": [
            "Train:  94%|█████████▎| 366/391 [02:12<00:09,  2.77it/s]\n"
          ]
        },
        {
          "output_type": "error",
          "ename": "KeyboardInterrupt",
          "evalue": "",
          "traceback": [
            "\u001b[0;31m---------------------------------------------------------------------------\u001b[0m",
            "\u001b[0;31mKeyboardInterrupt\u001b[0m                         Traceback (most recent call last)",
            "\u001b[0;32m<ipython-input-9-defcf85abde9>\u001b[0m in \u001b[0;36m<cell line: 16>\u001b[0;34m()\u001b[0m\n\u001b[1;32m     14\u001b[0m )\n\u001b[1;32m     15\u001b[0m \u001b[0;34m\u001b[0m\u001b[0m\n\u001b[0;32m---> 16\u001b[0;31m \u001b[0mwhole_train_valid_cycle\u001b[0m\u001b[0;34m(\u001b[0m\u001b[0mmodel\u001b[0m\u001b[0;34m,\u001b[0m \u001b[0;36m10\u001b[0m\u001b[0;34m,\u001b[0m \u001b[0;34m'resnet18 pretrained'\u001b[0m\u001b[0;34m)\u001b[0m\u001b[0;34m\u001b[0m\u001b[0;34m\u001b[0m\u001b[0m\n\u001b[0m",
            "\u001b[0;32m<ipython-input-7-e2d5f90aa583>\u001b[0m in \u001b[0;36mwhole_train_valid_cycle\u001b[0;34m(model, num_epochs, title)\u001b[0m\n\u001b[1;32m    107\u001b[0m \u001b[0;34m\u001b[0m\u001b[0m\n\u001b[1;32m    108\u001b[0m     \u001b[0;32mfor\u001b[0m \u001b[0mepoch\u001b[0m \u001b[0;32min\u001b[0m \u001b[0mrange\u001b[0m\u001b[0;34m(\u001b[0m\u001b[0mnum_epochs\u001b[0m\u001b[0;34m)\u001b[0m\u001b[0;34m:\u001b[0m\u001b[0;34m\u001b[0m\u001b[0;34m\u001b[0m\u001b[0m\n\u001b[0;32m--> 109\u001b[0;31m         \u001b[0mtrain_loss\u001b[0m\u001b[0;34m,\u001b[0m \u001b[0mtrain_accuracy\u001b[0m \u001b[0;34m=\u001b[0m \u001b[0mtrain\u001b[0m\u001b[0;34m(\u001b[0m\u001b[0mmodel\u001b[0m\u001b[0;34m)\u001b[0m\u001b[0;34m\u001b[0m\u001b[0;34m\u001b[0m\u001b[0m\n\u001b[0m\u001b[1;32m    110\u001b[0m         \u001b[0mvalid_loss\u001b[0m\u001b[0;34m,\u001b[0m \u001b[0mvalid_accuracy\u001b[0m \u001b[0;34m=\u001b[0m \u001b[0mevaluate\u001b[0m\u001b[0;34m(\u001b[0m\u001b[0mmodel\u001b[0m\u001b[0;34m,\u001b[0m \u001b[0mvalid_loader\u001b[0m\u001b[0;34m)\u001b[0m\u001b[0;34m\u001b[0m\u001b[0;34m\u001b[0m\u001b[0m\n\u001b[1;32m    111\u001b[0m \u001b[0;34m\u001b[0m\u001b[0m\n",
            "\u001b[0;32m<ipython-input-7-e2d5f90aa583>\u001b[0m in \u001b[0;36mtrain\u001b[0;34m(model)\u001b[0m\n\u001b[1;32m     27\u001b[0m         \u001b[0m_\u001b[0m\u001b[0;34m,\u001b[0m \u001b[0my_pred\u001b[0m \u001b[0;34m=\u001b[0m \u001b[0mtorch\u001b[0m\u001b[0;34m.\u001b[0m\u001b[0mmax\u001b[0m\u001b[0;34m(\u001b[0m\u001b[0moutput\u001b[0m\u001b[0;34m,\u001b[0m \u001b[0;36m1\u001b[0m\u001b[0;34m)\u001b[0m\u001b[0;34m\u001b[0m\u001b[0;34m\u001b[0m\u001b[0m\n\u001b[1;32m     28\u001b[0m         \u001b[0mtotal\u001b[0m \u001b[0;34m+=\u001b[0m \u001b[0my\u001b[0m\u001b[0;34m.\u001b[0m\u001b[0msize\u001b[0m\u001b[0;34m(\u001b[0m\u001b[0;36m0\u001b[0m\u001b[0;34m)\u001b[0m\u001b[0;34m\u001b[0m\u001b[0;34m\u001b[0m\u001b[0m\n\u001b[0;32m---> 29\u001b[0;31m         \u001b[0mcorrect\u001b[0m \u001b[0;34m+=\u001b[0m \u001b[0;34m(\u001b[0m\u001b[0my_pred\u001b[0m \u001b[0;34m==\u001b[0m \u001b[0my\u001b[0m\u001b[0;34m)\u001b[0m\u001b[0;34m.\u001b[0m\u001b[0msum\u001b[0m\u001b[0;34m(\u001b[0m\u001b[0;34m)\u001b[0m\u001b[0;34m.\u001b[0m\u001b[0mitem\u001b[0m\u001b[0;34m(\u001b[0m\u001b[0;34m)\u001b[0m\u001b[0;34m\u001b[0m\u001b[0;34m\u001b[0m\u001b[0m\n\u001b[0m\u001b[1;32m     30\u001b[0m \u001b[0;34m\u001b[0m\u001b[0m\n\u001b[1;32m     31\u001b[0m     \u001b[0mtrain_loss\u001b[0m \u001b[0;34m/=\u001b[0m \u001b[0mlen\u001b[0m\u001b[0;34m(\u001b[0m\u001b[0mtrain_loader\u001b[0m\u001b[0;34m)\u001b[0m\u001b[0;34m\u001b[0m\u001b[0;34m\u001b[0m\u001b[0m\n",
            "\u001b[0;31mKeyboardInterrupt\u001b[0m: "
          ]
        }
      ],
      "source": [
        "device = torch.device('cuda:0' if torch.cuda.is_available() else 'cpu')\n",
        "model = model.to(device)\n",
        "loss_fn = nn.CrossEntropyLoss()\n",
        "\n",
        "model.requires_grad_(False)\n",
        "model.layer4.requires_grad_(True)\n",
        "model.fc.requires_grad_(True)\n",
        "\n",
        "optimizer = Adam(\n",
        "    [\n",
        "        {'params': model.fc.parameters(), 'lr': 1e-3},\n",
        "        {'params': model.layer4.parameters(), 'lr': 1e-4}\n",
        "    ]\n",
        ")\n",
        "\n",
        "whole_train_valid_cycle(model, 10, 'resnet18 pretrained')"
      ]
    },
    {
      "cell_type": "code",
      "execution_count": 10,
      "id": "0c053c7c-18f0-4c51-9681-5f1e8370ecb7",
      "metadata": {
        "id": "0c053c7c-18f0-4c51-9681-5f1e8370ecb7"
      },
      "outputs": [],
      "source": [
        "class BasicBlock(nn.Module):\n",
        "    def __init__(self, in_channels, out_channels, stride=1):\n",
        "        super(BasicBlock, self).__init__()\n",
        "        self.conv1 = nn.Conv2d(in_channels, out_channels, kernel_size=3, stride=stride, padding=1, bias=False)\n",
        "        self.bn1 = nn.BatchNorm2d(out_channels)\n",
        "        self.relu = nn.ReLU(inplace=True)\n",
        "        self.conv2 = nn.Conv2d(out_channels, out_channels, kernel_size=3, stride=1, padding=1, bias=False)\n",
        "        self.bn2 = nn.BatchNorm2d(out_channels)\n",
        "\n",
        "        # Проверка на случай, если нужно изменить размерность для skip-connection\n",
        "        if stride != 1 or in_channels != out_channels:\n",
        "            self.shortcut = nn.Sequential(\n",
        "                nn.Conv2d(in_channels, out_channels, kernel_size=1, stride=stride, bias=False),\n",
        "                nn.BatchNorm2d(out_channels)\n",
        "            )\n",
        "        else:\n",
        "            self.shortcut = nn.Identity()\n",
        "\n",
        "    def forward(self, x):\n",
        "        residual = x\n",
        "\n",
        "        # Первый сверточный слой\n",
        "        out = self.conv1(x)\n",
        "        out = self.bn1(out)\n",
        "        out = self.relu(out)\n",
        "\n",
        "        # Второй сверточный слой\n",
        "        out = self.conv2(out)\n",
        "        out = self.bn2(out)\n",
        "\n",
        "        # Добавление skip-connection\n",
        "        out += self.shortcut(residual)\n",
        "        out = self.relu(out)\n",
        "\n",
        "        return out"
      ]
    },
    {
      "cell_type": "code",
      "execution_count": 11,
      "id": "00965999-6121-49bb-afa4-8f7bd571ca14",
      "metadata": {
        "id": "00965999-6121-49bb-afa4-8f7bd571ca14"
      },
      "outputs": [],
      "source": [
        "class create_advanced_skip_connection_conv_cifar(nn.Module):\n",
        "    def __init__(self):\n",
        "        super().__init__()\n",
        "\n",
        "        # Изменили размер линейного слоя в зависимости от выходного размера\n",
        "        self.net1 = nn.Sequential(\n",
        "            nn.Conv2d(in_channels=3, out_channels=16, kernel_size=3, padding=1),  # 224 x 224 x 16\n",
        "            nn.BatchNorm2d(16),\n",
        "            nn.ReLU(),\n",
        "            nn.MaxPool2d(2),  # 112 x 112 x 16\n",
        "        )\n",
        "        self.block1 = BasicBlock(in_channels=16, out_channels=16)\n",
        "        self.net2 = nn.Sequential(\n",
        "\n",
        "            nn.Conv2d(in_channels=16, out_channels=32, kernel_size=3, padding=1),  # 112 x 112 x 32\n",
        "            nn.BatchNorm2d(32),\n",
        "            nn.ReLU(),\n",
        "            nn.MaxPool2d(2),  # 56 x 56 x 32\n",
        "        )\n",
        "        self.block2 = BasicBlock(in_channels=32, out_channels=32)\n",
        "        self.net3 = nn.Sequential(\n",
        "            nn.Conv2d(in_channels=32, out_channels=64, kernel_size=3, padding=1),  # 56 x 56 x 64\n",
        "            nn.BatchNorm2d(64),\n",
        "            nn.ReLU(),\n",
        "            nn.MaxPool2d(2),  # 28 x 28 x 64\n",
        "        )\n",
        "        self.block3 = BasicBlock(in_channels=64, out_channels=64)\n",
        "\n",
        "\n",
        "        self.net4 = nn.Sequential(\n",
        "            nn.Conv2d(in_channels=64, out_channels=128, kernel_size=3, padding=1),  # 28 x 28 x 128\n",
        "            nn.BatchNorm2d(128),\n",
        "            nn.ReLU(),\n",
        "            nn.MaxPool2d(2),  # 14 x 14 x 128\n",
        "        )\n",
        "        self.block4 = BasicBlock(in_channels=128, out_channels=128)\n",
        "\n",
        "        self.Linear = nn.Sequential(\n",
        "            nn.Flatten(),\n",
        "\n",
        "            # Размер после сверток и пулинга: 14 * 14 * 128 = 25088\n",
        "            nn.Linear(14 * 14 * 128, 1024),\n",
        "            nn.ReLU(),\n",
        "            nn.BatchNorm1d(1024),\n",
        "            # nn.Dropout(p=0.3),\n",
        "            nn.Linear(1024, 128),\n",
        "            nn.ReLU(),\n",
        "            nn.Linear(128, 10)  # 10 классов для CIFAR-10\n",
        "        )\n",
        "\n",
        "    def forward(self, x):\n",
        "        x = self.net1(x)\n",
        "        x =self.block1(x) + x\n",
        "        x = self.net2(x)\n",
        "        x = self.block2(x) + x\n",
        "        x = self.net3(x)\n",
        "        x = self.block3(x) + x\n",
        "        x = self.net4(x)\n",
        "        x = self.block4(x) + x\n",
        "        x = self.Linear(x)\n",
        "        return x"
      ]
    },
    {
      "cell_type": "code",
      "execution_count": 12,
      "id": "26fc273d-2208-4c1f-86d0-bc07041694d8",
      "metadata": {
        "id": "26fc273d-2208-4c1f-86d0-bc07041694d8"
      },
      "outputs": [],
      "source": [
        "model = create_advanced_skip_connection_conv_cifar()"
      ]
    },
    {
      "cell_type": "code",
      "source": [
        "model"
      ],
      "metadata": {
        "colab": {
          "base_uri": "https://localhost:8080/"
        },
        "id": "BzrELacTlSRn",
        "outputId": "0668e553-afff-4084-9aaa-8a5855d25dd1"
      },
      "id": "BzrELacTlSRn",
      "execution_count": 13,
      "outputs": [
        {
          "output_type": "execute_result",
          "data": {
            "text/plain": [
              "create_advanced_skip_connection_conv_cifar(\n",
              "  (net1): Sequential(\n",
              "    (0): Conv2d(3, 16, kernel_size=(3, 3), stride=(1, 1), padding=(1, 1))\n",
              "    (1): BatchNorm2d(16, eps=1e-05, momentum=0.1, affine=True, track_running_stats=True)\n",
              "    (2): ReLU()\n",
              "    (3): MaxPool2d(kernel_size=2, stride=2, padding=0, dilation=1, ceil_mode=False)\n",
              "  )\n",
              "  (block1): BasicBlock(\n",
              "    (conv1): Conv2d(16, 16, kernel_size=(3, 3), stride=(1, 1), padding=(1, 1), bias=False)\n",
              "    (bn1): BatchNorm2d(16, eps=1e-05, momentum=0.1, affine=True, track_running_stats=True)\n",
              "    (relu): ReLU(inplace=True)\n",
              "    (conv2): Conv2d(16, 16, kernel_size=(3, 3), stride=(1, 1), padding=(1, 1), bias=False)\n",
              "    (bn2): BatchNorm2d(16, eps=1e-05, momentum=0.1, affine=True, track_running_stats=True)\n",
              "    (shortcut): Identity()\n",
              "  )\n",
              "  (net2): Sequential(\n",
              "    (0): Conv2d(16, 32, kernel_size=(3, 3), stride=(1, 1), padding=(1, 1))\n",
              "    (1): BatchNorm2d(32, eps=1e-05, momentum=0.1, affine=True, track_running_stats=True)\n",
              "    (2): ReLU()\n",
              "    (3): MaxPool2d(kernel_size=2, stride=2, padding=0, dilation=1, ceil_mode=False)\n",
              "  )\n",
              "  (block2): BasicBlock(\n",
              "    (conv1): Conv2d(32, 32, kernel_size=(3, 3), stride=(1, 1), padding=(1, 1), bias=False)\n",
              "    (bn1): BatchNorm2d(32, eps=1e-05, momentum=0.1, affine=True, track_running_stats=True)\n",
              "    (relu): ReLU(inplace=True)\n",
              "    (conv2): Conv2d(32, 32, kernel_size=(3, 3), stride=(1, 1), padding=(1, 1), bias=False)\n",
              "    (bn2): BatchNorm2d(32, eps=1e-05, momentum=0.1, affine=True, track_running_stats=True)\n",
              "    (shortcut): Identity()\n",
              "  )\n",
              "  (net3): Sequential(\n",
              "    (0): Conv2d(32, 64, kernel_size=(3, 3), stride=(1, 1), padding=(1, 1))\n",
              "    (1): BatchNorm2d(64, eps=1e-05, momentum=0.1, affine=True, track_running_stats=True)\n",
              "    (2): ReLU()\n",
              "    (3): MaxPool2d(kernel_size=2, stride=2, padding=0, dilation=1, ceil_mode=False)\n",
              "  )\n",
              "  (block3): BasicBlock(\n",
              "    (conv1): Conv2d(64, 64, kernel_size=(3, 3), stride=(1, 1), padding=(1, 1), bias=False)\n",
              "    (bn1): BatchNorm2d(64, eps=1e-05, momentum=0.1, affine=True, track_running_stats=True)\n",
              "    (relu): ReLU(inplace=True)\n",
              "    (conv2): Conv2d(64, 64, kernel_size=(3, 3), stride=(1, 1), padding=(1, 1), bias=False)\n",
              "    (bn2): BatchNorm2d(64, eps=1e-05, momentum=0.1, affine=True, track_running_stats=True)\n",
              "    (shortcut): Identity()\n",
              "  )\n",
              "  (net4): Sequential(\n",
              "    (0): Conv2d(64, 128, kernel_size=(3, 3), stride=(1, 1), padding=(1, 1))\n",
              "    (1): BatchNorm2d(128, eps=1e-05, momentum=0.1, affine=True, track_running_stats=True)\n",
              "    (2): ReLU()\n",
              "    (3): MaxPool2d(kernel_size=2, stride=2, padding=0, dilation=1, ceil_mode=False)\n",
              "  )\n",
              "  (block4): BasicBlock(\n",
              "    (conv1): Conv2d(128, 128, kernel_size=(3, 3), stride=(1, 1), padding=(1, 1), bias=False)\n",
              "    (bn1): BatchNorm2d(128, eps=1e-05, momentum=0.1, affine=True, track_running_stats=True)\n",
              "    (relu): ReLU(inplace=True)\n",
              "    (conv2): Conv2d(128, 128, kernel_size=(3, 3), stride=(1, 1), padding=(1, 1), bias=False)\n",
              "    (bn2): BatchNorm2d(128, eps=1e-05, momentum=0.1, affine=True, track_running_stats=True)\n",
              "    (shortcut): Identity()\n",
              "  )\n",
              "  (Linear): Sequential(\n",
              "    (0): Flatten(start_dim=1, end_dim=-1)\n",
              "    (1): Linear(in_features=25088, out_features=1024, bias=True)\n",
              "    (2): ReLU()\n",
              "    (3): BatchNorm1d(1024, eps=1e-05, momentum=0.1, affine=True, track_running_stats=True)\n",
              "    (4): Linear(in_features=1024, out_features=128, bias=True)\n",
              "    (5): ReLU()\n",
              "    (6): Linear(in_features=128, out_features=10, bias=True)\n",
              "  )\n",
              ")"
            ]
          },
          "metadata": {},
          "execution_count": 13
        }
      ]
    },
    {
      "cell_type": "code",
      "source": [
        "from torch.optim.lr_scheduler import StepLR\n",
        "loss_fn = nn.CrossEntropyLoss()\n",
        "model = create_advanced_skip_connection_conv_cifar().to(device)\n",
        "\n",
        "optimizer = Adam(model.parameters(), lr=1e-3)\n",
        "\n",
        "scheduler = StepLR(optimizer, step_size=25)\n",
        "\n",
        "n_epoch = 12\n",
        "\n",
        "for epoch in range(n_epoch):\n",
        "  train_loss, train_accuracy = train(model)\n",
        "  valid_loss, valid_accuracy = evaluate(model, valid_loader)\n",
        "  print(f\"Epoch [{epoch+1}/{n_epoch}], \"\n",
        "          f\"Train Loss: {train_loss:.4f}, Train Accuracy: {train_accuracy:.2f}%, \"\n",
        "          f\"Valid Loss: {valid_loss:.4f}, Valid Accuracy: {valid_accuracy:.2f}%\")\n"
      ],
      "metadata": {
        "colab": {
          "base_uri": "https://localhost:8080/"
        },
        "id": "SXJFy4DnlS3g",
        "outputId": "bd2c74b0-d9e2-4c6e-9bc1-1ea10d1d80f8"
      },
      "id": "SXJFy4DnlS3g",
      "execution_count": 17,
      "outputs": [
        {
          "metadata": {
            "tags": null
          },
          "name": "stderr",
          "output_type": "stream",
          "text": [
            "Train: 100%|██████████| 391/391 [02:18<00:00,  2.83it/s]\n",
            "Evaluation: 100%|██████████| 391/391 [01:32<00:00,  4.25it/s]\n"
          ]
        },
        {
          "metadata": {
            "tags": null
          },
          "name": "stdout",
          "output_type": "stream",
          "text": [
            "Epoch [1/12], Train Loss: 1.4593, Train Accuracy: 0.47%, Valid Loss: 1.1495, Valid Accuracy: 0.59%\n"
          ]
        },
        {
          "metadata": {
            "tags": null
          },
          "name": "stderr",
          "output_type": "stream",
          "text": [
            "Train: 100%|██████████| 391/391 [02:18<00:00,  2.82it/s]\n",
            "Evaluation: 100%|██████████| 391/391 [01:31<00:00,  4.26it/s]\n"
          ]
        },
        {
          "metadata": {
            "tags": null
          },
          "name": "stdout",
          "output_type": "stream",
          "text": [
            "Epoch [2/12], Train Loss: 1.0376, Train Accuracy: 0.63%, Valid Loss: 0.7175, Valid Accuracy: 0.75%\n"
          ]
        },
        {
          "metadata": {
            "tags": null
          },
          "name": "stderr",
          "output_type": "stream",
          "text": [
            "Train: 100%|██████████| 391/391 [02:20<00:00,  2.79it/s]\n",
            "Evaluation: 100%|██████████| 391/391 [01:30<00:00,  4.31it/s]\n"
          ]
        },
        {
          "metadata": {
            "tags": null
          },
          "name": "stdout",
          "output_type": "stream",
          "text": [
            "Epoch [3/12], Train Loss: 0.8829, Train Accuracy: 0.69%, Valid Loss: 0.5830, Valid Accuracy: 0.80%\n"
          ]
        },
        {
          "metadata": {
            "tags": null
          },
          "name": "stderr",
          "output_type": "stream",
          "text": [
            "Train: 100%|██████████| 391/391 [02:22<00:00,  2.75it/s]\n",
            "Evaluation: 100%|██████████| 391/391 [01:40<00:00,  3.88it/s]\n"
          ]
        },
        {
          "metadata": {
            "tags": null
          },
          "name": "stdout",
          "output_type": "stream",
          "text": [
            "Epoch [4/12], Train Loss: 0.7847, Train Accuracy: 0.72%, Valid Loss: 0.6211, Valid Accuracy: 0.79%\n"
          ]
        },
        {
          "metadata": {
            "tags": null
          },
          "name": "stderr",
          "output_type": "stream",
          "text": [
            "Train: 100%|██████████| 391/391 [02:23<00:00,  2.72it/s]\n",
            "Evaluation: 100%|██████████| 391/391 [01:31<00:00,  4.29it/s]\n"
          ]
        },
        {
          "metadata": {
            "tags": null
          },
          "name": "stdout",
          "output_type": "stream",
          "text": [
            "Epoch [5/12], Train Loss: 0.7068, Train Accuracy: 0.75%, Valid Loss: 0.4987, Valid Accuracy: 0.84%\n"
          ]
        },
        {
          "metadata": {
            "tags": null
          },
          "name": "stderr",
          "output_type": "stream",
          "text": [
            "Train: 100%|██████████| 391/391 [02:21<00:00,  2.77it/s]\n",
            "Evaluation: 100%|██████████| 391/391 [01:30<00:00,  4.31it/s]\n"
          ]
        },
        {
          "metadata": {
            "tags": null
          },
          "name": "stdout",
          "output_type": "stream",
          "text": [
            "Epoch [6/12], Train Loss: 0.6499, Train Accuracy: 0.77%, Valid Loss: 0.4191, Valid Accuracy: 0.87%\n"
          ]
        },
        {
          "metadata": {
            "tags": null
          },
          "name": "stderr",
          "output_type": "stream",
          "text": [
            "Train: 100%|██████████| 391/391 [02:20<00:00,  2.79it/s]\n",
            "Evaluation: 100%|██████████| 391/391 [01:31<00:00,  4.26it/s]\n"
          ]
        },
        {
          "metadata": {
            "tags": null
          },
          "name": "stdout",
          "output_type": "stream",
          "text": [
            "Epoch [7/12], Train Loss: 0.5706, Train Accuracy: 0.80%, Valid Loss: 0.3182, Valid Accuracy: 0.89%\n"
          ]
        },
        {
          "metadata": {
            "tags": null
          },
          "name": "stderr",
          "output_type": "stream",
          "text": [
            "Train: 100%|██████████| 391/391 [02:21<00:00,  2.76it/s]\n",
            "Evaluation: 100%|██████████| 391/391 [01:32<00:00,  4.24it/s]\n"
          ]
        },
        {
          "metadata": {
            "tags": null
          },
          "name": "stdout",
          "output_type": "stream",
          "text": [
            "Epoch [8/12], Train Loss: 0.5108, Train Accuracy: 0.82%, Valid Loss: 0.2790, Valid Accuracy: 0.92%\n"
          ]
        },
        {
          "metadata": {
            "tags": null
          },
          "name": "stderr",
          "output_type": "stream",
          "text": [
            "Train: 100%|██████████| 391/391 [02:20<00:00,  2.78it/s]\n",
            "Evaluation: 100%|██████████| 391/391 [01:32<00:00,  4.24it/s]\n"
          ]
        },
        {
          "metadata": {
            "tags": null
          },
          "name": "stdout",
          "output_type": "stream",
          "text": [
            "Epoch [9/12], Train Loss: 0.4746, Train Accuracy: 0.84%, Valid Loss: 0.3941, Valid Accuracy: 0.87%\n"
          ]
        },
        {
          "metadata": {
            "tags": null
          },
          "name": "stderr",
          "output_type": "stream",
          "text": [
            "Train: 100%|██████████| 391/391 [02:21<00:00,  2.76it/s]\n",
            "Evaluation: 100%|██████████| 391/391 [01:40<00:00,  3.89it/s]\n"
          ]
        },
        {
          "metadata": {
            "tags": null
          },
          "name": "stdout",
          "output_type": "stream",
          "text": [
            "Epoch [10/12], Train Loss: 0.4476, Train Accuracy: 0.84%, Valid Loss: 0.1637, Valid Accuracy: 0.95%\n"
          ]
        },
        {
          "output_type": "stream",
          "name": "stderr",
          "text": [
            "Train: 100%|██████████| 391/391 [02:25<00:00,  2.68it/s]\n",
            "Evaluation: 100%|██████████| 391/391 [01:31<00:00,  4.27it/s]\n"
          ]
        },
        {
          "output_type": "stream",
          "name": "stdout",
          "text": [
            "Epoch [11/12], Train Loss: 0.3865, Train Accuracy: 0.87%, Valid Loss: 0.2018, Valid Accuracy: 0.95%\n"
          ]
        },
        {
          "output_type": "stream",
          "name": "stderr",
          "text": [
            "Train: 100%|██████████| 391/391 [02:21<00:00,  2.77it/s]\n",
            "Evaluation: 100%|██████████| 391/391 [01:30<00:00,  4.32it/s]"
          ]
        },
        {
          "output_type": "stream",
          "name": "stdout",
          "text": [
            "Epoch [12/12], Train Loss: 0.3580, Train Accuracy: 0.88%, Valid Loss: 0.2592, Valid Accuracy: 0.94%\n"
          ]
        },
        {
          "output_type": "stream",
          "name": "stderr",
          "text": [
            "\n"
          ]
        }
      ]
    },
    {
      "cell_type": "code",
      "source": [],
      "metadata": {
        "id": "kvgw5kbTlfSI"
      },
      "id": "kvgw5kbTlfSI",
      "execution_count": null,
      "outputs": []
    }
  ],
  "metadata": {
    "kernelspec": {
      "display_name": "Python 3",
      "name": "python3"
    },
    "language_info": {
      "codemirror_mode": {
        "name": "ipython",
        "version": 3
      },
      "file_extension": ".py",
      "mimetype": "text/x-python",
      "name": "python",
      "nbconvert_exporter": "python",
      "pygments_lexer": "ipython3",
      "version": "3.11.7"
    },
    "colab": {
      "provenance": [],
      "gpuType": "T4"
    },
    "accelerator": "GPU"
  },
  "nbformat": 4,
  "nbformat_minor": 5
}