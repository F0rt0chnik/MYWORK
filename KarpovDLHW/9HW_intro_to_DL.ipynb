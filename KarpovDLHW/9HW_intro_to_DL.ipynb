{
  "cells": [
    {
      "cell_type": "code",
      "execution_count": 1,
      "id": "017b6d43-e449-4660-bdba-c86f54ee736b",
      "metadata": {
        "id": "017b6d43-e449-4660-bdba-c86f54ee736b"
      },
      "outputs": [],
      "source": [
        "import torch\n",
        "import torch.nn as nn\n",
        "\n",
        "\n",
        "class Similarity1(nn.Module):\n",
        "    def __init__(self):\n",
        "        super().__init__()\n",
        "\n",
        "    def forward(self, encoder_states: torch.Tensor, decoder_state: torch.Tensor):\n",
        "        # encoder_states.shape = [T, N]\n",
        "        # decoder_state.shape = [N]\n",
        "        # YOUR CODE HERE\n",
        "        attention = torch.matmul(encoder_states.T, decoder_state.unsqueeze(1))\n",
        "        return attention\n",
        "\n"
      ]
    },
    {
      "cell_type": "code",
      "execution_count": 2,
      "id": "a147b7bb-cc93-410d-a01b-50743eef227c",
      "metadata": {
        "id": "a147b7bb-cc93-410d-a01b-50743eef227c"
      },
      "outputs": [],
      "source": [
        "import torch\n",
        "import torch.nn as nn\n",
        "\n",
        "\n",
        "class Similarity2(nn.Module):\n",
        "    def __init__(self, encoder_dim: int, decoder_dim: int, intermediate_dim: int):\n",
        "        super().__init__()\n",
        "\n",
        "        self.fc1 = nn.Linear(encoder_dim, intermediate_dim)\n",
        "        self.fc2 = nn.Linear(decoder_dim, intermediate_dim)\n",
        "        self.fc3 = nn.Linear(intermediate_dim, 1)\n",
        "        self.tanh = nn.Tanh()\n",
        "\n",
        "\n",
        "\n",
        "    def forward(self, encoder_states: torch.Tensor, decoder_state: torch.Tensor):\n",
        "        # encoder_states.shape = [T, N, encoder_dim]\n",
        "        # decoder_state.shape = [N, decoder_dim]\n",
        "        fc1_h = self.fc1(encoder_states)  # [T, N, intermediate_dim]\n",
        "        s = decoder_state.unsqueeze(1)  # [N, 1, decoder_dim]\n",
        "        fc2_s = self.fc2(s)  # [N, 1, intermediate_dim]\n",
        "        fc2_s = fc2_s.expand_as(fc1_h)  # [T, N, intermediate_dim]\n",
        "        attention = self.fc3(self.tanh(fc1_h + fc2_s)).squeeze(-1)  # [T, N]\n",
        "        return attention\n",
        ""
      ]
    },
    {
      "cell_type": "code",
      "execution_count": 3,
      "id": "952ae135-6e57-4045-b015-0818a77b7335",
      "metadata": {
        "id": "952ae135-6e57-4045-b015-0818a77b7335"
      },
      "outputs": [],
      "source": [
        "import torch\n",
        "import torch.nn as nn\n",
        "\n",
        "import matplotlib.pyplot as plt\n",
        "from IPython.display import clear_output"
      ]
    },
    {
      "cell_type": "code",
      "execution_count": 4,
      "id": "0387252c-f9d2-4ceb-8570-fcffb22f1c26",
      "metadata": {
        "id": "0387252c-f9d2-4ceb-8570-fcffb22f1c26"
      },
      "outputs": [],
      "source": [
        "aneks = []\n",
        "\n",
        "with open('9 anek.txt', 'r') as f:\n",
        "    aneks.extend(f.read().split('\\n'))"
      ]
    },
    {
      "cell_type": "code",
      "execution_count": 5,
      "id": "0242e5cc-af3c-40e2-895a-a190eca1d7bc",
      "metadata": {
        "id": "0242e5cc-af3c-40e2-895a-a190eca1d7bc"
      },
      "outputs": [],
      "source": [
        "class Vocabulary:\n",
        "    def __init__(self):\n",
        "        self.vocabulary = ['_', '#', '<']  # sos, eos, pad\n",
        "        self.vocabulary.extend('абвгдеёжзийклмнопрстуфхцчшщъыьэюя')\n",
        "        self.vocabulary.extend('абвгдеёжзийклмнопрстуфхцчшщъыьэюя'.upper())\n",
        "        self.vocabulary.extend('0123456789 ,.!?-')\n",
        "\n",
        "        self._idx2char = {i: char for i, char in enumerate(self.vocabulary)}\n",
        "        self._char2idx = {char: i for i, char in enumerate(self.vocabulary)}\n",
        "\n",
        "    def get_vocabulary(self):\n",
        "        return self.vocabulary\n",
        "\n",
        "    def idx2char(self, idx: int):\n",
        "        if idx not in self._idx2char:\n",
        "            return '<'\n",
        "\n",
        "        return self._idx2char[idx]\n",
        "\n",
        "    def char2idx(self, char: str):\n",
        "        if char not in self._char2idx:\n",
        "            return self.get_pad()\n",
        "\n",
        "        return self._char2idx[char]\n",
        "\n",
        "    def encode(self, text):\n",
        "        result = [self.char2idx(char) for char in text]\n",
        "\n",
        "        result = [self.get_sos()] + result + [self.get_eos()]\n",
        "\n",
        "        return result\n",
        "\n",
        "    def get_sos(self):\n",
        "        return self.char2idx('_')\n",
        "\n",
        "    def get_eos(self):\n",
        "        return self.char2idx('#')\n",
        "\n",
        "    def get_pad(self):\n",
        "        return self.char2idx('<')"
      ]
    },
    {
      "cell_type": "code",
      "execution_count": 6,
      "id": "e99b41e9-76fe-4d5e-9195-add5c12ec61a",
      "metadata": {
        "id": "e99b41e9-76fe-4d5e-9195-add5c12ec61a"
      },
      "outputs": [],
      "source": [
        "from torch.utils.data import Dataset\n",
        "\n",
        "\n",
        "class Anekdotes(Dataset):\n",
        "    def __init__(self, aneks):\n",
        "        self.aneks = aneks\n",
        "\n",
        "        self.vocab = Vocabulary()\n",
        "\n",
        "    def __getitem__(self, idx):\n",
        "        return torch.LongTensor(self.vocab.encode(self.aneks[idx]))\n",
        "\n",
        "    def __len__(self):\n",
        "        return len(self.aneks)"
      ]
    },
    {
      "cell_type": "code",
      "execution_count": 7,
      "id": "5c2b6cc6-0268-41fc-a2ca-f59eec254f62",
      "metadata": {
        "id": "5c2b6cc6-0268-41fc-a2ca-f59eec254f62"
      },
      "outputs": [],
      "source": [
        "dataset = Anekdotes(aneks)"
      ]
    },
    {
      "cell_type": "code",
      "execution_count": 8,
      "id": "8c8e001d-05b9-40af-ac52-56ec89b458fd",
      "metadata": {
        "id": "8c8e001d-05b9-40af-ac52-56ec89b458fd"
      },
      "outputs": [],
      "source": [
        "from torch.utils.data import random_split\n",
        "\n",
        "\n",
        "train_dataset, valid_dataset = random_split(dataset, (int(len(dataset) * 0.9), len(dataset) - int(len(dataset) * 0.9)))"
      ]
    },
    {
      "cell_type": "code",
      "execution_count": 9,
      "id": "8cd57286-d45f-4b4a-be2b-8043d585ce96",
      "metadata": {
        "id": "8cd57286-d45f-4b4a-be2b-8043d585ce96"
      },
      "outputs": [],
      "source": [
        "from torch.nn.utils.rnn import pad_sequence\n",
        "\n",
        "\n",
        "pad_idx = dataset.vocab.get_pad()\n",
        "\n",
        "\n",
        "def collate_fn(batch):\n",
        "    return pad_sequence([b[:256] for b in batch], padding_value=pad_idx, batch_first=True)"
      ]
    },
    {
      "cell_type": "code",
      "execution_count": 10,
      "id": "5077db93-0719-4075-a705-62e06ed89612",
      "metadata": {
        "id": "5077db93-0719-4075-a705-62e06ed89612"
      },
      "outputs": [],
      "source": [
        "from torch.utils.data import DataLoader\n",
        "\n",
        "\n",
        "train_loader = DataLoader(train_dataset, batch_size=256, collate_fn=collate_fn, pin_memory=True)\n",
        "valid_loader = DataLoader(valid_dataset, batch_size=256, collate_fn=collate_fn, pin_memory=True)"
      ]
    },
    {
      "cell_type": "code",
      "execution_count": 11,
      "id": "10ab2e59-568e-4067-927f-69d50765c196",
      "metadata": {
        "colab": {
          "base_uri": "https://localhost:8080/"
        },
        "id": "10ab2e59-568e-4067-927f-69d50765c196",
        "outputId": "18f54a1c-4f83-4557-f26f-6a35936e08a5"
      },
      "outputs": [
        {
          "output_type": "execute_result",
          "data": {
            "text/plain": [
              "torch.Size([256, 256])"
            ]
          },
          "metadata": {},
          "execution_count": 11
        }
      ],
      "source": [
        "next(iter(train_loader)).shape"
      ]
    },
    {
      "cell_type": "code",
      "execution_count": 12,
      "id": "5199c6cd-4867-4f19-b64b-cf6601cb2a7e",
      "metadata": {
        "id": "5199c6cd-4867-4f19-b64b-cf6601cb2a7e"
      },
      "outputs": [],
      "source": [
        "class AnekdoteRNN(nn.Module):\n",
        "    def __init__(self, num_tokens: int, emb_size: int=32, hidden_size: int=256):\n",
        "        super().__init__()\n",
        "\n",
        "        self.embedding = nn.Embedding(num_tokens, emb_size, padding_idx = pad_idx)\n",
        "\n",
        "        self.rnn = nn.LSTM(\n",
        "            input_size=emb_size,\n",
        "            hidden_size=hidden_size,\n",
        "            num_layers=4,\n",
        "            dropout=0.3,\n",
        "            batch_first=True\n",
        "        )\n",
        "\n",
        "        self.attention = Similarity2(\n",
        "            encoder_dim=hidden_size,\n",
        "            decoder_dim=hidden_size,\n",
        "            intermediate_dim=128\n",
        "        )\n",
        "\n",
        "        self.output = nn.Sequential(\n",
        "            nn.Linear(2*hidden_size, hidden_size),\n",
        "            nn.LeakyReLU(),\n",
        "            nn.Linear(hidden_size, num_tokens)\n",
        "        )\n",
        "\n",
        "    def forward(self, x):\n",
        "        # Вход: x.shape = [N, T]\n",
        "        x = self.embedding(x)  # [N, T, emb_size]\n",
        "        rnn_output, (hidden, cell) = self.rnn(x)  # rnn_output.shape = [N, T, hidden_size]\n",
        "\n",
        "        attention_weights = self.attention(rnn_output, hidden[-1])  # [N, T]\n",
        "        attention_weights = torch.softmax(attention_weights, dim=-1)  # Нормализация весов\n",
        "\n",
        "        # Взвешенная сумма выходов LSTM\n",
        "        context_vector = torch.bmm(attention_weights.unsqueeze(1), rnn_output).squeeze(1)  # [N, hidden_size]\n",
        "\n",
        "        # Генерация выхода для каждого шага\n",
        "        # Расширяем context_vector до [N, T, hidden_size]\n",
        "        context_vector = context_vector.unsqueeze(1).expand(-1, rnn_output.size(1), -1)  # [N, T, hidden_size]\n",
        "\n",
        "        # Объединяем rnn_output и context_vector\n",
        "        combined_output = torch.cat([rnn_output, context_vector], dim=-1)  # [N, T, 2 * hidden_size]\n",
        "\n",
        "        # Генерация выхода\n",
        "        output = self.output(combined_output)  # [N, T, num_tokens]\n",
        "\n",
        "        return output"
      ]
    },
    {
      "cell_type": "code",
      "execution_count": 13,
      "id": "25547885-85be-442c-9652-8f6ccf3ce879",
      "metadata": {
        "id": "25547885-85be-442c-9652-8f6ccf3ce879"
      },
      "outputs": [],
      "source": [
        "model = AnekdoteRNN(num_tokens=len(dataset.vocab.get_vocabulary()))"
      ]
    },
    {
      "cell_type": "code",
      "execution_count": 14,
      "id": "b6b5e501-266d-492e-b430-cd4687e12ecc",
      "metadata": {
        "colab": {
          "base_uri": "https://localhost:8080/"
        },
        "id": "b6b5e501-266d-492e-b430-cd4687e12ecc",
        "outputId": "7697fb74-fb50-4105-a997-97aa368ecbb3"
      },
      "outputs": [
        {
          "output_type": "execute_result",
          "data": {
            "text/plain": [
              "AnekdoteRNN(\n",
              "  (embedding): Embedding(85, 32, padding_idx=2)\n",
              "  (rnn): LSTM(32, 256, num_layers=4, batch_first=True, dropout=0.3)\n",
              "  (attention): Similarity2(\n",
              "    (fc1): Linear(in_features=256, out_features=128, bias=True)\n",
              "    (fc2): Linear(in_features=256, out_features=128, bias=True)\n",
              "    (fc3): Linear(in_features=128, out_features=1, bias=True)\n",
              "    (tanh): Tanh()\n",
              "  )\n",
              "  (output): Sequential(\n",
              "    (0): Linear(in_features=512, out_features=256, bias=True)\n",
              "    (1): LeakyReLU(negative_slope=0.01)\n",
              "    (2): Linear(in_features=256, out_features=85, bias=True)\n",
              "  )\n",
              ")"
            ]
          },
          "metadata": {},
          "execution_count": 14
        }
      ],
      "source": [
        "model"
      ]
    },
    {
      "cell_type": "code",
      "execution_count": 15,
      "id": "2f2fad4a-2afb-458a-8ccf-286d76632411",
      "metadata": {
        "id": "2f2fad4a-2afb-458a-8ccf-286d76632411"
      },
      "outputs": [],
      "source": [
        "from tqdm import tqdm\n",
        "\n",
        "\n",
        "def train(model):\n",
        "    model.train()\n",
        "\n",
        "    train_loss = 0\n",
        "\n",
        "    for x in tqdm(train_loader, desc='Train'):\n",
        "        x = x.to(device)\n",
        "\n",
        "        optimizer.zero_grad()\n",
        "\n",
        "        output = model(x[:, :-1]).transpose(1, 2)\n",
        "\n",
        "        loss = loss_fn(output, x[:, 1:])\n",
        "\n",
        "        train_loss += loss.item()\n",
        "\n",
        "        loss.backward()\n",
        "\n",
        "        optimizer.step()\n",
        "\n",
        "    train_loss /= len(train_loader)\n",
        "\n",
        "    return train_loss"
      ]
    },
    {
      "cell_type": "code",
      "execution_count": 16,
      "id": "cfd2f2a7-c8a3-4251-9e3e-e837c5eec32f",
      "metadata": {
        "colab": {
          "base_uri": "https://localhost:8080/"
        },
        "id": "cfd2f2a7-c8a3-4251-9e3e-e837c5eec32f",
        "outputId": "d37526f6-ae94-480d-d511-ca5e71e4fcfa"
      },
      "outputs": [
        {
          "output_type": "stream",
          "name": "stdout",
          "text": [
            "torch.Size([256, 255, 85])\n",
            "torch.Size([256, 255])\n",
            "torch.Size([256, 85, 255])\n"
          ]
        }
      ],
      "source": [
        "\n",
        "x = next(iter(train_loader))\n",
        "\n",
        "output = model(x[:, :-1])\n",
        "\n",
        "print(output.shape)\n",
        "print(x[:, 1:].shape)\n",
        "\n",
        "print(output.transpose(1, 2).shape)"
      ]
    },
    {
      "cell_type": "code",
      "execution_count": 17,
      "id": "44a3b745-05b2-4d62-8e48-1fc26621cec6",
      "metadata": {
        "colab": {
          "base_uri": "https://localhost:8080/"
        },
        "id": "44a3b745-05b2-4d62-8e48-1fc26621cec6",
        "outputId": "69c7978a-89df-4913-8fc9-0377845e3d6b"
      },
      "outputs": [
        {
          "output_type": "stream",
          "name": "stdout",
          "text": [
            "85\n"
          ]
        }
      ],
      "source": [
        "print(len(dataset.vocab.get_vocabulary()))"
      ]
    },
    {
      "cell_type": "code",
      "execution_count": 18,
      "id": "b4b6c9ca-9620-4245-8663-9cfdc5dfd6b7",
      "metadata": {
        "id": "b4b6c9ca-9620-4245-8663-9cfdc5dfd6b7"
      },
      "outputs": [],
      "source": [
        "@torch.inference_mode()\n",
        "def evaluate(model, loader):\n",
        "    model.eval()\n",
        "\n",
        "    total_loss = 0\n",
        "\n",
        "    for x in tqdm(loader, desc='Evaluation'):\n",
        "        x = x.to(device)\n",
        "\n",
        "        output = model(x[:, :-1]).transpose(1, 2)\n",
        "\n",
        "        loss = loss_fn(output, x[:, 1:])\n",
        "\n",
        "        total_loss += loss.item()\n",
        "\n",
        "    total_loss /= len(loader)\n",
        "\n",
        "    return total_loss"
      ]
    },
    {
      "cell_type": "code",
      "execution_count": 19,
      "id": "26d3b52d-fca6-441a-9053-0ce1767e7a01",
      "metadata": {
        "id": "26d3b52d-fca6-441a-9053-0ce1767e7a01"
      },
      "outputs": [],
      "source": [
        "def plot_stats(\n",
        "    train_loss: list[float],\n",
        "    valid_loss: list[float],\n",
        "    title: str\n",
        "):\n",
        "    plt.figure(figsize=(16, 8))\n",
        "\n",
        "    plt.title(title + ' loss')\n",
        "\n",
        "    plt.plot(train_loss, label='Train loss')\n",
        "    plt.plot(valid_loss, label='Valid loss')\n",
        "    plt.legend()\n",
        "    plt.grid()\n",
        "\n",
        "    plt.show()"
      ]
    },
    {
      "cell_type": "code",
      "execution_count": 20,
      "id": "57d0cd4a-5328-42c2-869f-a9f5c22ddab5",
      "metadata": {
        "id": "57d0cd4a-5328-42c2-869f-a9f5c22ddab5"
      },
      "outputs": [],
      "source": [
        "def whole_train_valid_cycle(model, num_epochs, title):\n",
        "    train_loss_history, valid_loss_history = [], []\n",
        "\n",
        "    for epoch in range(num_epochs):\n",
        "        train_loss = train(model)\n",
        "        valid_loss = evaluate(model, valid_loader)\n",
        "\n",
        "        train_loss_history.append(train_loss)\n",
        "        valid_loss_history.append(valid_loss)\n",
        "\n",
        "        clear_output(wait=True)\n",
        "\n",
        "        plot_stats(\n",
        "            train_loss_history, valid_loss_history,\n",
        "            title\n",
        "        )"
      ]
    },
    {
      "cell_type": "code",
      "execution_count": 21,
      "id": "a1f7d102-5aa3-4c26-a285-3fd873363be8",
      "metadata": {
        "colab": {
          "base_uri": "https://localhost:8080/"
        },
        "id": "a1f7d102-5aa3-4c26-a285-3fd873363be8",
        "outputId": "f62845c8-0cb8-4f97-b20e-4c8ea5f9ec7e"
      },
      "outputs": [
        {
          "output_type": "stream",
          "name": "stdout",
          "text": [
            "cuda:0\n",
            "Tesla T4\n"
          ]
        }
      ],
      "source": [
        "device = torch.device('cuda:0' if torch.cuda.is_available() else 'cpu')\n",
        "\n",
        "print(device)\n",
        "print(torch.cuda.get_device_name())"
      ]
    },
    {
      "cell_type": "code",
      "execution_count": null,
      "id": "9787965d-b11f-41fc-846e-8fe347b2f61b",
      "metadata": {
        "colab": {
          "base_uri": "https://localhost:8080/",
          "height": 546
        },
        "id": "9787965d-b11f-41fc-846e-8fe347b2f61b",
        "outputId": "05104dc2-b680-44b3-fdcb-4f7db032dbda"
      },
      "outputs": [
        {
          "output_type": "display_data",
          "data": {
            "text/plain": [
              "<Figure size 1600x800 with 1 Axes>"
            ],
            "image/png": "[encoded data removed]"
          },
          "metadata": {}
        },
        {
          "output_type": "stream",
          "name": "stderr",
          "text": [
            "Train:  64%|██████▍   | 282/440 [01:20<00:45,  3.49it/s]"
          ]
        }
      ],
      "source": [
        "from torch.optim import Adam\n",
        "\n",
        "\n",
        "model = model.to(device)\n",
        "\n",
        "optimizer = Adam(model.parameters(), lr=5e-3)\n",
        "\n",
        "loss_fn = nn.CrossEntropyLoss(ignore_index=pad_idx)\n",
        "\n",
        "whole_train_valid_cycle(model, 25, 'Anekdote')"
      ]
    },
    {
      "cell_type": "code",
      "source": [],
      "metadata": {
        "id": "9QtobddM-iHh"
      },
      "id": "9QtobddM-iHh",
      "execution_count": null,
      "outputs": []
    }
  ],
  "metadata": {
    "kernelspec": {
      "display_name": "Python 3",
      "name": "python3"
    },
    "language_info": {
      "codemirror_mode": {
        "name": "ipython",
        "version": 3
      },
      "file_extension": ".py",
      "mimetype": "text/x-python",
      "name": "python",
      "nbconvert_exporter": "python",
      "pygments_lexer": "ipython3",
      "version": "3.11.7"
    },
    "colab": {
      "provenance": [],
      "gpuType": "T4"
    },
    "accelerator": "GPU"
  },
  "nbformat": 4,
  "nbformat_minor": 5
}