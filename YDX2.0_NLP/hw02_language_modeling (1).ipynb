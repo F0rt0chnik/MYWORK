{
 "cells": [
  {
   "cell_type": "code",
   "execution_count": 4,
   "metadata": {
    "id": "rhMfGb7wP9L_"
   },
   "outputs": [],
   "source": []
  },
  {
   "cell_type": "markdown",
   "metadata": {
    "id": "RMnDITVhYSIv"
   },
   "source": [
    "### Генерация поэзии с помощью нейронных сетей: шаг 1\n",
    "##### Автор: [Радослав Нейчев](https://www.linkedin.com/in/radoslav-neychev/), @neychev\n",
    "\n",
    "Ваша основная задача: научиться генерироват стихи с помощью простой рекуррентной нейронной сети (Vanilla RNN). В качестве корпуса текстов для обучения будет выступать роман в стихах \"Евгений Онегин\" Александра Сергеевича Пушкина."
   ]
  },
  {
   "cell_type": "code",
   "execution_count": 5,
   "metadata": {
    "id": "9R8NNtkzYSIx"
   },
   "outputs": [],
   "source": [
    "# do not change the code in the block below\n",
    "# __________start of block__________\n",
    "import string\n",
    "import os\n",
    "from random import sample\n",
    "\n",
    "import numpy as np\n",
    "import torch, torch.nn as nn\n",
    "import torch.nn.functional as F\n",
    "\n",
    "from IPython.display import clear_output\n",
    "\n",
    "import matplotlib.pyplot as plt\n",
    "# __________end of block__________"
   ]
  },
  {
   "cell_type": "code",
   "execution_count": 6,
   "metadata": {
    "colab": {
     "base_uri": "https://localhost:8080/"
    },
    "id": "OFghAE7TYSIy",
    "outputId": "3b15f8a7-fce2-4822-ed8b-9cde87120b7f"
   },
   "outputs": [
    {
     "name": "stdout",
     "output_type": "stream",
     "text": [
      "cuda device is available\n"
     ]
    }
   ],
   "source": [
    "# do not change the code in the block below\n",
    "# __________start of block__________\n",
    "device = torch.device('cuda') if torch.cuda.is_available() else torch.device('cpu')\n",
    "print('{} device is available'.format(device))\n",
    "# __________end of block__________"
   ]
  },
  {
   "cell_type": "markdown",
   "metadata": {
    "id": "MPenWOy01Ooa",
    "outputId": "a92e8e33-e009-4bd4-ac12-3b1b5e1cd3f2"
   },
   "source": [
    "#### 1. Загрузка данных."
   ]
  },
  {
   "cell_type": "code",
   "execution_count": 7,
   "metadata": {
    "colab": {
     "base_uri": "https://localhost:8080/"
    },
    "id": "_GONOu75YSIz",
    "outputId": "3d93c2fb-13f2-4186-9545-282ac288b1c1"
   },
   "outputs": [
    {
     "name": "stdout",
     "output_type": "stream",
     "text": [
      "--2024-11-04 09:46:11--  https://raw.githubusercontent.com/neychev/small_DL_repo/master/datasets/onegin.txt\n",
      "Resolving raw.githubusercontent.com (raw.githubusercontent.com)... 185.199.111.133, 185.199.108.133, 185.199.110.133, ...\n",
      "Connecting to raw.githubusercontent.com (raw.githubusercontent.com)|185.199.111.133|:443... connected.\n",
      "HTTP request sent, awaiting response... 200 OK\n",
      "Length: 262521 (256K) [text/plain]\n",
      "Saving to: ‘onegin.txt.5’\n",
      "\n",
      "\r",
      "onegin.txt.5          0%[                    ]       0  --.-KB/s               \r",
      "onegin.txt.5        100%[===================>] 256.37K  --.-KB/s    in 0.004s  \n",
      "\n",
      "2024-11-04 09:46:11 (60.7 MB/s) - ‘onegin.txt.5’ saved [262521/262521]\n",
      "\n"
     ]
    }
   ],
   "source": [
    "# do not change the code in the block below\n",
    "# __________start of block__________\n",
    "!wget https://raw.githubusercontent.com/neychev/small_DL_repo/master/datasets/onegin.txt\n",
    "\n",
    "with open('onegin.txt', 'r') as iofile:\n",
    "    text = iofile.readlines()\n",
    "\n",
    "text = \"\".join([x.replace('\\t\\t', '').lower() for x in text])\n",
    "# __________end of block__________"
   ]
  },
  {
   "cell_type": "markdown",
   "metadata": {
    "id": "XQYpmGfR_gJ8"
   },
   "source": [
    "#### 2. Построение словаря и предобработка текста\n",
    "В данном задании требуется построить языковую модель на уровне символов. Приведем весь текст к нижнему регистру и построим словарь из всех символов в доступном корпусе текстов. Также добавим токен `<sos>`."
   ]
  },
  {
   "cell_type": "code",
   "execution_count": 8,
   "metadata": {
    "colab": {
     "base_uri": "https://localhost:8080/"
    },
    "id": "b4MokKIQYSIz",
    "outputId": "7d7f3f7f-802e-4e93-bcec-daa1698ce0cd"
   },
   "outputs": [
    {
     "name": "stdout",
     "output_type": "stream",
     "text": [
      "Seems fine!\n"
     ]
    }
   ],
   "source": [
    "# do not change the code in the block below\n",
    "# __________start of block__________\n",
    "tokens = sorted(set(text.lower())) + ['<sos>']\n",
    "num_tokens = len(tokens)\n",
    "\n",
    "assert num_tokens == 84, \"Check the tokenization process\"\n",
    "\n",
    "token_to_idx = {x: idx for idx, x in enumerate(tokens)}\n",
    "idx_to_token = {idx: x for idx, x in enumerate(tokens)}\n",
    "\n",
    "assert len(tokens) == len(token_to_idx), \"Mapping should be unique\"\n",
    "\n",
    "print(\"Seems fine!\")\n",
    "\n",
    "\n",
    "text_encoded = [token_to_idx[x] for x in text]\n",
    "# __________end of block__________"
   ]
  },
  {
   "cell_type": "markdown",
   "metadata": {
    "id": "vEwIIYPWYSIz"
   },
   "source": [
    "__Ваша задача__: обучить классическую рекуррентную нейронную сеть (Vanilla RNN) предсказывать следующий символ на полученном корпусе текстов и сгенерировать последовательность длины 100 для фиксированной начальной фразы.\n",
    "\n",
    "Вы можете воспользоваться кодом с занятие №6 или же обратиться к следующим ссылкам:\n",
    "* Замечательная статья за авторством Andrej Karpathy об использовании RNN: [link](http://karpathy.github.io/2015/05/21/rnn-effectiveness/)\n",
    "* Пример char-rnn от Andrej Karpathy: [github repo](https://github.com/karpathy/char-rnn)\n",
    "* Замечательный пример генерации поэзии Шекспира: [github repo](https://github.com/spro/practical-pytorch/blob/master/char-rnn-generation/char-rnn-generation.ipynb)\n",
    "\n",
    "Данное задание является достаточно творческим. Не страшно, если поначалу оно вызывает затруднения. Последняя ссылка в списке выше может быть особенно полезна в данном случае.\n",
    "\n",
    "Далее для вашего удобства реализована функция, которая генерирует случайный батч размера `batch_size` из строк длиной `seq_length`. Вы можете использовать его при обучении модели."
   ]
  },
  {
   "cell_type": "code",
   "execution_count": 9,
   "metadata": {
    "id": "_Ee09Q7xYSI0"
   },
   "outputs": [],
   "source": [
    "# do not change the code in the block below\n",
    "# __________start of block__________\n",
    "batch_size = 256\n",
    "seq_length = 100\n",
    "start_column = np.zeros((batch_size, 1), dtype=int) + token_to_idx['<sos>']\n",
    "\n",
    "def generate_chunk():\n",
    "    global text_encoded, start_column, batch_size, seq_length\n",
    "\n",
    "    start_index = np.random.randint(0, len(text_encoded) - batch_size*seq_length - 1)\n",
    "    data = np.array(text_encoded[start_index:start_index + batch_size*seq_length]).reshape((batch_size, -1))\n",
    "    yield np.hstack((start_column, data))\n",
    "# __________end of block__________"
   ]
  },
  {
   "cell_type": "markdown",
   "metadata": {
    "id": "1qxZxOWLYSI0"
   },
   "source": [
    "Пример батча:"
   ]
  },
  {
   "cell_type": "code",
   "execution_count": 10,
   "metadata": {
    "colab": {
     "base_uri": "https://localhost:8080/"
    },
    "id": "WD733b9-YSI0",
    "outputId": "228b0fca-4224-4211-ecbc-3aac34e2fb4a"
   },
   "outputs": [
    {
     "data": {
      "text/plain": [
       "(256, 101)"
      ]
     },
     "execution_count": 10,
     "metadata": {},
     "output_type": "execute_result"
    }
   ],
   "source": [
    "next(generate_chunk()).shape"
   ]
  },
  {
   "cell_type": "code",
   "execution_count": 11,
   "metadata": {
    "id": "fOhc5l8-iTw7"
   },
   "outputs": [],
   "source": [
    "# def random_training_set():\n",
    "#     # Получаем фрагмент данных из генератора\n",
    "#     chunk = next(generate_chunk())\n",
    "\n",
    "#     # inp — это все символы, кроме последнего в каждой строке\n",
    "#     # target — это все символы, начиная со второго, т.е. сдвинутые на один символ вправо\n",
    "#     inp = torch.tensor(chunk[:, :-1], dtype=torch.int)     # Все строки, кроме последнего столбца\n",
    "#     target = torch.tensor(chunk[:, 1:], dtype=torch.int)   # Все строки, начиная со второго столбца\n",
    "\n",
    "#     return inp, target"
   ]
  },
  {
   "cell_type": "code",
   "execution_count": 12,
   "metadata": {
    "colab": {
     "base_uri": "https://localhost:8080/"
    },
    "id": "ULfjsMQC9zM5",
    "outputId": "9092f6bc-f124-45ca-ad91-bba0cbb95ea6"
   },
   "outputs": [
    {
     "data": {
      "text/plain": [
       "(256, 101)"
      ]
     },
     "execution_count": 12,
     "metadata": {},
     "output_type": "execute_result"
    }
   ],
   "source": [
    "next(generate_chunk()).shape"
   ]
  },
  {
   "cell_type": "markdown",
   "metadata": {
    "id": "zhN319XXYSI0"
   },
   "source": [
    "Далее вам предстоит написать код для обучения модели и генерации текста."
   ]
  },
  {
   "cell_type": "code",
   "execution_count": 13,
   "metadata": {
    "id": "r83lySNoYSI1"
   },
   "outputs": [],
   "source": [
    "class RNN(nn.Module):\n",
    "    def __init__(self, num_tokens, hidden_size, output_size=None, n_layers=1, device='cpu'):\n",
    "        super(RNN, self).__init__()\n",
    "        self.num_tokens = num_tokens\n",
    "        self.hidden_size = hidden_size\n",
    "        self.output_size = output_size if output_size else num_tokens\n",
    "        self.n_layers = n_layers\n",
    "        self.device = device\n",
    "\n",
    "        # Embedding слой для преобразования индексов токенов в вектора\n",
    "        self.encoder = nn.Embedding(num_tokens, hidden_size)\n",
    "\n",
    "        # GRU слой для обработки последовательностей\n",
    "        self.gru = nn.GRU(hidden_size, hidden_size, n_layers, batch_first=True)\n",
    "\n",
    "        # Полносвязный слой для предсказания на каждом временном шаге\n",
    "        self.decoder = nn.Linear(hidden_size, self.output_size)\n",
    "\n",
    "    def forward(self, input, hidden):\n",
    "        # Пропускаем входные индексы через Embedding слой\n",
    "        input = self.encoder(input)  # Форма: (batch_size, seq_length, hidden_size)\n",
    "\n",
    "        # Передача данных через GRU слой\n",
    "        output, hidden = self.gru(input, hidden)  # Форма output: (batch_size, seq_length, hidden_size)\n",
    "\n",
    "        # Преобразование скрытых состояний в предсказания\n",
    "        output = self.decoder(output)  # Форма: (batch_size, seq_length, output_size)\n",
    "\n",
    "        return output, hidden\n",
    "\n",
    "    def init_hidden(self, batch_size):\n",
    "        # Инициализация скрытого состояния\n",
    "        return torch.zeros(self.n_layers, batch_size, self.hidden_size, device=self.device)\n",
    "\n"
   ]
  },
  {
   "cell_type": "code",
   "execution_count": 14,
   "metadata": {
    "id": "JyBRpppQviep"
   },
   "outputs": [],
   "source": [
    "import time, math\n",
    "\n",
    "def time_since(since):\n",
    "    s = time.time() - since\n",
    "    m = math.floor(s / 60)\n",
    "    s -= m * 60\n",
    "    return '%dm %ds' % (m, s)\n",
    "\n",
    "def train(inp, target, model, criterion, optimizer):\n",
    "    batch_size, seq_length = inp.size()\n",
    "    hidden = model.init_hidden(batch_size)\n",
    "\n",
    "    model.zero_grad()  # Обнуляем градиенты\n",
    "    loss = 0\n",
    "\n",
    "    # Прямой проход через модель\n",
    "    output, hidden = model(inp, hidden)  # Полная последовательность передаётся разом\n",
    "\n",
    "    # Преобразование выходов и целевых меток для расчёта функции потерь\n",
    "    output = output.view(-1, model.output_size)  # Преобразуем в (batch_size * seq_length, output_size)\n",
    "    target = target.view(-1)                     # Преобразуем в (batch_size * seq_length)\n",
    "\n",
    "    # Вычисление функции потерь\n",
    "    loss = criterion(output, target)\n",
    "\n",
    "    # Обратное распространение ошибки\n",
    "    loss.backward()\n",
    "    optimizer.step()\n",
    "\n",
    "    return loss.item()"
   ]
  },
  {
   "cell_type": "code",
   "execution_count": 15,
   "metadata": {
    "colab": {
     "base_uri": "https://localhost:8080/"
    },
    "id": "abkRS1m2vzc1",
    "outputId": "117250d1-ba3c-4ea3-a504-5ad6c0036553"
   },
   "outputs": [
    {
     "name": "stdout",
     "output_type": "stream",
     "text": [
      "[0m 3s (100 1%) 3.3143]\n",
      "[0m 6s (200 2%) 3.2485]\n",
      "[0m 9s (300 3%) 2.8415]\n",
      "[0m 12s (400 4%) 2.5865]\n",
      "[0m 15s (500 5%) 2.4588]\n",
      "[0m 18s (600 6%) 2.3339]\n",
      "[0m 21s (700 7%) 2.2327]\n",
      "[0m 24s (800 8%) 2.1554]\n",
      "[0m 27s (900 9%) 2.0833]\n",
      "[0m 30s (1000 10%) 2.0776]\n",
      "[0m 33s (1100 11%) 2.0204]\n",
      "[0m 36s (1200 12%) 1.9805]\n",
      "[0m 39s (1300 13%) 1.8586]\n",
      "[0m 42s (1400 14%) 1.8609]\n",
      "[0m 45s (1500 15%) 1.7822]\n",
      "[0m 48s (1600 16%) 1.7584]\n",
      "[0m 52s (1700 17%) 1.7712]\n",
      "[0m 55s (1800 18%) 1.7238]\n",
      "[0m 58s (1900 19%) 1.7161]\n",
      "[1m 1s (2000 20%) 1.7955]\n",
      "[1m 4s (2100 21%) 1.6435]\n",
      "[1m 7s (2200 22%) 1.6147]\n",
      "[1m 10s (2300 23%) 1.5725]\n",
      "[1m 13s (2400 24%) 1.5901]\n",
      "[1m 16s (2500 25%) 1.4844]\n",
      "[1m 19s (2600 26%) 1.4674]\n",
      "[1m 22s (2700 27%) 1.5992]\n",
      "[1m 25s (2800 28%) 1.5266]\n",
      "[1m 28s (2900 28%) 1.4494]\n",
      "[1m 31s (3000 30%) 1.5215]\n",
      "[1m 34s (3100 31%) 1.3934]\n",
      "[1m 37s (3200 32%) 1.3758]\n",
      "[1m 40s (3300 33%) 1.3169]\n",
      "[1m 43s (3400 34%) 1.3567]\n",
      "[1m 46s (3500 35%) 1.2597]\n",
      "[1m 49s (3600 36%) 1.2768]\n",
      "[1m 52s (3700 37%) 1.2162]\n",
      "[1m 55s (3800 38%) 1.1884]\n",
      "[1m 58s (3900 39%) 1.2060]\n",
      "[2m 1s (4000 40%) 1.1920]\n",
      "[2m 4s (4100 41%) 1.1760]\n",
      "[2m 7s (4200 42%) 1.1399]\n",
      "[2m 10s (4300 43%) 1.1444]\n",
      "[2m 13s (4400 44%) 1.3956]\n",
      "[2m 16s (4500 45%) 1.1452]\n",
      "[2m 19s (4600 46%) 1.0810]\n",
      "[2m 22s (4700 47%) 1.0375]\n",
      "[2m 25s (4800 48%) 1.0303]\n",
      "[2m 28s (4900 49%) 1.4824]\n",
      "[2m 31s (5000 50%) 1.3897]\n",
      "[2m 34s (5100 51%) 1.0131]\n",
      "[2m 37s (5200 52%) 0.9953]\n",
      "[2m 40s (5300 53%) 0.9721]\n",
      "[2m 43s (5400 54%) 0.9196]\n",
      "[2m 47s (5500 55%) 0.9430]\n",
      "[2m 50s (5600 56%) 1.0683]\n",
      "[2m 53s (5700 56%) 1.3820]\n",
      "[2m 56s (5800 57%) 0.9503]\n",
      "[2m 59s (5900 59%) 0.9128]\n",
      "[3m 2s (6000 60%) 0.9393]\n",
      "[3m 5s (6100 61%) 0.9362]\n",
      "[3m 8s (6200 62%) 1.0585]\n",
      "[3m 11s (6300 63%) 0.9414]\n",
      "[3m 14s (6400 64%) 0.8708]\n",
      "[3m 17s (6500 65%) 0.9217]\n",
      "[3m 20s (6600 66%) 1.1038]\n",
      "[3m 23s (6700 67%) 0.9137]\n",
      "[3m 26s (6800 68%) 0.8200]\n",
      "[3m 29s (6900 69%) 0.8772]\n",
      "[3m 32s (7000 70%) 0.8637]\n",
      "[3m 35s (7100 71%) 0.8662]\n",
      "[3m 38s (7200 72%) 0.8271]\n",
      "[3m 41s (7300 73%) 0.7784]\n",
      "[3m 44s (7400 74%) 0.8254]\n",
      "[3m 47s (7500 75%) 0.8223]\n",
      "[3m 50s (7600 76%) 0.8165]\n",
      "[3m 53s (7700 77%) 1.0000]\n",
      "[3m 56s (7800 78%) 0.8034]\n",
      "[3m 59s (7900 79%) 1.2167]\n",
      "[4m 2s (8000 80%) 0.7444]\n",
      "[4m 5s (8100 81%) 0.7702]\n",
      "[4m 8s (8200 82%) 0.8795]\n",
      "[4m 11s (8300 83%) 1.1121]\n",
      "[4m 14s (8400 84%) 0.7428]\n",
      "[4m 17s (8500 85%) 0.7150]\n",
      "[4m 20s (8600 86%) 0.7590]\n",
      "[4m 23s (8700 87%) 1.2493]\n",
      "[4m 26s (8800 88%) 0.7335]\n",
      "[4m 29s (8900 89%) 1.1052]\n",
      "[4m 33s (9000 90%) 0.7384]\n",
      "[4m 36s (9100 91%) 0.7318]\n",
      "[4m 39s (9200 92%) 1.1434]\n",
      "[4m 42s (9300 93%) 0.8731]\n",
      "[4m 45s (9400 94%) 0.7036]\n",
      "[4m 48s (9500 95%) 0.7040]\n",
      "[4m 51s (9600 96%) 1.0629]\n",
      "[4m 54s (9700 97%) 0.6896]\n",
      "[4m 57s (9800 98%) 0.7053]\n",
      "[5m 0s (9900 99%) 0.7228]\n",
      "[5m 3s (10000 100%) 0.7098]\n"
     ]
    }
   ],
   "source": [
    "n_epochs = 10000\n",
    "print_every = 100\n",
    "plot_every = 10\n",
    "hidden_size = 128\n",
    "n_layers = 4\n",
    "lr = 0.0003\n",
    "\n",
    "model = RNN(num_tokens=num_tokens, hidden_size=hidden_size, n_layers=n_layers, device=device).to(device)\n",
    "decoder_optimizer = torch.optim.Adam(model.parameters(), lr=lr)\n",
    "criterion = nn.CrossEntropyLoss()\n",
    "\n",
    "start = time.time()\n",
    "all_losses = []\n",
    "loss_avg = 0\n",
    "\n",
    "for epoch in range(1, n_epochs + 1):\n",
    "    chunk = next(generate_chunk())\n",
    "    i = torch.tensor(chunk[:, :-1], dtype=torch.long).to(device)\n",
    "    p = torch.tensor(chunk[:, 1:], dtype=torch.long).to(device)\n",
    "    loss = train(i, p, model, criterion, decoder_optimizer)\n",
    "    loss_avg += loss\n",
    "\n",
    "    if epoch % print_every == 0:\n",
    "        print('[%s (%d %d%%) %.4f]' % (time_since(start), epoch, epoch / n_epochs * 100, loss))\n",
    "\n",
    "\n",
    "    if epoch % plot_every == 0:\n",
    "        all_losses.append(loss_avg / plot_every)\n",
    "        loss_avg = 0"
   ]
  },
  {
   "cell_type": "markdown",
   "metadata": {
    "id": "Vt_y_KXvYSI1"
   },
   "source": [
    "В качестве иллюстрации ниже доступен график значений функции потерь, построенный в ходе обучения авторской сети (сам код для ее обучения вам и предстоит написать)."
   ]
  },
  {
   "cell_type": "code",
   "execution_count": 16,
   "metadata": {
    "colab": {
     "base_uri": "https://localhost:8080/",
     "height": 448
    },
    "id": "gfH4fpElYSI1",
    "outputId": "6d48f757-7694-449b-b329-f0464578b8ca"
   },
   "outputs": [
    {
     "data": {
      "text/plain": [
       "[<matplotlib.lines.Line2D at 0x7e09a15163b0>]"
      ]
     },
     "execution_count": 16,
     "metadata": {},
     "output_type": "execute_result"
    },
    {
     "data": {
      "image/png": "[encoded data removed]",
      "text/plain": [
       "<Figure size 640x480 with 1 Axes>"
      ]
     },
     "metadata": {},
     "output_type": "display_data"
    }
   ],
   "source": [
    "import matplotlib.pyplot as plt\n",
    "import matplotlib.ticker as ticker\n",
    "%matplotlib inline\n",
    "\n",
    "plt.figure()\n",
    "plt.plot(all_losses)"
   ]
  },
  {
   "cell_type": "markdown",
   "metadata": {
    "id": "ZiSb04f_YSI1"
   },
   "source": [
    "Шаблон функции `generate_sample` также доступен ниже. Вы можете как дозаполнить его, так и написать свою собственную функцию с нуля. Не забывайте, что все примеры в обучающей выборке начинались с токена `<sos>`."
   ]
  },
  {
   "cell_type": "code",
   "execution_count": 17,
   "metadata": {
    "id": "xCk3LSrDYSI1"
   },
   "outputs": [],
   "source": [
    "def generate_sample(char_rnn, seed_phrase=None, max_length=200, temperature=1.0, device=device):\n",
    "    '''\n",
    "    The function generates text given a phrase of length at least SEQ_LENGTH.\n",
    "    :param seed_phrase: prefix characters. The RNN is asked to continue the phrase\n",
    "    :param max_length: maximum output length, including seed_phrase\n",
    "    :param temperature: coefficient for sampling. higher temperature produces more chaotic outputs,\n",
    "                        smaller temperature converges to the single most likely output\n",
    "    '''\n",
    "\n",
    "    # Преобразуем seed_phrase в тензор индексов токенов\n",
    "    if seed_phrase is not None:\n",
    "        x_sequence = [token_to_idx['<sos>']] + [token_to_idx[token] for token in seed_phrase]\n",
    "        predicted = seed_phrase\n",
    "    else:\n",
    "        x_sequence = [token_to_idx['<sos>']]\n",
    "        predicted = \"\"\n",
    "\n",
    "    x_sequence = torch.tensor([x_sequence], dtype=torch.int64).to(device)\n",
    "\n",
    "    # Инициализация скрытого состояния\n",
    "    hidden = char_rnn.init_hidden(batch_size=1)\n",
    "\n",
    "    # Проход по начальной фразе для \"настройки\" скрытого состояния\n",
    "    for p in range(len(x_sequence[0]) - 1):\n",
    "        _, hidden = char_rnn(x_sequence[:, p].unsqueeze(0), hidden)\n",
    "    inp = x_sequence[:, -1].unsqueeze(0)\n",
    "\n",
    "    # Генерация текста\n",
    "    for _ in range(max_length - len(predicted)):\n",
    "        output, hidden = char_rnn(inp, hidden)\n",
    "\n",
    "        # Выбор следующего символа из распределения вероятностей\n",
    "        output_dist = output.data.view(-1).div(temperature).exp()\n",
    "        top_i = torch.multinomial(output_dist, 1)[0]\n",
    "\n",
    "        # Добавление сгенерированного символа в строку и обновление входа\n",
    "        predicted_char = tokens[top_i]\n",
    "        predicted += predicted_char\n",
    "        inp = torch.tensor([[top_i]], dtype=torch.int64).to(device)\n",
    "\n",
    "    return predicted\n"
   ]
  },
  {
   "cell_type": "markdown",
   "metadata": {
    "id": "UgpciOx-YSI1"
   },
   "source": [
    "Пример текста сгенерированного обученной моделью доступен ниже. Не страшно, что в тексте много несуществующих слов. Используемая модель очень проста: это простая классическая RNN."
   ]
  },
  {
   "cell_type": "code",
   "execution_count": 20,
   "metadata": {
    "colab": {
     "base_uri": "https://localhost:8080/"
    },
    "id": "jrUMPtXjYSI1",
    "outputId": "e845bddd-5a1a-4a72-9e10-41c58a998b64"
   },
   "outputs": [
    {
     "name": "stdout",
     "output_type": "stream",
     "text": [
      " мой дядя самых честных правил.\n",
      "как мачат ей в чертой задумала,\n",
      "с коня что ж? махнула горы,\n",
      "дремочусь, про от колено ленский,\n",
      "владимир ольгу был рожден\n",
      "забав нашее верного сохраний,\n",
      "что на гранится гостей. нетерпелицой,\n",
      "велиной страшен зарете,\n",
      "под ней заменился, милый взор\n",
      "изображает сумраблюдую,\n",
      "по весь полей простоле\n",
      "приехал летов и всех напом,\n",
      "на с ним полей не хотели,\n",
      "и в самом лестит угрозы,\n",
      "вы не видит он не предвежда,\n",
      "и мосье певец ей нет!\n",
      "как их поведу ламенился;\n",
      "потом на старый муг досе\n"
     ]
    }
   ],
   "source": [
    "print(generate_sample(model, ' мой дядя самых честных правил', max_length=500, temperature=0.5))"
   ]
  },
  {
   "cell_type": "markdown",
   "metadata": {
    "id": "yu1-j1hRYSI1"
   },
   "source": [
    "### Сдача задания\n",
    "Сгенерируйте десять последовательностей длиной 500, используя строку ' мой дядя самых честных правил'. Температуру для генерации выберите самостоятельно на основании визуального качества генериуремого текста. Не забудьте удалить все технические токены в случае их наличия.\n",
    "\n",
    "Сгенерированную последовательность сохрание в переменную `generated_phrase` и сдайте сгенерированный ниже файл в контест."
   ]
  },
  {
   "cell_type": "code",
   "execution_count": null,
   "metadata": {
    "id": "a6asUkfyYSI1"
   },
   "outputs": [],
   "source": [
    "seed_phrase = ' мой дядя самых честных правил'"
   ]
  },
  {
   "cell_type": "code",
   "execution_count": 22,
   "metadata": {
    "id": "KL2hs7puYSI1"
   },
   "outputs": [],
   "source": [
    "generated_phrases = [generate_sample(model, ' мой дядя самых честных правил', max_length=500, temperature=0.5).replace('<sos>', '')\\\n",
    "                     for _ in range(10)\n",
    "]# your code here\n",
    "\n",
    "# For example:\n",
    "\n",
    "# generated_phrases = [\n",
    "#     generate_sample(\n",
    "#         model,\n",
    "#         ' мой дядя самых честных правил',\n",
    "#         max_length=500,\n",
    "#         temperature=1.\n",
    "#     ).replace('<sos>', '')\n",
    "#     for _ in range(10)\n",
    "# ]"
   ]
  },
  {
   "cell_type": "code",
   "execution_count": 25,
   "metadata": {
    "colab": {
     "base_uri": "https://localhost:8080/"
    },
    "id": "1KzAfJIxl5fm",
    "outputId": "1acf8fb6-2b46-4363-9b98-bf1929b6a03b"
   },
   "outputs": [
    {
     "data": {
      "text/plain": [
       "10"
      ]
     },
     "execution_count": 25,
     "metadata": {},
     "output_type": "execute_result"
    }
   ],
   "source": [
    "len(generated_phrases)"
   ]
  },
  {
   "cell_type": "code",
   "execution_count": 24,
   "metadata": {
    "colab": {
     "base_uri": "https://localhost:8080/"
    },
    "id": "y6KyxIO8YSI2",
    "outputId": "08c4de24-59ad-4f91-d456-c2a0ae6ff61c"
   },
   "outputs": [
    {
     "name": "stdout",
     "output_type": "stream",
     "text": [
      "File saved to `submission_dict.json`\n"
     ]
    }
   ],
   "source": [
    "# do not change the code in the block below\n",
    "# __________start of block__________\n",
    "\n",
    "import json\n",
    "if 'generated_phrases' not in locals():\n",
    "    raise ValueError(\"Please, save generated phrases to `generated_phrases` variable\")\n",
    "\n",
    "for phrase in generated_phrases:\n",
    "\n",
    "    if not isinstance(phrase, str):\n",
    "        raise ValueError(\"The generated phrase should be a string\")\n",
    "\n",
    "    if len(phrase) != 500:\n",
    "        raise ValueError(\"The `generated_phrase` length should be equal to 500\")\n",
    "\n",
    "    assert all([x in set(tokens) for x in set(list(phrase))]), 'Unknown tokens detected, check your submission!'\n",
    "\n",
    "\n",
    "submission_dict = {\n",
    "    'token_to_idx': token_to_idx,\n",
    "    'generated_phrases': generated_phrases\n",
    "}\n",
    "\n",
    "with open('submission_dict.json', 'w') as iofile:\n",
    "    json.dump(submission_dict, iofile)\n",
    "print('File saved to `submission_dict.json`')\n",
    "# __________end of block__________"
   ]
  },
  {
   "cell_type": "markdown",
   "metadata": {
    "id": "s1BpZQLgYSI2"
   },
   "source": [
    "На этом задание завершено. Поздравляем!"
   ]
  }
 ],
 "metadata": {
  "accelerator": "GPU",
  "anaconda-cloud": {},
  "colab": {
   "gpuType": "T4",
   "provenance": []
  },
  "kernelspec": {
   "display_name": "Python 3 (ipykernel)",
   "language": "python",
   "name": "python3"
  },
  "language_info": {
   "codemirror_mode": {
    "name": "ipython",
    "version": 3
   },
   "file_extension": ".py",
   "mimetype": "text/x-python",
   "name": "python",
   "nbconvert_exporter": "python",
   "pygments_lexer": "ipython3",
   "version": "3.11.7"
  }
 },
 "nbformat": 4,
 "nbformat_minor": 4
}
