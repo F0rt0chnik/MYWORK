{
 "cells": [
  {
   "cell_type": "code",
   "execution_count": 12,
   "id": "a3932faf-ab71-4544-bf6f-ffda97529b4a",
   "metadata": {},
   "outputs": [],
   "source": [
    "import pandas as pd\n",
    "from sklearn.model_selection import train_test_split, GridSearchCV\n",
    "from sklearn.ensemble import RandomForestRegressor, RandomForestClassifier\n",
    "from sklearn.preprocessing import OneHotEncoder, StandardScaler\n",
    "from sklearn.compose import ColumnTransformer\n",
    "from sklearn.pipeline import Pipeline\n",
    "from sklearn.metrics import mean_squared_error, accuracy_score\n",
    "import numpy as np"
   ]
  },
  {
   "cell_type": "code",
   "execution_count": 13,
   "id": "1abedf6a-ac91-43cb-b8f2-f1ada95c385e",
   "metadata": {},
   "outputs": [],
   "source": [
    "df = pd.read_excel(\"\")"
   ]
  },
  {
   "cell_type": "code",
   "execution_count": 1,
   "id": "e37069ce-6374-49fc-9c81-083a63f8c02a",
   "metadata": {},
   "outputs": [
    {
     "ename": "NameError",
     "evalue": "name 'df' is not defined",
     "output_type": "error",
     "traceback": [
      "\u001b[0;31m---------------------------------------------------------------------------\u001b[0m",
      "\u001b[0;31mNameError\u001b[0m                                 Traceback (most recent call last)",
      "Cell \u001b[0;32mIn[1], line 1\u001b[0m\n\u001b[0;32m----> 1\u001b[0m X \u001b[38;5;241m=\u001b[39m df\u001b[38;5;241m.\u001b[39mdrop([\u001b[38;5;124m'\u001b[39m\u001b[38;5;124mОценка (без пересдач)\u001b[39m\u001b[38;5;124m'\u001b[39m, \u001b[38;5;124m'\u001b[39m\u001b[38;5;124mОценка (успеваемость)\u001b[39m\u001b[38;5;124m'\u001b[39m], axis\u001b[38;5;241m=\u001b[39m\u001b[38;5;241m1\u001b[39m)\n\u001b[1;32m      2\u001b[0m y_no_retakes \u001b[38;5;241m=\u001b[39m df[\u001b[38;5;124m'\u001b[39m\u001b[38;5;124mОценка (без пересдач)\u001b[39m\u001b[38;5;124m'\u001b[39m]\n\u001b[1;32m      3\u001b[0m y_performance \u001b[38;5;241m=\u001b[39m df[\u001b[38;5;124m'\u001b[39m\u001b[38;5;124mОценка (успеваемость)\u001b[39m\u001b[38;5;124m'\u001b[39m]\n",
      "\u001b[0;31mNameError\u001b[0m: name 'df' is not defined"
     ]
    }
   ],
   "source": [
    "X = df.drop(['Оценка (без пересдач)', 'Оценка (успеваемость)'], axis=1)\n",
    "y_no_retakes = df['Оценка (без пересдач)']\n",
    "y_performance = df['Оценка (успеваемость)']"
   ]
  },
  {
   "cell_type": "code",
   "execution_count": null,
   "id": "19a338db-823a-4b63-95a9-c47a217729b1",
   "metadata": {},
   "outputs": [],
   "source": [
    "categorical_features = ['Уровень подготовки', 'Учебная группа', 'Специальность/направление', 'Учебный год', 'Полугодие', 'Дисциплина']\n",
    "one_hot_encoder = OneHotEncoder(handle_unknown='ignore')\n",
    "\n",
    "# Создание колонного трансформера\n",
    "preprocessor = ColumnTransformer(\n",
    "    transformers=[\n",
    "        ('cat', one_hot_encoder, categorical_features)\n",
    "    ])\n",
    "\n",
    "# Создание пайплайна для RandomForestRegressor\n",
    "model_no_retakes = Pipeline(steps=[\n",
    "    ('preprocessor', preprocessor),\n",
    "    ('regressor', RandomForestRegressor(n_estimators=100, max_depth=20, random_state=42, verbose=1))\n",
    "])\n",
    "\n",
    "# Создание пайплайна для RandomForestClassifier\n",
    "model_performance = Pipeline(steps=[\n",
    "    ('preprocessor', preprocessor),\n",
    "    ('classifier', RandomForestClassifier(n_estimators=100, max_depth=20, random_state=42, verbose=1))\n",
    "])\n",
    "\n",
    "# Разделение данных на обучающую и тестовую выборки\n",
    "X_train, X_test, y_train_no_retakes, y_test_no_retakes = train_test_split(X, y_no_retakes, test_size=0.15, random_state=42)\n",
    "X_train, X_test, y_train_performance, y_test_performance = train_test_split(X, y_performance, test_size=0.15, random_state=42)\n",
    "\n",
    "# Обучение модели RandomForestRegressor\n",
    "model_no_retakes.fit(X_train, y_train_no_retakes)\n",
    "\n",
    "# Обучение модели RandomForestClassifier\n",
    "model_performance.fit(X_train, y_train_performance)\n"
   ]
  }
 ],
 "metadata": {
  "kernelspec": {
   "display_name": "Python 3 (ipykernel)",
   "language": "python",
   "name": "python3"
  },
  "language_info": {
   "codemirror_mode": {
    "name": "ipython",
    "version": 3
   },
   "file_extension": ".py",
   "mimetype": "text/x-python",
   "name": "python",
   "nbconvert_exporter": "python",
   "pygments_lexer": "ipython3",
   "version": "3.11.7"
  }
 },
 "nbformat": 4,
 "nbformat_minor": 5
}
